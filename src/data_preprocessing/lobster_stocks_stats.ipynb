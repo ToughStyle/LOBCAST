{
 "cells": [
  {
   "cell_type": "code",
   "execution_count": 3,
   "metadata": {
    "pycharm": {
     "name": "#%%\n"
    }
   },
   "outputs": [
    {
     "name": "stdout",
     "output_type": "stream",
     "text": [
      "/home/novella/PycharmProjects/stock-price-trend-prediction-remote-matteo\n"
     ]
    }
   ],
   "source": [
    "cd ../../"
   ]
  },
  {
   "cell_type": "code",
   "execution_count": 211,
   "metadata": {
    "pycharm": {
     "name": "#%%\n"
    }
   },
   "outputs": [
    {
     "name": "stdout",
     "output_type": "stream",
     "text": [
      "/home/novella/PycharmProjects/stock-price-trend-prediction-remote-matteo\n"
     ]
    }
   ],
   "source": [
    "import os\n",
    "import pandas as pd\n",
    "import matplotlib.pyplot as plt\n",
    "import plotly.express as px\n",
    "\n",
    "from sklearn.cluster import MeanShift, KMeans\n",
    "import numpy as np\n",
    "import pickle\n",
    "\n",
    "import src.utils.lob_util as lbu\n",
    "import src.config as co\n",
    "\n",
    "np.random.seed(0)\n",
    "plt.rcParams[\"figure.figsize\"] = (16,9)\n",
    "\n",
    "print(os.getcwd())"
   ]
  },
  {
   "cell_type": "code",
   "execution_count": 212,
   "metadata": {
    "pycharm": {
     "name": "#%%\n"
    }
   },
   "outputs": [],
   "source": [
    "PATH_NAME = \"data/LOBSTER_6/unzipped/\"\n",
    "STOCKS_FNAME = [\"_data_dwn_48_332__{}_2021-07-01_2021-08-06_10\", \"_data_dwn_48_332__{}_2020-03-01_2020-04-03_10\"]\n",
    "STOCKS_PAIRS = [(\"AAPL\", \"NVDA\"), (\"ZM\", \"AAWW\"), (\"AGNC\", \"LYFT\")]\n",
    "STOCKS = [\"AAPL\", \"TSLA\", \"ZM\", \"AAWW\", \"AGNC\", \"LYFT\"]"
   ]
  },
  {
   "cell_type": "code",
   "execution_count": 251,
   "metadata": {
    "pycharm": {
     "name": "#%%\n"
    }
   },
   "outputs": [
    {
     "name": "stdout",
     "output_type": "stream",
     "text": [
      "Loading pickle...\n",
      "Loading pickle...\n"
     ]
    }
   ],
   "source": [
    "scenarios = [0, 1]\n",
    "mids = {0:None, 1:None}\n",
    "for scen in scenarios:\n",
    "    daily_midprice = pd.DataFrame()\n",
    "    RETURNS_FNAME = \"data/LOBSTER_6/price_return_df_5_scen{}.dat\".format(scen)\n",
    "\n",
    "    if not os.path.exists(RETURNS_FNAME):\n",
    "\n",
    "        for i, i_stock in enumerate(STOCKS):\n",
    "            print(\"Processing stock\", i, i_stock)\n",
    "\n",
    "            stock_path = PATH_NAME + STOCKS_FNAME[scen].format(i_stock)\n",
    "                \n",
    "            tra_days = os.listdir(stock_path)\n",
    "            tra_days.sort()\n",
    "\n",
    "            out_df = lbu.from_folder_to_unique_df(\n",
    "                stock_path,\n",
    "                level=10,\n",
    "                granularity=co.Granularity.Sec1,\n",
    "                boundaries_purge=0\n",
    "            )\n",
    "            out_df = out_df.fillna(method=\"ffill\")\n",
    "            daily_midprice[i_stock] = (out_df.loc[:, \"psell1\"] + out_df.loc[:, \"pbuy1\"]) / (2 * 10000)\n",
    "            \n",
    "            print(\"HAS CORRECT SHAPE?\", out_df.shape[0], out_df.shape[0] == 60*60*6.5*25)\n",
    "            out_df = None\n",
    "        \n",
    "        mids[scen] = daily_midprice\n",
    "        \n",
    "        with open(RETURNS_FNAME, \"wb\") as f:\n",
    "             pickle.dump(daily_midprice, f)\n",
    "    else:\n",
    "        print(\"Loading pickle...\")\n",
    "        with open(RETURNS_FNAME, \"rb\") as f:\n",
    "            daily_midprice = pickle.load(f)\n",
    "        \n",
    "        mids[scen] = daily_midprice"
   ]
  },
  {
   "cell_type": "code",
   "execution_count": 320,
   "metadata": {
    "pycharm": {
     "name": "#%%\n"
    }
   },
   "outputs": [
    {
     "data": {
      "text/plain": [
       "True"
      ]
     },
     "execution_count": 320,
     "metadata": {},
     "output_type": "execute_result"
    }
   ],
   "source": [
    "daily_midprice = mids[1]\n",
    "daily_midprice.shape[0] == 60*60*6.5*25"
   ]
  },
  {
   "cell_type": "code",
   "execution_count": 321,
   "metadata": {
    "pycharm": {
     "name": "#%%\n"
    }
   },
   "outputs": [
    {
     "data": {
      "text/html": [
       "<div>\n",
       "<style scoped>\n",
       "    .dataframe tbody tr th:only-of-type {\n",
       "        vertical-align: middle;\n",
       "    }\n",
       "\n",
       "    .dataframe tbody tr th {\n",
       "        vertical-align: top;\n",
       "    }\n",
       "\n",
       "    .dataframe thead th {\n",
       "        text-align: right;\n",
       "    }\n",
       "</style>\n",
       "<table border=\"1\" class=\"dataframe\">\n",
       "  <thead>\n",
       "    <tr style=\"text-align: right;\">\n",
       "      <th></th>\n",
       "      <th>AAPL</th>\n",
       "      <th>TSLA</th>\n",
       "      <th>ZM</th>\n",
       "      <th>AAWW</th>\n",
       "      <th>AGNC</th>\n",
       "      <th>LYFT</th>\n",
       "    </tr>\n",
       "    <tr>\n",
       "      <th>date</th>\n",
       "      <th></th>\n",
       "      <th></th>\n",
       "      <th></th>\n",
       "      <th></th>\n",
       "      <th></th>\n",
       "      <th></th>\n",
       "    </tr>\n",
       "  </thead>\n",
       "  <tbody>\n",
       "    <tr>\n",
       "      <th>2020-03-02 09:30:00</th>\n",
       "      <td>282.270</td>\n",
       "      <td>711.600</td>\n",
       "      <td>109.615</td>\n",
       "      <td>26.725</td>\n",
       "      <td>17.390</td>\n",
       "      <td>38.450</td>\n",
       "    </tr>\n",
       "    <tr>\n",
       "      <th>2020-03-02 09:30:01</th>\n",
       "      <td>282.405</td>\n",
       "      <td>712.385</td>\n",
       "      <td>109.575</td>\n",
       "      <td>27.000</td>\n",
       "      <td>17.280</td>\n",
       "      <td>38.495</td>\n",
       "    </tr>\n",
       "    <tr>\n",
       "      <th>2020-03-02 09:30:02</th>\n",
       "      <td>282.345</td>\n",
       "      <td>712.470</td>\n",
       "      <td>109.395</td>\n",
       "      <td>27.150</td>\n",
       "      <td>17.255</td>\n",
       "      <td>38.450</td>\n",
       "    </tr>\n",
       "    <tr>\n",
       "      <th>2020-03-02 09:30:03</th>\n",
       "      <td>282.390</td>\n",
       "      <td>713.790</td>\n",
       "      <td>109.400</td>\n",
       "      <td>26.880</td>\n",
       "      <td>17.225</td>\n",
       "      <td>38.465</td>\n",
       "    </tr>\n",
       "    <tr>\n",
       "      <th>2020-03-02 09:30:04</th>\n",
       "      <td>283.145</td>\n",
       "      <td>714.430</td>\n",
       "      <td>109.425</td>\n",
       "      <td>27.100</td>\n",
       "      <td>17.240</td>\n",
       "      <td>38.430</td>\n",
       "    </tr>\n",
       "    <tr>\n",
       "      <th>...</th>\n",
       "      <td>...</td>\n",
       "      <td>...</td>\n",
       "      <td>...</td>\n",
       "      <td>...</td>\n",
       "      <td>...</td>\n",
       "      <td>...</td>\n",
       "    </tr>\n",
       "    <tr>\n",
       "      <th>2020-04-03 15:59:55</th>\n",
       "      <td>241.455</td>\n",
       "      <td>479.395</td>\n",
       "      <td>128.005</td>\n",
       "      <td>20.160</td>\n",
       "      <td>9.505</td>\n",
       "      <td>22.025</td>\n",
       "    </tr>\n",
       "    <tr>\n",
       "      <th>2020-04-03 15:59:56</th>\n",
       "      <td>241.465</td>\n",
       "      <td>479.540</td>\n",
       "      <td>128.005</td>\n",
       "      <td>20.155</td>\n",
       "      <td>9.515</td>\n",
       "      <td>22.025</td>\n",
       "    </tr>\n",
       "    <tr>\n",
       "      <th>2020-04-03 15:59:57</th>\n",
       "      <td>241.420</td>\n",
       "      <td>479.395</td>\n",
       "      <td>128.100</td>\n",
       "      <td>20.155</td>\n",
       "      <td>9.515</td>\n",
       "      <td>22.025</td>\n",
       "    </tr>\n",
       "    <tr>\n",
       "      <th>2020-04-03 15:59:58</th>\n",
       "      <td>241.430</td>\n",
       "      <td>479.220</td>\n",
       "      <td>128.100</td>\n",
       "      <td>20.155</td>\n",
       "      <td>9.505</td>\n",
       "      <td>22.015</td>\n",
       "    </tr>\n",
       "    <tr>\n",
       "      <th>2020-04-03 15:59:59</th>\n",
       "      <td>241.435</td>\n",
       "      <td>479.600</td>\n",
       "      <td>128.100</td>\n",
       "      <td>20.155</td>\n",
       "      <td>9.505</td>\n",
       "      <td>22.015</td>\n",
       "    </tr>\n",
       "  </tbody>\n",
       "</table>\n",
       "<p>585000 rows × 6 columns</p>\n",
       "</div>"
      ],
      "text/plain": [
       "                        AAPL     TSLA       ZM    AAWW    AGNC    LYFT\n",
       "date                                                                  \n",
       "2020-03-02 09:30:00  282.270  711.600  109.615  26.725  17.390  38.450\n",
       "2020-03-02 09:30:01  282.405  712.385  109.575  27.000  17.280  38.495\n",
       "2020-03-02 09:30:02  282.345  712.470  109.395  27.150  17.255  38.450\n",
       "2020-03-02 09:30:03  282.390  713.790  109.400  26.880  17.225  38.465\n",
       "2020-03-02 09:30:04  283.145  714.430  109.425  27.100  17.240  38.430\n",
       "...                      ...      ...      ...     ...     ...     ...\n",
       "2020-04-03 15:59:55  241.455  479.395  128.005  20.160   9.505  22.025\n",
       "2020-04-03 15:59:56  241.465  479.540  128.005  20.155   9.515  22.025\n",
       "2020-04-03 15:59:57  241.420  479.395  128.100  20.155   9.515  22.025\n",
       "2020-04-03 15:59:58  241.430  479.220  128.100  20.155   9.505  22.015\n",
       "2020-04-03 15:59:59  241.435  479.600  128.100  20.155   9.505  22.015\n",
       "\n",
       "[585000 rows x 6 columns]"
      ]
     },
     "execution_count": 321,
     "metadata": {},
     "output_type": "execute_result"
    }
   ],
   "source": [
    "daily_midprice"
   ]
  },
  {
   "cell_type": "code",
   "execution_count": 322,
   "metadata": {
    "pycharm": {
     "name": "#%%\n"
    }
   },
   "outputs": [
    {
     "data": {
      "text/html": [
       "<div>\n",
       "<style scoped>\n",
       "    .dataframe tbody tr th:only-of-type {\n",
       "        vertical-align: middle;\n",
       "    }\n",
       "\n",
       "    .dataframe tbody tr th {\n",
       "        vertical-align: top;\n",
       "    }\n",
       "\n",
       "    .dataframe thead th {\n",
       "        text-align: right;\n",
       "    }\n",
       "</style>\n",
       "<table border=\"1\" class=\"dataframe\">\n",
       "  <thead>\n",
       "    <tr style=\"text-align: right;\">\n",
       "      <th></th>\n",
       "      <th>AAPL</th>\n",
       "      <th>TSLA</th>\n",
       "      <th>ZM</th>\n",
       "      <th>AAWW</th>\n",
       "      <th>AGNC</th>\n",
       "      <th>LYFT</th>\n",
       "    </tr>\n",
       "    <tr>\n",
       "      <th>date</th>\n",
       "      <th></th>\n",
       "      <th></th>\n",
       "      <th></th>\n",
       "      <th></th>\n",
       "      <th></th>\n",
       "      <th></th>\n",
       "    </tr>\n",
       "  </thead>\n",
       "  <tbody>\n",
       "    <tr>\n",
       "      <th>2020-03-17 09:30:00</th>\n",
       "      <td>247.445</td>\n",
       "      <td>439.995</td>\n",
       "      <td>107.590</td>\n",
       "      <td>19.745</td>\n",
       "      <td>12.355</td>\n",
       "      <td>19.450</td>\n",
       "    </tr>\n",
       "    <tr>\n",
       "      <th>2020-03-17 09:30:01</th>\n",
       "      <td>247.390</td>\n",
       "      <td>440.090</td>\n",
       "      <td>107.400</td>\n",
       "      <td>19.145</td>\n",
       "      <td>12.090</td>\n",
       "      <td>19.410</td>\n",
       "    </tr>\n",
       "    <tr>\n",
       "      <th>2020-03-17 09:30:02</th>\n",
       "      <td>247.425</td>\n",
       "      <td>440.275</td>\n",
       "      <td>107.475</td>\n",
       "      <td>19.145</td>\n",
       "      <td>12.090</td>\n",
       "      <td>19.380</td>\n",
       "    </tr>\n",
       "    <tr>\n",
       "      <th>2020-03-17 09:30:03</th>\n",
       "      <td>247.795</td>\n",
       "      <td>440.565</td>\n",
       "      <td>107.135</td>\n",
       "      <td>19.160</td>\n",
       "      <td>12.090</td>\n",
       "      <td>19.305</td>\n",
       "    </tr>\n",
       "    <tr>\n",
       "      <th>2020-03-17 09:30:04</th>\n",
       "      <td>247.655</td>\n",
       "      <td>440.540</td>\n",
       "      <td>107.140</td>\n",
       "      <td>19.165</td>\n",
       "      <td>12.090</td>\n",
       "      <td>19.305</td>\n",
       "    </tr>\n",
       "    <tr>\n",
       "      <th>...</th>\n",
       "      <td>...</td>\n",
       "      <td>...</td>\n",
       "      <td>...</td>\n",
       "      <td>...</td>\n",
       "      <td>...</td>\n",
       "      <td>...</td>\n",
       "    </tr>\n",
       "    <tr>\n",
       "      <th>2020-03-17 15:59:55</th>\n",
       "      <td>252.690</td>\n",
       "      <td>429.775</td>\n",
       "      <td>111.045</td>\n",
       "      <td>23.530</td>\n",
       "      <td>11.775</td>\n",
       "      <td>18.705</td>\n",
       "    </tr>\n",
       "    <tr>\n",
       "      <th>2020-03-17 15:59:56</th>\n",
       "      <td>252.625</td>\n",
       "      <td>429.485</td>\n",
       "      <td>111.065</td>\n",
       "      <td>23.530</td>\n",
       "      <td>11.800</td>\n",
       "      <td>18.650</td>\n",
       "    </tr>\n",
       "    <tr>\n",
       "      <th>2020-03-17 15:59:57</th>\n",
       "      <td>252.635</td>\n",
       "      <td>429.570</td>\n",
       "      <td>111.065</td>\n",
       "      <td>23.560</td>\n",
       "      <td>11.810</td>\n",
       "      <td>18.635</td>\n",
       "    </tr>\n",
       "    <tr>\n",
       "      <th>2020-03-17 15:59:58</th>\n",
       "      <td>252.650</td>\n",
       "      <td>429.440</td>\n",
       "      <td>111.065</td>\n",
       "      <td>23.525</td>\n",
       "      <td>11.810</td>\n",
       "      <td>18.635</td>\n",
       "    </tr>\n",
       "    <tr>\n",
       "      <th>2020-03-17 15:59:59</th>\n",
       "      <td>252.745</td>\n",
       "      <td>429.630</td>\n",
       "      <td>111.055</td>\n",
       "      <td>23.525</td>\n",
       "      <td>11.805</td>\n",
       "      <td>18.625</td>\n",
       "    </tr>\n",
       "  </tbody>\n",
       "</table>\n",
       "<p>23400 rows × 6 columns</p>\n",
       "</div>"
      ],
      "text/plain": [
       "                        AAPL     TSLA       ZM    AAWW    AGNC    LYFT\n",
       "date                                                                  \n",
       "2020-03-17 09:30:00  247.445  439.995  107.590  19.745  12.355  19.450\n",
       "2020-03-17 09:30:01  247.390  440.090  107.400  19.145  12.090  19.410\n",
       "2020-03-17 09:30:02  247.425  440.275  107.475  19.145  12.090  19.380\n",
       "2020-03-17 09:30:03  247.795  440.565  107.135  19.160  12.090  19.305\n",
       "2020-03-17 09:30:04  247.655  440.540  107.140  19.165  12.090  19.305\n",
       "...                      ...      ...      ...     ...     ...     ...\n",
       "2020-03-17 15:59:55  252.690  429.775  111.045  23.530  11.775  18.705\n",
       "2020-03-17 15:59:56  252.625  429.485  111.065  23.530  11.800  18.650\n",
       "2020-03-17 15:59:57  252.635  429.570  111.065  23.560  11.810  18.635\n",
       "2020-03-17 15:59:58  252.650  429.440  111.065  23.525  11.810  18.635\n",
       "2020-03-17 15:59:59  252.745  429.630  111.055  23.525  11.805  18.625\n",
       "\n",
       "[23400 rows x 6 columns]"
      ]
     },
     "execution_count": 322,
     "metadata": {},
     "output_type": "execute_result"
    }
   ],
   "source": [
    "GRANULARITY = int(60*60*6.5)\n",
    "day = 11\n",
    "daily_midprice[GRANULARITY*day:GRANULARITY*(day+1)]"
   ]
  },
  {
   "cell_type": "code",
   "execution_count": 323,
   "metadata": {
    "pycharm": {
     "name": "#%%\n"
    }
   },
   "outputs": [],
   "source": [
    "GRANULARITY = int(60*30)\n",
    "daily_midprice = daily_midprice.iloc[::GRANULARITY, :]  # 2. samples days granularity\n",
    "daily_midprice = daily_midprice.dropna(axis=0)          # 1. removes days that are not traded\n",
    "daily_midprice = daily_midprice[daily_midprice != 0]\n",
    "\n",
    "daily_midprice.index = daily_midprice.index.map(str)\n",
    "daily_midprice_norm = daily_midprice / daily_midprice.iloc[0, :]"
   ]
  },
  {
   "cell_type": "code",
   "execution_count": 324,
   "metadata": {},
   "outputs": [
    {
     "data": {
      "image/png": "[encoded data removed]",
      "text/plain": [
       "<Figure size 1300x800 with 1 Axes>"
      ]
     },
     "metadata": {},
     "output_type": "display_data"
    }
   ],
   "source": [
    "daily_midprice_norm.index = [ind.split(\" \")[0] for ind in daily_midprice_norm.index]\n",
    "x_axis = list(daily_midprice_norm.index)\n",
    "fig, ax = plt.subplots(figsize=(13, 8))\n",
    "\n",
    "ax = daily_midprice_norm.plot(ax = ax)\n",
    "\n",
    "# SCEWNARIO = ('2021-07-22', '2021-07-29', '2021-08-06')\n",
    "SCEWNARIO = ('2020-03-20', '2020-03-27', '2020-04-03')\n",
    "yli = ax.get_ylim()\n",
    "ax.vlines(x=x_axis.index(SCEWNARIO[0])+13, ymin=yli[0], ymax=yli[1], color='black') # 13 mezz'ore in 6.5 ore\n",
    "ax.vlines(x=x_axis.index(SCEWNARIO[1])+13, ymin=yli[0], ymax=yli[1], color='black')\n",
    "ax.vlines(x=x_axis.index(SCEWNARIO[2])+13, ymin=yli[0], ymax=yli[1], color='black')\n",
    "# plt.xticks(rotation=10)\n",
    "\n",
    "plt.ylabel(\"midprice (normalized)\")\n",
    "plt.xlabel(\"date\")\n",
    "\n",
    "ax.legend(loc='upper left')\n",
    "plt.tight_layout()\n",
    "fig.savefig('scenario-mar.pdf', dpi=400)"
   ]
  },
  {
   "cell_type": "code",
   "execution_count": 119,
   "metadata": {
    "pycharm": {
     "name": "#%%\n"
    }
   },
   "outputs": [
    {
     "data": {
      "text/html": [
       "<div>\n",
       "<style scoped>\n",
       "    .dataframe tbody tr th:only-of-type {\n",
       "        vertical-align: middle;\n",
       "    }\n",
       "\n",
       "    .dataframe tbody tr th {\n",
       "        vertical-align: top;\n",
       "    }\n",
       "\n",
       "    .dataframe thead th {\n",
       "        text-align: right;\n",
       "    }\n",
       "</style>\n",
       "<table border=\"1\" class=\"dataframe\">\n",
       "  <thead>\n",
       "    <tr style=\"text-align: right;\">\n",
       "      <th></th>\n",
       "      <th>AAPL</th>\n",
       "      <th>NVDA</th>\n",
       "      <th>ZM</th>\n",
       "      <th>AAWW</th>\n",
       "      <th>AGNC</th>\n",
       "      <th>LYFT</th>\n",
       "    </tr>\n",
       "    <tr>\n",
       "      <th>date</th>\n",
       "      <th></th>\n",
       "      <th></th>\n",
       "      <th></th>\n",
       "      <th></th>\n",
       "      <th></th>\n",
       "      <th></th>\n",
       "    </tr>\n",
       "  </thead>\n",
       "  <tbody>\n",
       "    <tr>\n",
       "      <th>2021-07-01 09:30:00</th>\n",
       "      <td>0.001428</td>\n",
       "      <td>0.007520</td>\n",
       "      <td>-0.003891</td>\n",
       "      <td>-0.005230</td>\n",
       "      <td>-0.000591</td>\n",
       "      <td>-0.001225</td>\n",
       "    </tr>\n",
       "    <tr>\n",
       "      <th>2021-07-01 09:31:00</th>\n",
       "      <td>-0.001206</td>\n",
       "      <td>0.002083</td>\n",
       "      <td>-0.001155</td>\n",
       "      <td>0.000292</td>\n",
       "      <td>-0.000887</td>\n",
       "      <td>-0.001962</td>\n",
       "    </tr>\n",
       "    <tr>\n",
       "      <th>2021-07-01 09:32:00</th>\n",
       "      <td>0.002013</td>\n",
       "      <td>0.000855</td>\n",
       "      <td>0.002572</td>\n",
       "      <td>-0.003869</td>\n",
       "      <td>-0.000592</td>\n",
       "      <td>-0.001638</td>\n",
       "    </tr>\n",
       "    <tr>\n",
       "      <th>2021-07-01 09:33:00</th>\n",
       "      <td>-0.000110</td>\n",
       "      <td>-0.001991</td>\n",
       "      <td>0.001827</td>\n",
       "      <td>-0.000293</td>\n",
       "      <td>-0.001776</td>\n",
       "      <td>-0.000246</td>\n",
       "    </tr>\n",
       "    <tr>\n",
       "      <th>2021-07-01 09:34:00</th>\n",
       "      <td>-0.001352</td>\n",
       "      <td>-0.000308</td>\n",
       "      <td>-0.002781</td>\n",
       "      <td>-0.003005</td>\n",
       "      <td>-0.000593</td>\n",
       "      <td>0.001559</td>\n",
       "    </tr>\n",
       "    <tr>\n",
       "      <th>...</th>\n",
       "      <td>...</td>\n",
       "      <td>...</td>\n",
       "      <td>...</td>\n",
       "      <td>...</td>\n",
       "      <td>...</td>\n",
       "      <td>...</td>\n",
       "    </tr>\n",
       "    <tr>\n",
       "      <th>2021-08-06 15:54:00</th>\n",
       "      <td>0.000342</td>\n",
       "      <td>0.000123</td>\n",
       "      <td>0.000248</td>\n",
       "      <td>-0.000069</td>\n",
       "      <td>0.000626</td>\n",
       "      <td>-0.000191</td>\n",
       "    </tr>\n",
       "    <tr>\n",
       "      <th>2021-08-06 15:55:00</th>\n",
       "      <td>-0.000342</td>\n",
       "      <td>0.000270</td>\n",
       "      <td>0.000117</td>\n",
       "      <td>0.000965</td>\n",
       "      <td>0.000000</td>\n",
       "      <td>-0.001143</td>\n",
       "    </tr>\n",
       "    <tr>\n",
       "      <th>2021-08-06 15:56:00</th>\n",
       "      <td>0.000000</td>\n",
       "      <td>-0.000417</td>\n",
       "      <td>-0.000690</td>\n",
       "      <td>0.000896</td>\n",
       "      <td>0.000000</td>\n",
       "      <td>0.000191</td>\n",
       "    </tr>\n",
       "    <tr>\n",
       "      <th>2021-08-06 15:57:00</th>\n",
       "      <td>0.000205</td>\n",
       "      <td>-0.000295</td>\n",
       "      <td>0.000130</td>\n",
       "      <td>0.000413</td>\n",
       "      <td>0.000000</td>\n",
       "      <td>0.000000</td>\n",
       "    </tr>\n",
       "    <tr>\n",
       "      <th>2021-08-06 15:58:00</th>\n",
       "      <td>0.000137</td>\n",
       "      <td>-0.000196</td>\n",
       "      <td>-0.000573</td>\n",
       "      <td>0.000000</td>\n",
       "      <td>0.000000</td>\n",
       "      <td>0.000477</td>\n",
       "    </tr>\n",
       "  </tbody>\n",
       "</table>\n",
       "<p>9749 rows × 6 columns</p>\n",
       "</div>"
      ],
      "text/plain": [
       "                         AAPL      NVDA        ZM      AAWW      AGNC  \\\n",
       "date                                                                    \n",
       "2021-07-01 09:30:00  0.001428  0.007520 -0.003891 -0.005230 -0.000591   \n",
       "2021-07-01 09:31:00 -0.001206  0.002083 -0.001155  0.000292 -0.000887   \n",
       "2021-07-01 09:32:00  0.002013  0.000855  0.002572 -0.003869 -0.000592   \n",
       "2021-07-01 09:33:00 -0.000110 -0.001991  0.001827 -0.000293 -0.001776   \n",
       "2021-07-01 09:34:00 -0.001352 -0.000308 -0.002781 -0.003005 -0.000593   \n",
       "...                       ...       ...       ...       ...       ...   \n",
       "2021-08-06 15:54:00  0.000342  0.000123  0.000248 -0.000069  0.000626   \n",
       "2021-08-06 15:55:00 -0.000342  0.000270  0.000117  0.000965  0.000000   \n",
       "2021-08-06 15:56:00  0.000000 -0.000417 -0.000690  0.000896  0.000000   \n",
       "2021-08-06 15:57:00  0.000205 -0.000295  0.000130  0.000413  0.000000   \n",
       "2021-08-06 15:58:00  0.000137 -0.000196 -0.000573  0.000000  0.000000   \n",
       "\n",
       "                         LYFT  \n",
       "date                           \n",
       "2021-07-01 09:30:00 -0.001225  \n",
       "2021-07-01 09:31:00 -0.001962  \n",
       "2021-07-01 09:32:00 -0.001638  \n",
       "2021-07-01 09:33:00 -0.000246  \n",
       "2021-07-01 09:34:00  0.001559  \n",
       "...                       ...  \n",
       "2021-08-06 15:54:00 -0.000191  \n",
       "2021-08-06 15:55:00 -0.001143  \n",
       "2021-08-06 15:56:00  0.000191  \n",
       "2021-08-06 15:57:00  0.000000  \n",
       "2021-08-06 15:58:00  0.000477  \n",
       "\n",
       "[9749 rows x 6 columns]"
      ]
     },
     "execution_count": 119,
     "metadata": {},
     "output_type": "execute_result"
    }
   ],
   "source": [
    "daily_midprice = daily_midprice[daily_midprice != 0]\n",
    "\n",
    "past_mid = daily_midprice[:-1]\n",
    "futu_mid = daily_midprice.shift(-1)[:-1]\n",
    "daily_returns_df = (futu_mid - past_mid) / past_mid\n",
    "daily_returns_df = daily_returns_df[-10 < daily_returns_df]\n",
    "daily_returns_df = daily_returns_df[ 10 > daily_returns_df]\n",
    "daily_returns_df"
   ]
  },
  {
   "cell_type": "code",
   "execution_count": 120,
   "metadata": {
    "pycharm": {
     "name": "#%%\n"
    }
   },
   "outputs": [],
   "source": [
    "# WIN = 20\n",
    "# stds_df = daily_returns_df.rolling(WIN).std()\n",
    "# #avgs_df = daily_returns_df.rolling(WIN).mean()\n",
    "# # ax = daily_returns_df.plot()\n",
    "# # stds_df.plot(ax=ax)\n",
    "# stds_df.iloc[:, 10:50].plot()"
   ]
  },
  {
   "cell_type": "code",
   "execution_count": 121,
   "metadata": {
    "pycharm": {
     "name": "#%%\n"
    }
   },
   "outputs": [
    {
     "data": {
      "text/html": [
       "<div>\n",
       "<style scoped>\n",
       "    .dataframe tbody tr th:only-of-type {\n",
       "        vertical-align: middle;\n",
       "    }\n",
       "\n",
       "    .dataframe tbody tr th {\n",
       "        vertical-align: top;\n",
       "    }\n",
       "\n",
       "    .dataframe thead th {\n",
       "        text-align: right;\n",
       "    }\n",
       "</style>\n",
       "<table border=\"1\" class=\"dataframe\">\n",
       "  <thead>\n",
       "    <tr style=\"text-align: right;\">\n",
       "      <th></th>\n",
       "      <th>return</th>\n",
       "      <th>risk</th>\n",
       "    </tr>\n",
       "  </thead>\n",
       "  <tbody>\n",
       "    <tr>\n",
       "      <th>AAPL</th>\n",
       "      <td>7.138744e-06</td>\n",
       "      <td>0.000729</td>\n",
       "    </tr>\n",
       "    <tr>\n",
       "      <th>NVDA</th>\n",
       "      <td>-7.492120e-05</td>\n",
       "      <td>0.007695</td>\n",
       "    </tr>\n",
       "    <tr>\n",
       "      <th>ZM</th>\n",
       "      <td>5.025054e-08</td>\n",
       "      <td>0.001375</td>\n",
       "    </tr>\n",
       "    <tr>\n",
       "      <th>AAWW</th>\n",
       "      <td>6.643118e-06</td>\n",
       "      <td>0.001468</td>\n",
       "    </tr>\n",
       "    <tr>\n",
       "      <th>AGNC</th>\n",
       "      <td>-5.564314e-06</td>\n",
       "      <td>0.000725</td>\n",
       "    </tr>\n",
       "    <tr>\n",
       "      <th>LYFT</th>\n",
       "      <td>-1.446337e-05</td>\n",
       "      <td>0.001659</td>\n",
       "    </tr>\n",
       "  </tbody>\n",
       "</table>\n",
       "</div>"
      ],
      "text/plain": [
       "            return      risk\n",
       "AAPL  7.138744e-06  0.000729\n",
       "NVDA -7.492120e-05  0.007695\n",
       "ZM    5.025054e-08  0.001375\n",
       "AAWW  6.643118e-06  0.001468\n",
       "AGNC -5.564314e-06  0.000725\n",
       "LYFT -1.446337e-05  0.001659"
      ]
     },
     "execution_count": 121,
     "metadata": {},
     "output_type": "execute_result"
    }
   ],
   "source": [
    "risk_return = pd.DataFrame()\n",
    "risk_return[\"return\"] = daily_returns_df.mean(axis=0)\n",
    "risk_return[\"risk\"] = daily_returns_df.std(axis=0)\n",
    "# risk_return = risk_return.drop(\"ALHC\")\n",
    "risk_return"
   ]
  },
  {
   "cell_type": "code",
   "execution_count": 122,
   "metadata": {
    "pycharm": {
     "name": "#%%\n"
    }
   },
   "outputs": [
    {
     "data": {
      "application/vnd.plotly.v1+json": {
       "config": {
        "plotlyServerURL": "https://plot.ly"
       },
       "data": [
        {
         "hovertemplate": "return=%{x}<br>risk=%{y}<br>index=%{text}<extra></extra>",
         "legendgroup": "",
         "marker": {
          "color": "#636efa",
          "symbol": "circle"
         },
         "mode": "markers+text",
         "name": "",
         "orientation": "v",
         "showlegend": false,
         "text": [
          "AAPL",
          "NVDA",
          "ZM",
          "AAWW",
          "AGNC",
          "LYFT"
         ],
         "type": "scatter",
         "x": [
          7.138743692505699E-6,
          -7.492120347449887E-5,
          5.0250535882285094E-8,
          6.643118073521664E-6,
          -5.564313552577184E-6,
          -1.4463370674071775E-5
         ],
         "xaxis": "x",
         "y": [
          7.286981738945891E-4,
          0.0076946546071021095,
          0.001374532685298593,
          0.0014682758604404916,
          7.252755303843606E-4,
          0.0016591296247512601
         ],
         "yaxis": "y"
        }
       ],
       "layout": {
        "legend": {
         "tracegroupgap": 0
        },
        "margin": {
         "t": 60
        },
        "template": {
         "data": {
          "bar": [
           {
            "error_x": {
             "color": "#2a3f5f"
            },
            "error_y": {
             "color": "#2a3f5f"
            },
            "marker": {
             "line": {
              "color": "#E5ECF6",
              "width": 0.5
             },
             "pattern": {
              "fillmode": "overlay",
              "size": 10,
              "solidity": 0.2
             }
            },
            "type": "bar"
           }
          ],
          "barpolar": [
           {
            "marker": {
             "line": {
              "color": "#E5ECF6",
              "width": 0.5
             },
             "pattern": {
              "fillmode": "overlay",
              "size": 10,
              "solidity": 0.2
             }
            },
            "type": "barpolar"
           }
          ],
          "carpet": [
           {
            "aaxis": {
             "endlinecolor": "#2a3f5f",
             "gridcolor": "white",
             "linecolor": "white",
             "minorgridcolor": "white",
             "startlinecolor": "#2a3f5f"
            },
            "baxis": {
             "endlinecolor": "#2a3f5f",
             "gridcolor": "white",
             "linecolor": "white",
             "minorgridcolor": "white",
             "startlinecolor": "#2a3f5f"
            },
            "type": "carpet"
           }
          ],
          "choropleth": [
           {
            "colorbar": {
             "outlinewidth": 0,
             "ticks": ""
            },
            "type": "choropleth"
           }
          ],
          "contour": [
           {
            "colorbar": {
             "outlinewidth": 0,
             "ticks": ""
            },
            "colorscale": [
             [
              0,
              "#0d0887"
             ],
             [
              0.1111111111111111,
              "#46039f"
             ],
             [
              0.2222222222222222,
              "#7201a8"
             ],
             [
              0.3333333333333333,
              "#9c179e"
             ],
             [
              0.4444444444444444,
              "#bd3786"
             ],
             [
              0.5555555555555556,
              "#d8576b"
             ],
             [
              0.6666666666666666,
              "#ed7953"
             ],
             [
              0.7777777777777778,
              "#fb9f3a"
             ],
             [
              0.8888888888888888,
              "#fdca26"
             ],
             [
              1,
              "#f0f921"
             ]
            ],
            "type": "contour"
           }
          ],
          "contourcarpet": [
           {
            "colorbar": {
             "outlinewidth": 0,
             "ticks": ""
            },
            "type": "contourcarpet"
           }
          ],
          "heatmap": [
           {
            "colorbar": {
             "outlinewidth": 0,
             "ticks": ""
            },
            "colorscale": [
             [
              0,
              "#0d0887"
             ],
             [
              0.1111111111111111,
              "#46039f"
             ],
             [
              0.2222222222222222,
              "#7201a8"
             ],
             [
              0.3333333333333333,
              "#9c179e"
             ],
             [
              0.4444444444444444,
              "#bd3786"
             ],
             [
              0.5555555555555556,
              "#d8576b"
             ],
             [
              0.6666666666666666,
              "#ed7953"
             ],
             [
              0.7777777777777778,
              "#fb9f3a"
             ],
             [
              0.8888888888888888,
              "#fdca26"
             ],
             [
              1,
              "#f0f921"
             ]
            ],
            "type": "heatmap"
           }
          ],
          "heatmapgl": [
           {
            "colorbar": {
             "outlinewidth": 0,
             "ticks": ""
            },
            "colorscale": [
             [
              0,
              "#0d0887"
             ],
             [
              0.1111111111111111,
              "#46039f"
             ],
             [
              0.2222222222222222,
              "#7201a8"
             ],
             [
              0.3333333333333333,
              "#9c179e"
             ],
             [
              0.4444444444444444,
              "#bd3786"
             ],
             [
              0.5555555555555556,
              "#d8576b"
             ],
             [
              0.6666666666666666,
              "#ed7953"
             ],
             [
              0.7777777777777778,
              "#fb9f3a"
             ],
             [
              0.8888888888888888,
              "#fdca26"
             ],
             [
              1,
              "#f0f921"
             ]
            ],
            "type": "heatmapgl"
           }
          ],
          "histogram": [
           {
            "marker": {
             "pattern": {
              "fillmode": "overlay",
              "size": 10,
              "solidity": 0.2
             }
            },
            "type": "histogram"
           }
          ],
          "histogram2d": [
           {
            "colorbar": {
             "outlinewidth": 0,
             "ticks": ""
            },
            "colorscale": [
             [
              0,
              "#0d0887"
             ],
             [
              0.1111111111111111,
              "#46039f"
             ],
             [
              0.2222222222222222,
              "#7201a8"
             ],
             [
              0.3333333333333333,
              "#9c179e"
             ],
             [
              0.4444444444444444,
              "#bd3786"
             ],
             [
              0.5555555555555556,
              "#d8576b"
             ],
             [
              0.6666666666666666,
              "#ed7953"
             ],
             [
              0.7777777777777778,
              "#fb9f3a"
             ],
             [
              0.8888888888888888,
              "#fdca26"
             ],
             [
              1,
              "#f0f921"
             ]
            ],
            "type": "histogram2d"
           }
          ],
          "histogram2dcontour": [
           {
            "colorbar": {
             "outlinewidth": 0,
             "ticks": ""
            },
            "colorscale": [
             [
              0,
              "#0d0887"
             ],
             [
              0.1111111111111111,
              "#46039f"
             ],
             [
              0.2222222222222222,
              "#7201a8"
             ],
             [
              0.3333333333333333,
              "#9c179e"
             ],
             [
              0.4444444444444444,
              "#bd3786"
             ],
             [
              0.5555555555555556,
              "#d8576b"
             ],
             [
              0.6666666666666666,
              "#ed7953"
             ],
             [
              0.7777777777777778,
              "#fb9f3a"
             ],
             [
              0.8888888888888888,
              "#fdca26"
             ],
             [
              1,
              "#f0f921"
             ]
            ],
            "type": "histogram2dcontour"
           }
          ],
          "mesh3d": [
           {
            "colorbar": {
             "outlinewidth": 0,
             "ticks": ""
            },
            "type": "mesh3d"
           }
          ],
          "parcoords": [
           {
            "line": {
             "colorbar": {
              "outlinewidth": 0,
              "ticks": ""
             }
            },
            "type": "parcoords"
           }
          ],
          "pie": [
           {
            "automargin": true,
            "type": "pie"
           }
          ],
          "scatter": [
           {
            "fillpattern": {
             "fillmode": "overlay",
             "size": 10,
             "solidity": 0.2
            },
            "type": "scatter"
           }
          ],
          "scatter3d": [
           {
            "line": {
             "colorbar": {
              "outlinewidth": 0,
              "ticks": ""
             }
            },
            "marker": {
             "colorbar": {
              "outlinewidth": 0,
              "ticks": ""
             }
            },
            "type": "scatter3d"
           }
          ],
          "scattercarpet": [
           {
            "marker": {
             "colorbar": {
              "outlinewidth": 0,
              "ticks": ""
             }
            },
            "type": "scattercarpet"
           }
          ],
          "scattergeo": [
           {
            "marker": {
             "colorbar": {
              "outlinewidth": 0,
              "ticks": ""
             }
            },
            "type": "scattergeo"
           }
          ],
          "scattergl": [
           {
            "marker": {
             "colorbar": {
              "outlinewidth": 0,
              "ticks": ""
             }
            },
            "type": "scattergl"
           }
          ],
          "scattermapbox": [
           {
            "marker": {
             "colorbar": {
              "outlinewidth": 0,
              "ticks": ""
             }
            },
            "type": "scattermapbox"
           }
          ],
          "scatterpolar": [
           {
            "marker": {
             "colorbar": {
              "outlinewidth": 0,
              "ticks": ""
             }
            },
            "type": "scatterpolar"
           }
          ],
          "scatterpolargl": [
           {
            "marker": {
             "colorbar": {
              "outlinewidth": 0,
              "ticks": ""
             }
            },
            "type": "scatterpolargl"
           }
          ],
          "scatterternary": [
           {
            "marker": {
             "colorbar": {
              "outlinewidth": 0,
              "ticks": ""
             }
            },
            "type": "scatterternary"
           }
          ],
          "surface": [
           {
            "colorbar": {
             "outlinewidth": 0,
             "ticks": ""
            },
            "colorscale": [
             [
              0,
              "#0d0887"
             ],
             [
              0.1111111111111111,
              "#46039f"
             ],
             [
              0.2222222222222222,
              "#7201a8"
             ],
             [
              0.3333333333333333,
              "#9c179e"
             ],
             [
              0.4444444444444444,
              "#bd3786"
             ],
             [
              0.5555555555555556,
              "#d8576b"
             ],
             [
              0.6666666666666666,
              "#ed7953"
             ],
             [
              0.7777777777777778,
              "#fb9f3a"
             ],
             [
              0.8888888888888888,
              "#fdca26"
             ],
             [
              1,
              "#f0f921"
             ]
            ],
            "type": "surface"
           }
          ],
          "table": [
           {
            "cells": {
             "fill": {
              "color": "#EBF0F8"
             },
             "line": {
              "color": "white"
             }
            },
            "header": {
             "fill": {
              "color": "#C8D4E3"
             },
             "line": {
              "color": "white"
             }
            },
            "type": "table"
           }
          ]
         },
         "layout": {
          "annotationdefaults": {
           "arrowcolor": "#2a3f5f",
           "arrowhead": 0,
           "arrowwidth": 1
          },
          "autotypenumbers": "strict",
          "coloraxis": {
           "colorbar": {
            "outlinewidth": 0,
            "ticks": ""
           }
          },
          "colorscale": {
           "diverging": [
            [
             0,
             "#8e0152"
            ],
            [
             0.1,
             "#c51b7d"
            ],
            [
             0.2,
             "#de77ae"
            ],
            [
             0.3,
             "#f1b6da"
            ],
            [
             0.4,
             "#fde0ef"
            ],
            [
             0.5,
             "#f7f7f7"
            ],
            [
             0.6,
             "#e6f5d0"
            ],
            [
             0.7,
             "#b8e186"
            ],
            [
             0.8,
             "#7fbc41"
            ],
            [
             0.9,
             "#4d9221"
            ],
            [
             1,
             "#276419"
            ]
           ],
           "sequential": [
            [
             0,
             "#0d0887"
            ],
            [
             0.1111111111111111,
             "#46039f"
            ],
            [
             0.2222222222222222,
             "#7201a8"
            ],
            [
             0.3333333333333333,
             "#9c179e"
            ],
            [
             0.4444444444444444,
             "#bd3786"
            ],
            [
             0.5555555555555556,
             "#d8576b"
            ],
            [
             0.6666666666666666,
             "#ed7953"
            ],
            [
             0.7777777777777778,
             "#fb9f3a"
            ],
            [
             0.8888888888888888,
             "#fdca26"
            ],
            [
             1,
             "#f0f921"
            ]
           ],
           "sequentialminus": [
            [
             0,
             "#0d0887"
            ],
            [
             0.1111111111111111,
             "#46039f"
            ],
            [
             0.2222222222222222,
             "#7201a8"
            ],
            [
             0.3333333333333333,
             "#9c179e"
            ],
            [
             0.4444444444444444,
             "#bd3786"
            ],
            [
             0.5555555555555556,
             "#d8576b"
            ],
            [
             0.6666666666666666,
             "#ed7953"
            ],
            [
             0.7777777777777778,
             "#fb9f3a"
            ],
            [
             0.8888888888888888,
             "#fdca26"
            ],
            [
             1,
             "#f0f921"
            ]
           ]
          },
          "colorway": [
           "#636efa",
           "#EF553B",
           "#00cc96",
           "#ab63fa",
           "#FFA15A",
           "#19d3f3",
           "#FF6692",
           "#B6E880",
           "#FF97FF",
           "#FECB52"
          ],
          "font": {
           "color": "#2a3f5f"
          },
          "geo": {
           "bgcolor": "white",
           "lakecolor": "white",
           "landcolor": "#E5ECF6",
           "showlakes": true,
           "showland": true,
           "subunitcolor": "white"
          },
          "hoverlabel": {
           "align": "left"
          },
          "hovermode": "closest",
          "mapbox": {
           "style": "light"
          },
          "paper_bgcolor": "white",
          "plot_bgcolor": "#E5ECF6",
          "polar": {
           "angularaxis": {
            "gridcolor": "white",
            "linecolor": "white",
            "ticks": ""
           },
           "bgcolor": "#E5ECF6",
           "radialaxis": {
            "gridcolor": "white",
            "linecolor": "white",
            "ticks": ""
           }
          },
          "scene": {
           "xaxis": {
            "backgroundcolor": "#E5ECF6",
            "gridcolor": "white",
            "gridwidth": 2,
            "linecolor": "white",
            "showbackground": true,
            "ticks": "",
            "zerolinecolor": "white"
           },
           "yaxis": {
            "backgroundcolor": "#E5ECF6",
            "gridcolor": "white",
            "gridwidth": 2,
            "linecolor": "white",
            "showbackground": true,
            "ticks": "",
            "zerolinecolor": "white"
           },
           "zaxis": {
            "backgroundcolor": "#E5ECF6",
            "gridcolor": "white",
            "gridwidth": 2,
            "linecolor": "white",
            "showbackground": true,
            "ticks": "",
            "zerolinecolor": "white"
           }
          },
          "shapedefaults": {
           "line": {
            "color": "#2a3f5f"
           }
          },
          "ternary": {
           "aaxis": {
            "gridcolor": "white",
            "linecolor": "white",
            "ticks": ""
           },
           "baxis": {
            "gridcolor": "white",
            "linecolor": "white",
            "ticks": ""
           },
           "bgcolor": "#E5ECF6",
           "caxis": {
            "gridcolor": "white",
            "linecolor": "white",
            "ticks": ""
           }
          },
          "title": {
           "x": 0.05
          },
          "xaxis": {
           "automargin": true,
           "gridcolor": "white",
           "linecolor": "white",
           "ticks": "",
           "title": {
            "standoff": 15
           },
           "zerolinecolor": "white",
           "zerolinewidth": 2
          },
          "yaxis": {
           "automargin": true,
           "gridcolor": "white",
           "linecolor": "white",
           "ticks": "",
           "title": {
            "standoff": 15
           },
           "zerolinecolor": "white",
           "zerolinewidth": 2
          }
         }
        },
        "xaxis": {
         "anchor": "y",
         "domain": [
          0,
          1
         ],
         "title": {
          "text": "return"
         }
        },
        "yaxis": {
         "anchor": "x",
         "domain": [
          0,
          1
         ],
         "title": {
          "text": "risk"
         }
        }
       }
      },
      "text/html": [
       "<div>                            <div id=\"252f4b0a-175c-4b15-a06d-6b4e52ddb371\" class=\"plotly-graph-div\" style=\"height:525px; width:100%;\"></div>            <script type=\"text/javascript\">                require([\"plotly\"], function(Plotly) {                    window.PLOTLYENV=window.PLOTLYENV || {};                                    if (document.getElementById(\"252f4b0a-175c-4b15-a06d-6b4e52ddb371\")) {                    Plotly.newPlot(                        \"252f4b0a-175c-4b15-a06d-6b4e52ddb371\",                        [{\"hovertemplate\":\"return=%{x}<br>risk=%{y}<br>index=%{text}<extra></extra>\",\"legendgroup\":\"\",\"marker\":{\"color\":\"#636efa\",\"symbol\":\"circle\"},\"mode\":\"markers+text\",\"name\":\"\",\"orientation\":\"v\",\"showlegend\":false,\"text\":[\"AAPL\",\"NVDA\",\"ZM\",\"AAWW\",\"AGNC\",\"LYFT\"],\"x\":[7.138743692505699e-06,-7.492120347449887e-05,5.0250535882285094e-08,6.643118073521664e-06,-5.564313552577184e-06,-1.4463370674071775e-05],\"xaxis\":\"x\",\"y\":[0.0007286981738945891,0.0076946546071021095,0.001374532685298593,0.0014682758604404916,0.0007252755303843606,0.0016591296247512601],\"yaxis\":\"y\",\"type\":\"scatter\"}],                        {\"template\":{\"data\":{\"histogram2dcontour\":[{\"type\":\"histogram2dcontour\",\"colorbar\":{\"outlinewidth\":0,\"ticks\":\"\"},\"colorscale\":[[0.0,\"#0d0887\"],[0.1111111111111111,\"#46039f\"],[0.2222222222222222,\"#7201a8\"],[0.3333333333333333,\"#9c179e\"],[0.4444444444444444,\"#bd3786\"],[0.5555555555555556,\"#d8576b\"],[0.6666666666666666,\"#ed7953\"],[0.7777777777777778,\"#fb9f3a\"],[0.8888888888888888,\"#fdca26\"],[1.0,\"#f0f921\"]]}],\"choropleth\":[{\"type\":\"choropleth\",\"colorbar\":{\"outlinewidth\":0,\"ticks\":\"\"}}],\"histogram2d\":[{\"type\":\"histogram2d\",\"colorbar\":{\"outlinewidth\":0,\"ticks\":\"\"},\"colorscale\":[[0.0,\"#0d0887\"],[0.1111111111111111,\"#46039f\"],[0.2222222222222222,\"#7201a8\"],[0.3333333333333333,\"#9c179e\"],[0.4444444444444444,\"#bd3786\"],[0.5555555555555556,\"#d8576b\"],[0.6666666666666666,\"#ed7953\"],[0.7777777777777778,\"#fb9f3a\"],[0.8888888888888888,\"#fdca26\"],[1.0,\"#f0f921\"]]}],\"heatmap\":[{\"type\":\"heatmap\",\"colorbar\":{\"outlinewidth\":0,\"ticks\":\"\"},\"colorscale\":[[0.0,\"#0d0887\"],[0.1111111111111111,\"#46039f\"],[0.2222222222222222,\"#7201a8\"],[0.3333333333333333,\"#9c179e\"],[0.4444444444444444,\"#bd3786\"],[0.5555555555555556,\"#d8576b\"],[0.6666666666666666,\"#ed7953\"],[0.7777777777777778,\"#fb9f3a\"],[0.8888888888888888,\"#fdca26\"],[1.0,\"#f0f921\"]]}],\"heatmapgl\":[{\"type\":\"heatmapgl\",\"colorbar\":{\"outlinewidth\":0,\"ticks\":\"\"},\"colorscale\":[[0.0,\"#0d0887\"],[0.1111111111111111,\"#46039f\"],[0.2222222222222222,\"#7201a8\"],[0.3333333333333333,\"#9c179e\"],[0.4444444444444444,\"#bd3786\"],[0.5555555555555556,\"#d8576b\"],[0.6666666666666666,\"#ed7953\"],[0.7777777777777778,\"#fb9f3a\"],[0.8888888888888888,\"#fdca26\"],[1.0,\"#f0f921\"]]}],\"contourcarpet\":[{\"type\":\"contourcarpet\",\"colorbar\":{\"outlinewidth\":0,\"ticks\":\"\"}}],\"contour\":[{\"type\":\"contour\",\"colorbar\":{\"outlinewidth\":0,\"ticks\":\"\"},\"colorscale\":[[0.0,\"#0d0887\"],[0.1111111111111111,\"#46039f\"],[0.2222222222222222,\"#7201a8\"],[0.3333333333333333,\"#9c179e\"],[0.4444444444444444,\"#bd3786\"],[0.5555555555555556,\"#d8576b\"],[0.6666666666666666,\"#ed7953\"],[0.7777777777777778,\"#fb9f3a\"],[0.8888888888888888,\"#fdca26\"],[1.0,\"#f0f921\"]]}],\"surface\":[{\"type\":\"surface\",\"colorbar\":{\"outlinewidth\":0,\"ticks\":\"\"},\"colorscale\":[[0.0,\"#0d0887\"],[0.1111111111111111,\"#46039f\"],[0.2222222222222222,\"#7201a8\"],[0.3333333333333333,\"#9c179e\"],[0.4444444444444444,\"#bd3786\"],[0.5555555555555556,\"#d8576b\"],[0.6666666666666666,\"#ed7953\"],[0.7777777777777778,\"#fb9f3a\"],[0.8888888888888888,\"#fdca26\"],[1.0,\"#f0f921\"]]}],\"mesh3d\":[{\"type\":\"mesh3d\",\"colorbar\":{\"outlinewidth\":0,\"ticks\":\"\"}}],\"scatter\":[{\"fillpattern\":{\"fillmode\":\"overlay\",\"size\":10,\"solidity\":0.2},\"type\":\"scatter\"}],\"parcoords\":[{\"type\":\"parcoords\",\"line\":{\"colorbar\":{\"outlinewidth\":0,\"ticks\":\"\"}}}],\"scatterpolargl\":[{\"type\":\"scatterpolargl\",\"marker\":{\"colorbar\":{\"outlinewidth\":0,\"ticks\":\"\"}}}],\"bar\":[{\"error_x\":{\"color\":\"#2a3f5f\"},\"error_y\":{\"color\":\"#2a3f5f\"},\"marker\":{\"line\":{\"color\":\"#E5ECF6\",\"width\":0.5},\"pattern\":{\"fillmode\":\"overlay\",\"size\":10,\"solidity\":0.2}},\"type\":\"bar\"}],\"scattergeo\":[{\"type\":\"scattergeo\",\"marker\":{\"colorbar\":{\"outlinewidth\":0,\"ticks\":\"\"}}}],\"scatterpolar\":[{\"type\":\"scatterpolar\",\"marker\":{\"colorbar\":{\"outlinewidth\":0,\"ticks\":\"\"}}}],\"histogram\":[{\"marker\":{\"pattern\":{\"fillmode\":\"overlay\",\"size\":10,\"solidity\":0.2}},\"type\":\"histogram\"}],\"scattergl\":[{\"type\":\"scattergl\",\"marker\":{\"colorbar\":{\"outlinewidth\":0,\"ticks\":\"\"}}}],\"scatter3d\":[{\"type\":\"scatter3d\",\"line\":{\"colorbar\":{\"outlinewidth\":0,\"ticks\":\"\"}},\"marker\":{\"colorbar\":{\"outlinewidth\":0,\"ticks\":\"\"}}}],\"scattermapbox\":[{\"type\":\"scattermapbox\",\"marker\":{\"colorbar\":{\"outlinewidth\":0,\"ticks\":\"\"}}}],\"scatterternary\":[{\"type\":\"scatterternary\",\"marker\":{\"colorbar\":{\"outlinewidth\":0,\"ticks\":\"\"}}}],\"scattercarpet\":[{\"type\":\"scattercarpet\",\"marker\":{\"colorbar\":{\"outlinewidth\":0,\"ticks\":\"\"}}}],\"carpet\":[{\"aaxis\":{\"endlinecolor\":\"#2a3f5f\",\"gridcolor\":\"white\",\"linecolor\":\"white\",\"minorgridcolor\":\"white\",\"startlinecolor\":\"#2a3f5f\"},\"baxis\":{\"endlinecolor\":\"#2a3f5f\",\"gridcolor\":\"white\",\"linecolor\":\"white\",\"minorgridcolor\":\"white\",\"startlinecolor\":\"#2a3f5f\"},\"type\":\"carpet\"}],\"table\":[{\"cells\":{\"fill\":{\"color\":\"#EBF0F8\"},\"line\":{\"color\":\"white\"}},\"header\":{\"fill\":{\"color\":\"#C8D4E3\"},\"line\":{\"color\":\"white\"}},\"type\":\"table\"}],\"barpolar\":[{\"marker\":{\"line\":{\"color\":\"#E5ECF6\",\"width\":0.5},\"pattern\":{\"fillmode\":\"overlay\",\"size\":10,\"solidity\":0.2}},\"type\":\"barpolar\"}],\"pie\":[{\"automargin\":true,\"type\":\"pie\"}]},\"layout\":{\"autotypenumbers\":\"strict\",\"colorway\":[\"#636efa\",\"#EF553B\",\"#00cc96\",\"#ab63fa\",\"#FFA15A\",\"#19d3f3\",\"#FF6692\",\"#B6E880\",\"#FF97FF\",\"#FECB52\"],\"font\":{\"color\":\"#2a3f5f\"},\"hovermode\":\"closest\",\"hoverlabel\":{\"align\":\"left\"},\"paper_bgcolor\":\"white\",\"plot_bgcolor\":\"#E5ECF6\",\"polar\":{\"bgcolor\":\"#E5ECF6\",\"angularaxis\":{\"gridcolor\":\"white\",\"linecolor\":\"white\",\"ticks\":\"\"},\"radialaxis\":{\"gridcolor\":\"white\",\"linecolor\":\"white\",\"ticks\":\"\"}},\"ternary\":{\"bgcolor\":\"#E5ECF6\",\"aaxis\":{\"gridcolor\":\"white\",\"linecolor\":\"white\",\"ticks\":\"\"},\"baxis\":{\"gridcolor\":\"white\",\"linecolor\":\"white\",\"ticks\":\"\"},\"caxis\":{\"gridcolor\":\"white\",\"linecolor\":\"white\",\"ticks\":\"\"}},\"coloraxis\":{\"colorbar\":{\"outlinewidth\":0,\"ticks\":\"\"}},\"colorscale\":{\"sequential\":[[0.0,\"#0d0887\"],[0.1111111111111111,\"#46039f\"],[0.2222222222222222,\"#7201a8\"],[0.3333333333333333,\"#9c179e\"],[0.4444444444444444,\"#bd3786\"],[0.5555555555555556,\"#d8576b\"],[0.6666666666666666,\"#ed7953\"],[0.7777777777777778,\"#fb9f3a\"],[0.8888888888888888,\"#fdca26\"],[1.0,\"#f0f921\"]],\"sequentialminus\":[[0.0,\"#0d0887\"],[0.1111111111111111,\"#46039f\"],[0.2222222222222222,\"#7201a8\"],[0.3333333333333333,\"#9c179e\"],[0.4444444444444444,\"#bd3786\"],[0.5555555555555556,\"#d8576b\"],[0.6666666666666666,\"#ed7953\"],[0.7777777777777778,\"#fb9f3a\"],[0.8888888888888888,\"#fdca26\"],[1.0,\"#f0f921\"]],\"diverging\":[[0,\"#8e0152\"],[0.1,\"#c51b7d\"],[0.2,\"#de77ae\"],[0.3,\"#f1b6da\"],[0.4,\"#fde0ef\"],[0.5,\"#f7f7f7\"],[0.6,\"#e6f5d0\"],[0.7,\"#b8e186\"],[0.8,\"#7fbc41\"],[0.9,\"#4d9221\"],[1,\"#276419\"]]},\"xaxis\":{\"gridcolor\":\"white\",\"linecolor\":\"white\",\"ticks\":\"\",\"title\":{\"standoff\":15},\"zerolinecolor\":\"white\",\"automargin\":true,\"zerolinewidth\":2},\"yaxis\":{\"gridcolor\":\"white\",\"linecolor\":\"white\",\"ticks\":\"\",\"title\":{\"standoff\":15},\"zerolinecolor\":\"white\",\"automargin\":true,\"zerolinewidth\":2},\"scene\":{\"xaxis\":{\"backgroundcolor\":\"#E5ECF6\",\"gridcolor\":\"white\",\"linecolor\":\"white\",\"showbackground\":true,\"ticks\":\"\",\"zerolinecolor\":\"white\",\"gridwidth\":2},\"yaxis\":{\"backgroundcolor\":\"#E5ECF6\",\"gridcolor\":\"white\",\"linecolor\":\"white\",\"showbackground\":true,\"ticks\":\"\",\"zerolinecolor\":\"white\",\"gridwidth\":2},\"zaxis\":{\"backgroundcolor\":\"#E5ECF6\",\"gridcolor\":\"white\",\"linecolor\":\"white\",\"showbackground\":true,\"ticks\":\"\",\"zerolinecolor\":\"white\",\"gridwidth\":2}},\"shapedefaults\":{\"line\":{\"color\":\"#2a3f5f\"}},\"annotationdefaults\":{\"arrowcolor\":\"#2a3f5f\",\"arrowhead\":0,\"arrowwidth\":1},\"geo\":{\"bgcolor\":\"white\",\"landcolor\":\"#E5ECF6\",\"subunitcolor\":\"white\",\"showland\":true,\"showlakes\":true,\"lakecolor\":\"white\"},\"title\":{\"x\":0.05},\"mapbox\":{\"style\":\"light\"}}},\"xaxis\":{\"anchor\":\"y\",\"domain\":[0.0,1.0],\"title\":{\"text\":\"return\"}},\"yaxis\":{\"anchor\":\"x\",\"domain\":[0.0,1.0],\"title\":{\"text\":\"risk\"}},\"legend\":{\"tracegroupgap\":0},\"margin\":{\"t\":60}},                        {\"responsive\": true}                    ).then(function(){\n",
       "                            \n",
       "var gd = document.getElementById('252f4b0a-175c-4b15-a06d-6b4e52ddb371');\n",
       "var x = new MutationObserver(function (mutations, observer) {{\n",
       "        var display = window.getComputedStyle(gd).display;\n",
       "        if (!display || display === 'none') {{\n",
       "            console.log([gd, 'removed!']);\n",
       "            Plotly.purge(gd);\n",
       "            observer.disconnect();\n",
       "        }}\n",
       "}});\n",
       "\n",
       "// Listen for the removal of the full notebook cells\n",
       "var notebookContainer = gd.closest('#notebook-container');\n",
       "if (notebookContainer) {{\n",
       "    x.observe(notebookContainer, {childList: true});\n",
       "}}\n",
       "\n",
       "// Listen for the clearing of the current output cell\n",
       "var outputEl = gd.closest('.output');\n",
       "if (outputEl) {{\n",
       "    x.observe(outputEl, {childList: true});\n",
       "}}\n",
       "\n",
       "                        })                };                });            </script>        </div>"
      ]
     },
     "metadata": {},
     "output_type": "display_data"
    }
   ],
   "source": [
    "fig = px.scatter(risk_return, x='return', y='risk', text=risk_return.index)\n",
    "fig.show()"
   ]
  },
  {
   "cell_type": "code",
   "execution_count": null,
   "metadata": {},
   "outputs": [],
   "source": []
  },
  {
   "cell_type": "code",
   "execution_count": null,
   "metadata": {},
   "outputs": [],
   "source": []
  }
 ],
 "metadata": {
  "kernelspec": {
   "display_name": "Python 3 (ipykernel)",
   "language": "python",
   "name": "python3"
  },
  "language_info": {
   "codemirror_mode": {
    "name": "ipython",
    "version": 3
   },
   "file_extension": ".py",
   "mimetype": "text/x-python",
   "name": "python",
   "nbconvert_exporter": "python",
   "pygments_lexer": "ipython3",
   "version": "3.10.8"
  }
 },
 "nbformat": 4,
 "nbformat_minor": 1
}
