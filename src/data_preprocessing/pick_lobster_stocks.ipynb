{
 "cells": [
  {
   "cell_type": "code",
   "execution_count": 1,
   "outputs": [
    {
     "name": "stdout",
     "output_type": "stream",
     "text": [
      "/Users/matteoprata/PycharmProjects/lob-adverdarial-attacks-2022\n"
     ]
    }
   ],
   "source": [
    "%cd /Users/matteoprata/PycharmProjects/lob-adverdarial-attacks-2022"
   ],
   "metadata": {
    "collapsed": false,
    "pycharm": {
     "name": "#%%\n"
    }
   }
  },
  {
   "cell_type": "code",
   "execution_count": 2,
   "outputs": [],
   "source": [
    "import os\n",
    "import pandas as pd\n",
    "import matplotlib.pyplot as plt\n",
    "import plotly.express as px\n",
    "\n",
    "from sklearn.cluster import MeanShift, KMeans\n",
    "import numpy as np\n",
    "import pickle\n",
    "\n",
    "np.random.seed(0)\n",
    "plt.rcParams[\"figure.figsize\"] = (16,9)"
   ],
   "metadata": {
    "collapsed": false,
    "pycharm": {
     "name": "#%%\n"
    }
   }
  },
  {
   "cell_type": "code",
   "execution_count": 3,
   "outputs": [
    {
     "name": "stdout",
     "output_type": "stream",
     "text": [
      "/Users/matteoprata/PycharmProjects/lob-adverdarial-attacks-2022\n"
     ]
    }
   ],
   "source": [
    "print(os.getcwd())\n",
    "\n",
    "PATH_NAME = \"data/stocks_picker/\"\n",
    "TOTAL_STOCKS = \"chosen_stocks.txt\"\n",
    "STOCKS_FNAME = \"_data_dwn_48_332__{}_2021-09-01_2022-09-01_1_1\"\n",
    "\n",
    "with open(PATH_NAME + TOTAL_STOCKS) as f:\n",
    "\tli_stocks = [l.strip() for l in f.readlines()]"
   ],
   "metadata": {
    "collapsed": false,
    "pycharm": {
     "name": "#%%\n"
    }
   }
  },
  {
   "cell_type": "code",
   "execution_count": 11,
   "outputs": [],
   "source": [
    "RETURNS_FNAME = \"price_return_df.dat\"\n",
    "if not os.path.exists(RETURNS_FNAME):\n",
    "\n",
    "    out_df = None\n",
    "    daily_midprice = pd.DataFrame()\n",
    "\n",
    "    for i, i_stock in enumerate(li_stocks):\n",
    "        try:\n",
    "            print(\"Processing stock\", i, i_stock)\n",
    "            stock_path = PATH_NAME+STOCKS_FNAME.format(i_stock) + \"/\"\n",
    "            stock_dataframe = pd.DataFrame()\n",
    "\n",
    "            tra_days = os.listdir(stock_path)\n",
    "            tra_days.sort()\n",
    "\n",
    "            for f in tra_days:\n",
    "                with open(stock_path + f) as file:\n",
    "                    new_df = pd.read_csv(file)\n",
    "                    stock_dataframe = pd.concat([stock_dataframe, new_df], axis=0)\n",
    "            stock_dataframe = stock_dataframe.reset_index()\n",
    "\n",
    "            # if stock_dataframe.isnull().values.any():\n",
    "            #     print(\"skipping with nan\", i, i_stock)\n",
    "            #     continue\n",
    "\n",
    "            daily_midprice[i_stock] = (stock_dataframe.loc[:, \"ask_1\"] + stock_dataframe.loc[:, \"bid_1\"]) / (2 * 10000)\n",
    "        except:\n",
    "            print(\"ignoring\", i_stock)\n",
    "\n",
    "    with open(RETURNS_FNAME, \"wb\") as f:\n",
    "        pickle.dump(daily_midprice, f)\n",
    "else:\n",
    "    print(\"Loading pickle...\")\n",
    "    with open(RETURNS_FNAME, \"rb\") as f:\n",
    "        daily_midprice = pickle.load(f)"
   ],
   "metadata": {
    "collapsed": false,
    "pycharm": {
     "name": "#%%\n"
    }
   }
  },
  {
   "cell_type": "code",
   "execution_count": 12,
   "outputs": [
    {
     "data": {
      "text/plain": "            AAPL     NVDA   META    LYFT     COIN    AFRM    AGNC    PARA  \\\n0         152.81  224.985   15.2  47.995  260.015   94.33  16.355  29.650   \n1        152.725  224.955   15.2   48.16  260.225  94.385  16.355  29.540   \n2        152.695  224.805   15.2   48.02   260.26  94.385  16.325  29.560   \n3         152.78   224.78  15.19   48.06   260.26  94.395  16.315  29.565   \n4         152.86  224.825  15.19  48.075   260.26   94.51  16.315  29.560   \n...          ...      ...    ...     ...      ...     ...     ...     ...   \n5386657  158.235  139.495    NaN  14.395      NaN  23.165  11.775     NaN   \n5386658  158.215   139.41    NaN  14.385      NaN  23.165  11.775     NaN   \n5386659  158.255  139.455    NaN  14.385      NaN  23.165  11.775     NaN   \n5386660  158.205   139.34    NaN  14.385      NaN     NaN  11.775     NaN   \n5386661  158.035      NaN    NaN  14.385      NaN     NaN  11.775     NaN   \n\n           ERIC     BKR  ...    PPBI    AAWW     IPGP     CASY     MANH  \\\n0         11.92  22.675  ...  39.335  71.805  172.035  206.375  165.765   \n1        11.925   22.71  ...    40.2  73.285  170.775  205.025   165.75   \n2        11.925   22.71  ...    40.2  73.285  171.355  205.025  163.585   \n3        11.925    22.7  ...  39.335  73.285   171.36  205.020  163.585   \n4        11.925  22.715  ...  39.665  73.285   171.36  205.030  163.585   \n...         ...     ...  ...     ...     ...      ...      ...      ...   \n5386657     NaN  24.585  ...     NaN     NaN   90.505  215.245   139.37   \n5386658     NaN  24.585  ...     NaN     NaN   90.505  215.245   139.37   \n5386659     NaN  24.585  ...     NaN     NaN   90.505  215.245   139.46   \n5386660     NaN  24.585  ...     NaN     NaN   90.505  215.245  139.455   \n5386661     NaN  24.585  ...     NaN     NaN   90.505  215.245  139.455   \n\n           GLPG     NSIT     TTEC    CENT   LSXMB  \n0         58.76   99.545  104.995  46.455  51.365  \n1        58.755  100.125   106.13  45.860  48.695  \n2         58.83  103.625   106.13  46.190   50.49  \n3         58.83  103.435   106.06  46.195   53.65  \n4         58.79   103.43   106.13  46.190   53.65  \n...         ...      ...      ...     ...     ...  \n5386657   49.47      NaN    52.01  39.320  42.585  \n5386658   49.47      NaN    52.01  39.320  42.585  \n5386659   49.47      NaN    52.01  39.320  42.585  \n5386660   49.47      NaN    52.07  39.320  42.585  \n5386661   49.47      NaN    52.07  39.320  42.585  \n\n[5386662 rows x 100 columns]",
      "text/html": "<div>\n<style scoped>\n    .dataframe tbody tr th:only-of-type {\n        vertical-align: middle;\n    }\n\n    .dataframe tbody tr th {\n        vertical-align: top;\n    }\n\n    .dataframe thead th {\n        text-align: right;\n    }\n</style>\n<table border=\"1\" class=\"dataframe\">\n  <thead>\n    <tr style=\"text-align: right;\">\n      <th></th>\n      <th>AAPL</th>\n      <th>NVDA</th>\n      <th>META</th>\n      <th>LYFT</th>\n      <th>COIN</th>\n      <th>AFRM</th>\n      <th>AGNC</th>\n      <th>PARA</th>\n      <th>ERIC</th>\n      <th>BKR</th>\n      <th>...</th>\n      <th>PPBI</th>\n      <th>AAWW</th>\n      <th>IPGP</th>\n      <th>CASY</th>\n      <th>MANH</th>\n      <th>GLPG</th>\n      <th>NSIT</th>\n      <th>TTEC</th>\n      <th>CENT</th>\n      <th>LSXMB</th>\n    </tr>\n  </thead>\n  <tbody>\n    <tr>\n      <th>0</th>\n      <td>152.81</td>\n      <td>224.985</td>\n      <td>15.2</td>\n      <td>47.995</td>\n      <td>260.015</td>\n      <td>94.33</td>\n      <td>16.355</td>\n      <td>29.650</td>\n      <td>11.92</td>\n      <td>22.675</td>\n      <td>...</td>\n      <td>39.335</td>\n      <td>71.805</td>\n      <td>172.035</td>\n      <td>206.375</td>\n      <td>165.765</td>\n      <td>58.76</td>\n      <td>99.545</td>\n      <td>104.995</td>\n      <td>46.455</td>\n      <td>51.365</td>\n    </tr>\n    <tr>\n      <th>1</th>\n      <td>152.725</td>\n      <td>224.955</td>\n      <td>15.2</td>\n      <td>48.16</td>\n      <td>260.225</td>\n      <td>94.385</td>\n      <td>16.355</td>\n      <td>29.540</td>\n      <td>11.925</td>\n      <td>22.71</td>\n      <td>...</td>\n      <td>40.2</td>\n      <td>73.285</td>\n      <td>170.775</td>\n      <td>205.025</td>\n      <td>165.75</td>\n      <td>58.755</td>\n      <td>100.125</td>\n      <td>106.13</td>\n      <td>45.860</td>\n      <td>48.695</td>\n    </tr>\n    <tr>\n      <th>2</th>\n      <td>152.695</td>\n      <td>224.805</td>\n      <td>15.2</td>\n      <td>48.02</td>\n      <td>260.26</td>\n      <td>94.385</td>\n      <td>16.325</td>\n      <td>29.560</td>\n      <td>11.925</td>\n      <td>22.71</td>\n      <td>...</td>\n      <td>40.2</td>\n      <td>73.285</td>\n      <td>171.355</td>\n      <td>205.025</td>\n      <td>163.585</td>\n      <td>58.83</td>\n      <td>103.625</td>\n      <td>106.13</td>\n      <td>46.190</td>\n      <td>50.49</td>\n    </tr>\n    <tr>\n      <th>3</th>\n      <td>152.78</td>\n      <td>224.78</td>\n      <td>15.19</td>\n      <td>48.06</td>\n      <td>260.26</td>\n      <td>94.395</td>\n      <td>16.315</td>\n      <td>29.565</td>\n      <td>11.925</td>\n      <td>22.7</td>\n      <td>...</td>\n      <td>39.335</td>\n      <td>73.285</td>\n      <td>171.36</td>\n      <td>205.020</td>\n      <td>163.585</td>\n      <td>58.83</td>\n      <td>103.435</td>\n      <td>106.06</td>\n      <td>46.195</td>\n      <td>53.65</td>\n    </tr>\n    <tr>\n      <th>4</th>\n      <td>152.86</td>\n      <td>224.825</td>\n      <td>15.19</td>\n      <td>48.075</td>\n      <td>260.26</td>\n      <td>94.51</td>\n      <td>16.315</td>\n      <td>29.560</td>\n      <td>11.925</td>\n      <td>22.715</td>\n      <td>...</td>\n      <td>39.665</td>\n      <td>73.285</td>\n      <td>171.36</td>\n      <td>205.030</td>\n      <td>163.585</td>\n      <td>58.79</td>\n      <td>103.43</td>\n      <td>106.13</td>\n      <td>46.190</td>\n      <td>53.65</td>\n    </tr>\n    <tr>\n      <th>...</th>\n      <td>...</td>\n      <td>...</td>\n      <td>...</td>\n      <td>...</td>\n      <td>...</td>\n      <td>...</td>\n      <td>...</td>\n      <td>...</td>\n      <td>...</td>\n      <td>...</td>\n      <td>...</td>\n      <td>...</td>\n      <td>...</td>\n      <td>...</td>\n      <td>...</td>\n      <td>...</td>\n      <td>...</td>\n      <td>...</td>\n      <td>...</td>\n      <td>...</td>\n      <td>...</td>\n    </tr>\n    <tr>\n      <th>5386657</th>\n      <td>158.235</td>\n      <td>139.495</td>\n      <td>NaN</td>\n      <td>14.395</td>\n      <td>NaN</td>\n      <td>23.165</td>\n      <td>11.775</td>\n      <td>NaN</td>\n      <td>NaN</td>\n      <td>24.585</td>\n      <td>...</td>\n      <td>NaN</td>\n      <td>NaN</td>\n      <td>90.505</td>\n      <td>215.245</td>\n      <td>139.37</td>\n      <td>49.47</td>\n      <td>NaN</td>\n      <td>52.01</td>\n      <td>39.320</td>\n      <td>42.585</td>\n    </tr>\n    <tr>\n      <th>5386658</th>\n      <td>158.215</td>\n      <td>139.41</td>\n      <td>NaN</td>\n      <td>14.385</td>\n      <td>NaN</td>\n      <td>23.165</td>\n      <td>11.775</td>\n      <td>NaN</td>\n      <td>NaN</td>\n      <td>24.585</td>\n      <td>...</td>\n      <td>NaN</td>\n      <td>NaN</td>\n      <td>90.505</td>\n      <td>215.245</td>\n      <td>139.37</td>\n      <td>49.47</td>\n      <td>NaN</td>\n      <td>52.01</td>\n      <td>39.320</td>\n      <td>42.585</td>\n    </tr>\n    <tr>\n      <th>5386659</th>\n      <td>158.255</td>\n      <td>139.455</td>\n      <td>NaN</td>\n      <td>14.385</td>\n      <td>NaN</td>\n      <td>23.165</td>\n      <td>11.775</td>\n      <td>NaN</td>\n      <td>NaN</td>\n      <td>24.585</td>\n      <td>...</td>\n      <td>NaN</td>\n      <td>NaN</td>\n      <td>90.505</td>\n      <td>215.245</td>\n      <td>139.46</td>\n      <td>49.47</td>\n      <td>NaN</td>\n      <td>52.01</td>\n      <td>39.320</td>\n      <td>42.585</td>\n    </tr>\n    <tr>\n      <th>5386660</th>\n      <td>158.205</td>\n      <td>139.34</td>\n      <td>NaN</td>\n      <td>14.385</td>\n      <td>NaN</td>\n      <td>NaN</td>\n      <td>11.775</td>\n      <td>NaN</td>\n      <td>NaN</td>\n      <td>24.585</td>\n      <td>...</td>\n      <td>NaN</td>\n      <td>NaN</td>\n      <td>90.505</td>\n      <td>215.245</td>\n      <td>139.455</td>\n      <td>49.47</td>\n      <td>NaN</td>\n      <td>52.07</td>\n      <td>39.320</td>\n      <td>42.585</td>\n    </tr>\n    <tr>\n      <th>5386661</th>\n      <td>158.035</td>\n      <td>NaN</td>\n      <td>NaN</td>\n      <td>14.385</td>\n      <td>NaN</td>\n      <td>NaN</td>\n      <td>11.775</td>\n      <td>NaN</td>\n      <td>NaN</td>\n      <td>24.585</td>\n      <td>...</td>\n      <td>NaN</td>\n      <td>NaN</td>\n      <td>90.505</td>\n      <td>215.245</td>\n      <td>139.455</td>\n      <td>49.47</td>\n      <td>NaN</td>\n      <td>52.07</td>\n      <td>39.320</td>\n      <td>42.585</td>\n    </tr>\n  </tbody>\n</table>\n<p>5386662 rows × 100 columns</p>\n</div>"
     },
     "execution_count": 12,
     "metadata": {},
     "output_type": "execute_result"
    }
   ],
   "source": [
    "daily_midprice"
   ],
   "metadata": {
    "collapsed": false,
    "pycharm": {
     "name": "#%%\n"
    }
   }
  },
  {
   "cell_type": "code",
   "execution_count": 13,
   "outputs": [
    {
     "data": {
      "text/plain": "            AAPL     NVDA     META    LYFT     COIN    AFRM    AGNC    PARA  \\\n0         152.81  224.985     15.2  47.995  260.015   94.33  16.355  29.650   \n23400    153.845   225.22    15.34   48.87  272.645    97.4  16.325  28.925   \n46800    153.755   223.32   15.255   49.08  272.005   98.85    16.3  28.105   \n70200     155.01   228.12   15.415    48.6   276.74  94.175  16.215  28.005   \n93600     156.99  225.145    15.36  50.495   257.02  92.305   16.05  28.360   \n...          ...      ...      ...     ...      ...     ...     ...     ...   \n2901600   171.43  257.935   166.53   38.37  182.475    44.0  13.075  25.635   \n2925000  172.995  279.765  161.455   38.52   189.68   44.01  13.015  24.760   \n2948400  174.065  276.205  168.095   37.73   186.94  41.235  13.235  23.825   \n2971800  174.925  280.235    159.8  36.955  202.005  42.585  13.315  24.005   \n2995200  178.795  286.115   155.61   40.07   204.98  48.055  13.555  23.025   \n\n           ERIC     BKR  ...    PPBI    AAWW     IPGP     CASY     MANH  \\\n0         11.92  22.675  ...  39.335  71.805  172.035  206.375  165.765   \n23400    12.075   22.76  ...   38.48   75.51   171.36  203.850  172.395   \n46800    12.045   23.41  ...  40.175  74.545    171.4  207.385   172.48   \n70200    11.945   23.08  ...   40.18   73.71  173.185  208.350   173.55   \n93600    11.845   23.12  ...   37.36  73.165   176.33  204.100  170.025   \n...         ...     ...  ...     ...     ...      ...      ...      ...   \n2901600   9.015  37.725  ...  35.595  86.995  113.735  188.275  141.385   \n2925000   9.185  38.375  ...   35.65   88.62   115.02  192.390  139.515   \n2948400   9.255  38.525  ...  36.385  88.305  112.965  194.910   137.34   \n2971800   9.405  37.055  ...   36.02   88.72  112.105  198.440   138.43   \n2995200   9.215  36.555  ...   37.18  88.915  119.485  200.035  143.565   \n\n           GLPG     NSIT     TTEC    CENT       LSXMB  \n0         58.76   99.545  104.995  46.455      51.365  \n23400    60.715  100.145   110.47  45.580       50.08  \n46800    60.555  100.775  110.395  44.830      50.385  \n70200    60.935  102.525   108.76  44.825  2147.33505  \n93600     60.32   106.57   109.48  43.975  2147.33505  \n...         ...      ...      ...     ...         ...  \n2901600  62.935  106.655    82.98  45.135      46.605  \n2925000  62.855  106.525   82.395  44.090      47.025  \n2948400  61.985   108.06   82.155  44.935      47.175  \n2971800  62.335   106.24   81.095  44.475       47.03  \n2995200   63.31   109.06   84.295  45.370      47.135  \n\n[129 rows x 100 columns]",
      "text/html": "<div>\n<style scoped>\n    .dataframe tbody tr th:only-of-type {\n        vertical-align: middle;\n    }\n\n    .dataframe tbody tr th {\n        vertical-align: top;\n    }\n\n    .dataframe thead th {\n        text-align: right;\n    }\n</style>\n<table border=\"1\" class=\"dataframe\">\n  <thead>\n    <tr style=\"text-align: right;\">\n      <th></th>\n      <th>AAPL</th>\n      <th>NVDA</th>\n      <th>META</th>\n      <th>LYFT</th>\n      <th>COIN</th>\n      <th>AFRM</th>\n      <th>AGNC</th>\n      <th>PARA</th>\n      <th>ERIC</th>\n      <th>BKR</th>\n      <th>...</th>\n      <th>PPBI</th>\n      <th>AAWW</th>\n      <th>IPGP</th>\n      <th>CASY</th>\n      <th>MANH</th>\n      <th>GLPG</th>\n      <th>NSIT</th>\n      <th>TTEC</th>\n      <th>CENT</th>\n      <th>LSXMB</th>\n    </tr>\n  </thead>\n  <tbody>\n    <tr>\n      <th>0</th>\n      <td>152.81</td>\n      <td>224.985</td>\n      <td>15.2</td>\n      <td>47.995</td>\n      <td>260.015</td>\n      <td>94.33</td>\n      <td>16.355</td>\n      <td>29.650</td>\n      <td>11.92</td>\n      <td>22.675</td>\n      <td>...</td>\n      <td>39.335</td>\n      <td>71.805</td>\n      <td>172.035</td>\n      <td>206.375</td>\n      <td>165.765</td>\n      <td>58.76</td>\n      <td>99.545</td>\n      <td>104.995</td>\n      <td>46.455</td>\n      <td>51.365</td>\n    </tr>\n    <tr>\n      <th>23400</th>\n      <td>153.845</td>\n      <td>225.22</td>\n      <td>15.34</td>\n      <td>48.87</td>\n      <td>272.645</td>\n      <td>97.4</td>\n      <td>16.325</td>\n      <td>28.925</td>\n      <td>12.075</td>\n      <td>22.76</td>\n      <td>...</td>\n      <td>38.48</td>\n      <td>75.51</td>\n      <td>171.36</td>\n      <td>203.850</td>\n      <td>172.395</td>\n      <td>60.715</td>\n      <td>100.145</td>\n      <td>110.47</td>\n      <td>45.580</td>\n      <td>50.08</td>\n    </tr>\n    <tr>\n      <th>46800</th>\n      <td>153.755</td>\n      <td>223.32</td>\n      <td>15.255</td>\n      <td>49.08</td>\n      <td>272.005</td>\n      <td>98.85</td>\n      <td>16.3</td>\n      <td>28.105</td>\n      <td>12.045</td>\n      <td>23.41</td>\n      <td>...</td>\n      <td>40.175</td>\n      <td>74.545</td>\n      <td>171.4</td>\n      <td>207.385</td>\n      <td>172.48</td>\n      <td>60.555</td>\n      <td>100.775</td>\n      <td>110.395</td>\n      <td>44.830</td>\n      <td>50.385</td>\n    </tr>\n    <tr>\n      <th>70200</th>\n      <td>155.01</td>\n      <td>228.12</td>\n      <td>15.415</td>\n      <td>48.6</td>\n      <td>276.74</td>\n      <td>94.175</td>\n      <td>16.215</td>\n      <td>28.005</td>\n      <td>11.945</td>\n      <td>23.08</td>\n      <td>...</td>\n      <td>40.18</td>\n      <td>73.71</td>\n      <td>173.185</td>\n      <td>208.350</td>\n      <td>173.55</td>\n      <td>60.935</td>\n      <td>102.525</td>\n      <td>108.76</td>\n      <td>44.825</td>\n      <td>2147.33505</td>\n    </tr>\n    <tr>\n      <th>93600</th>\n      <td>156.99</td>\n      <td>225.145</td>\n      <td>15.36</td>\n      <td>50.495</td>\n      <td>257.02</td>\n      <td>92.305</td>\n      <td>16.05</td>\n      <td>28.360</td>\n      <td>11.845</td>\n      <td>23.12</td>\n      <td>...</td>\n      <td>37.36</td>\n      <td>73.165</td>\n      <td>176.33</td>\n      <td>204.100</td>\n      <td>170.025</td>\n      <td>60.32</td>\n      <td>106.57</td>\n      <td>109.48</td>\n      <td>43.975</td>\n      <td>2147.33505</td>\n    </tr>\n    <tr>\n      <th>...</th>\n      <td>...</td>\n      <td>...</td>\n      <td>...</td>\n      <td>...</td>\n      <td>...</td>\n      <td>...</td>\n      <td>...</td>\n      <td>...</td>\n      <td>...</td>\n      <td>...</td>\n      <td>...</td>\n      <td>...</td>\n      <td>...</td>\n      <td>...</td>\n      <td>...</td>\n      <td>...</td>\n      <td>...</td>\n      <td>...</td>\n      <td>...</td>\n      <td>...</td>\n      <td>...</td>\n    </tr>\n    <tr>\n      <th>2901600</th>\n      <td>171.43</td>\n      <td>257.935</td>\n      <td>166.53</td>\n      <td>38.37</td>\n      <td>182.475</td>\n      <td>44.0</td>\n      <td>13.075</td>\n      <td>25.635</td>\n      <td>9.015</td>\n      <td>37.725</td>\n      <td>...</td>\n      <td>35.595</td>\n      <td>86.995</td>\n      <td>113.735</td>\n      <td>188.275</td>\n      <td>141.385</td>\n      <td>62.935</td>\n      <td>106.655</td>\n      <td>82.98</td>\n      <td>45.135</td>\n      <td>46.605</td>\n    </tr>\n    <tr>\n      <th>2925000</th>\n      <td>172.995</td>\n      <td>279.765</td>\n      <td>161.455</td>\n      <td>38.52</td>\n      <td>189.68</td>\n      <td>44.01</td>\n      <td>13.015</td>\n      <td>24.760</td>\n      <td>9.185</td>\n      <td>38.375</td>\n      <td>...</td>\n      <td>35.65</td>\n      <td>88.62</td>\n      <td>115.02</td>\n      <td>192.390</td>\n      <td>139.515</td>\n      <td>62.855</td>\n      <td>106.525</td>\n      <td>82.395</td>\n      <td>44.090</td>\n      <td>47.025</td>\n    </tr>\n    <tr>\n      <th>2948400</th>\n      <td>174.065</td>\n      <td>276.205</td>\n      <td>168.095</td>\n      <td>37.73</td>\n      <td>186.94</td>\n      <td>41.235</td>\n      <td>13.235</td>\n      <td>23.825</td>\n      <td>9.255</td>\n      <td>38.525</td>\n      <td>...</td>\n      <td>36.385</td>\n      <td>88.305</td>\n      <td>112.965</td>\n      <td>194.910</td>\n      <td>137.34</td>\n      <td>61.985</td>\n      <td>108.06</td>\n      <td>82.155</td>\n      <td>44.935</td>\n      <td>47.175</td>\n    </tr>\n    <tr>\n      <th>2971800</th>\n      <td>174.925</td>\n      <td>280.235</td>\n      <td>159.8</td>\n      <td>36.955</td>\n      <td>202.005</td>\n      <td>42.585</td>\n      <td>13.315</td>\n      <td>24.005</td>\n      <td>9.405</td>\n      <td>37.055</td>\n      <td>...</td>\n      <td>36.02</td>\n      <td>88.72</td>\n      <td>112.105</td>\n      <td>198.440</td>\n      <td>138.43</td>\n      <td>62.335</td>\n      <td>106.24</td>\n      <td>81.095</td>\n      <td>44.475</td>\n      <td>47.03</td>\n    </tr>\n    <tr>\n      <th>2995200</th>\n      <td>178.795</td>\n      <td>286.115</td>\n      <td>155.61</td>\n      <td>40.07</td>\n      <td>204.98</td>\n      <td>48.055</td>\n      <td>13.555</td>\n      <td>23.025</td>\n      <td>9.215</td>\n      <td>36.555</td>\n      <td>...</td>\n      <td>37.18</td>\n      <td>88.915</td>\n      <td>119.485</td>\n      <td>200.035</td>\n      <td>143.565</td>\n      <td>63.31</td>\n      <td>109.06</td>\n      <td>84.295</td>\n      <td>45.370</td>\n      <td>47.135</td>\n    </tr>\n  </tbody>\n</table>\n<p>129 rows × 100 columns</p>\n</div>"
     },
     "execution_count": 13,
     "metadata": {},
     "output_type": "execute_result"
    }
   ],
   "source": [
    "GRANULARITY = int(60*60*6.5)\n",
    "daily_midprice = daily_midprice.iloc[::GRANULARITY, :]  # 2. samples days granularity\n",
    "daily_midprice = daily_midprice.dropna(axis=0)          # 1. removes days that are not traded\n",
    "daily_midprice = daily_midprice[daily_midprice != 0]\n",
    "daily_midprice"
   ],
   "metadata": {
    "collapsed": false,
    "pycharm": {
     "name": "#%%\n"
    }
   }
  },
  {
   "cell_type": "code",
   "execution_count": 39,
   "outputs": [
    {
     "data": {
      "text/plain": "             AAPL      NVDA      META      LYFT      COIN      AFRM      AGNC  \\\n0        0.006773  0.001045  0.009211  0.018231  0.048574  0.032545 -0.001834   \n23400   -0.000585 -0.008436 -0.005541  0.004297 -0.002347  0.014887 -0.001531   \n46800    0.008162  0.021494  0.010488  -0.00978  0.017408 -0.047294 -0.005215   \n70200    0.012773 -0.013041 -0.003568  0.038992 -0.071258 -0.019857 -0.010176   \n93600   -0.009236 -0.007795 -0.013672 -0.018022  0.012781 -0.049564 -0.011526   \n...           ...       ...       ...       ...       ...       ...       ...   \n2878200  0.014229 -0.028859 -0.014761  0.005899 -0.029285  0.023137 -0.009094   \n2901600  0.009129  0.084634 -0.030475  0.003909  0.039485  0.000227 -0.004589   \n2925000  0.006185 -0.012725  0.041126 -0.020509 -0.014445 -0.063054  0.016904   \n2948400  0.004941  0.014591 -0.049347 -0.020541  0.080587  0.032739  0.006045   \n2971800  0.022124  0.020982  -0.02622  0.084292  0.014727  0.128449  0.018025   \n\n             PARA      ERIC       BKR  ...      PPBI      AAWW      IPGP  \\\n0       -0.024452  0.013003  0.003749  ... -0.021736  0.051598 -0.003924   \n23400   -0.028349 -0.002484  0.028559  ...  0.044049  -0.01278  0.000233   \n46800   -0.003558 -0.008302 -0.014097  ...  0.000124 -0.011201  0.010414   \n70200    0.012676 -0.008372  0.001733  ... -0.070184 -0.007394   0.01816   \n93600    0.039669  0.003377 -0.014922  ...  0.015257 -0.006014 -0.018176   \n...           ...       ...       ...  ...       ...       ...       ...   \n2878200  0.001367 -0.013136  0.041695  ... -0.039142   0.00294 -0.042876   \n2901600 -0.034133  0.018857   0.01723  ...  0.001545  0.018679  0.011298   \n2925000 -0.037763  0.007621  0.003909  ...  0.020617 -0.003555 -0.017866   \n2948400  0.007555  0.016207 -0.038157  ... -0.010032    0.0047 -0.007613   \n2971800 -0.040825 -0.020202 -0.013493  ...  0.032204  0.002198  0.065831   \n\n             CASY      MANH      GLPG      NSIT      TTEC      CENT     LSXMB  \n0       -0.012235  0.039996  0.033271  0.006027  0.052145 -0.018835 -0.025017  \n23400    0.017341  0.000493 -0.002635  0.006291 -0.000679 -0.016455   0.00609  \n46800    0.004653  0.006204  0.006275  0.017365  -0.01481 -0.000112       NaN  \n70200   -0.020398 -0.020311 -0.010093  0.039454   0.00662 -0.018963       0.0  \n93600   -0.061073 -0.005705 -0.009035 -0.051093 -0.039368 -0.083798       0.0  \n...           ...       ...       ...       ...       ...       ...       ...  \n2878200 -0.015169 -0.025469  0.011004 -0.023127  -0.04445 -0.014735 -0.001927  \n2901600  0.021856 -0.013226 -0.001271 -0.001219  -0.00705 -0.023153  0.009012  \n2925000  0.013098  -0.01559 -0.013841   0.01441 -0.002913  0.019165   0.00319  \n2948400  0.018111  0.007937  0.005647 -0.016842 -0.012902 -0.010237 -0.003074  \n2971800  0.008038  0.037095  0.015641  0.026544   0.03946  0.020124  0.002233  \n\n[128 rows x 100 columns]",
      "text/html": "<div>\n<style scoped>\n    .dataframe tbody tr th:only-of-type {\n        vertical-align: middle;\n    }\n\n    .dataframe tbody tr th {\n        vertical-align: top;\n    }\n\n    .dataframe thead th {\n        text-align: right;\n    }\n</style>\n<table border=\"1\" class=\"dataframe\">\n  <thead>\n    <tr style=\"text-align: right;\">\n      <th></th>\n      <th>AAPL</th>\n      <th>NVDA</th>\n      <th>META</th>\n      <th>LYFT</th>\n      <th>COIN</th>\n      <th>AFRM</th>\n      <th>AGNC</th>\n      <th>PARA</th>\n      <th>ERIC</th>\n      <th>BKR</th>\n      <th>...</th>\n      <th>PPBI</th>\n      <th>AAWW</th>\n      <th>IPGP</th>\n      <th>CASY</th>\n      <th>MANH</th>\n      <th>GLPG</th>\n      <th>NSIT</th>\n      <th>TTEC</th>\n      <th>CENT</th>\n      <th>LSXMB</th>\n    </tr>\n  </thead>\n  <tbody>\n    <tr>\n      <th>0</th>\n      <td>0.006773</td>\n      <td>0.001045</td>\n      <td>0.009211</td>\n      <td>0.018231</td>\n      <td>0.048574</td>\n      <td>0.032545</td>\n      <td>-0.001834</td>\n      <td>-0.024452</td>\n      <td>0.013003</td>\n      <td>0.003749</td>\n      <td>...</td>\n      <td>-0.021736</td>\n      <td>0.051598</td>\n      <td>-0.003924</td>\n      <td>-0.012235</td>\n      <td>0.039996</td>\n      <td>0.033271</td>\n      <td>0.006027</td>\n      <td>0.052145</td>\n      <td>-0.018835</td>\n      <td>-0.025017</td>\n    </tr>\n    <tr>\n      <th>23400</th>\n      <td>-0.000585</td>\n      <td>-0.008436</td>\n      <td>-0.005541</td>\n      <td>0.004297</td>\n      <td>-0.002347</td>\n      <td>0.014887</td>\n      <td>-0.001531</td>\n      <td>-0.028349</td>\n      <td>-0.002484</td>\n      <td>0.028559</td>\n      <td>...</td>\n      <td>0.044049</td>\n      <td>-0.01278</td>\n      <td>0.000233</td>\n      <td>0.017341</td>\n      <td>0.000493</td>\n      <td>-0.002635</td>\n      <td>0.006291</td>\n      <td>-0.000679</td>\n      <td>-0.016455</td>\n      <td>0.00609</td>\n    </tr>\n    <tr>\n      <th>46800</th>\n      <td>0.008162</td>\n      <td>0.021494</td>\n      <td>0.010488</td>\n      <td>-0.00978</td>\n      <td>0.017408</td>\n      <td>-0.047294</td>\n      <td>-0.005215</td>\n      <td>-0.003558</td>\n      <td>-0.008302</td>\n      <td>-0.014097</td>\n      <td>...</td>\n      <td>0.000124</td>\n      <td>-0.011201</td>\n      <td>0.010414</td>\n      <td>0.004653</td>\n      <td>0.006204</td>\n      <td>0.006275</td>\n      <td>0.017365</td>\n      <td>-0.01481</td>\n      <td>-0.000112</td>\n      <td>NaN</td>\n    </tr>\n    <tr>\n      <th>70200</th>\n      <td>0.012773</td>\n      <td>-0.013041</td>\n      <td>-0.003568</td>\n      <td>0.038992</td>\n      <td>-0.071258</td>\n      <td>-0.019857</td>\n      <td>-0.010176</td>\n      <td>0.012676</td>\n      <td>-0.008372</td>\n      <td>0.001733</td>\n      <td>...</td>\n      <td>-0.070184</td>\n      <td>-0.007394</td>\n      <td>0.01816</td>\n      <td>-0.020398</td>\n      <td>-0.020311</td>\n      <td>-0.010093</td>\n      <td>0.039454</td>\n      <td>0.00662</td>\n      <td>-0.018963</td>\n      <td>0.0</td>\n    </tr>\n    <tr>\n      <th>93600</th>\n      <td>-0.009236</td>\n      <td>-0.007795</td>\n      <td>-0.013672</td>\n      <td>-0.018022</td>\n      <td>0.012781</td>\n      <td>-0.049564</td>\n      <td>-0.011526</td>\n      <td>0.039669</td>\n      <td>0.003377</td>\n      <td>-0.014922</td>\n      <td>...</td>\n      <td>0.015257</td>\n      <td>-0.006014</td>\n      <td>-0.018176</td>\n      <td>-0.061073</td>\n      <td>-0.005705</td>\n      <td>-0.009035</td>\n      <td>-0.051093</td>\n      <td>-0.039368</td>\n      <td>-0.083798</td>\n      <td>0.0</td>\n    </tr>\n    <tr>\n      <th>...</th>\n      <td>...</td>\n      <td>...</td>\n      <td>...</td>\n      <td>...</td>\n      <td>...</td>\n      <td>...</td>\n      <td>...</td>\n      <td>...</td>\n      <td>...</td>\n      <td>...</td>\n      <td>...</td>\n      <td>...</td>\n      <td>...</td>\n      <td>...</td>\n      <td>...</td>\n      <td>...</td>\n      <td>...</td>\n      <td>...</td>\n      <td>...</td>\n      <td>...</td>\n      <td>...</td>\n    </tr>\n    <tr>\n      <th>2878200</th>\n      <td>0.014229</td>\n      <td>-0.028859</td>\n      <td>-0.014761</td>\n      <td>0.005899</td>\n      <td>-0.029285</td>\n      <td>0.023137</td>\n      <td>-0.009094</td>\n      <td>0.001367</td>\n      <td>-0.013136</td>\n      <td>0.041695</td>\n      <td>...</td>\n      <td>-0.039142</td>\n      <td>0.00294</td>\n      <td>-0.042876</td>\n      <td>-0.015169</td>\n      <td>-0.025469</td>\n      <td>0.011004</td>\n      <td>-0.023127</td>\n      <td>-0.04445</td>\n      <td>-0.014735</td>\n      <td>-0.001927</td>\n    </tr>\n    <tr>\n      <th>2901600</th>\n      <td>0.009129</td>\n      <td>0.084634</td>\n      <td>-0.030475</td>\n      <td>0.003909</td>\n      <td>0.039485</td>\n      <td>0.000227</td>\n      <td>-0.004589</td>\n      <td>-0.034133</td>\n      <td>0.018857</td>\n      <td>0.01723</td>\n      <td>...</td>\n      <td>0.001545</td>\n      <td>0.018679</td>\n      <td>0.011298</td>\n      <td>0.021856</td>\n      <td>-0.013226</td>\n      <td>-0.001271</td>\n      <td>-0.001219</td>\n      <td>-0.00705</td>\n      <td>-0.023153</td>\n      <td>0.009012</td>\n    </tr>\n    <tr>\n      <th>2925000</th>\n      <td>0.006185</td>\n      <td>-0.012725</td>\n      <td>0.041126</td>\n      <td>-0.020509</td>\n      <td>-0.014445</td>\n      <td>-0.063054</td>\n      <td>0.016904</td>\n      <td>-0.037763</td>\n      <td>0.007621</td>\n      <td>0.003909</td>\n      <td>...</td>\n      <td>0.020617</td>\n      <td>-0.003555</td>\n      <td>-0.017866</td>\n      <td>0.013098</td>\n      <td>-0.01559</td>\n      <td>-0.013841</td>\n      <td>0.01441</td>\n      <td>-0.002913</td>\n      <td>0.019165</td>\n      <td>0.00319</td>\n    </tr>\n    <tr>\n      <th>2948400</th>\n      <td>0.004941</td>\n      <td>0.014591</td>\n      <td>-0.049347</td>\n      <td>-0.020541</td>\n      <td>0.080587</td>\n      <td>0.032739</td>\n      <td>0.006045</td>\n      <td>0.007555</td>\n      <td>0.016207</td>\n      <td>-0.038157</td>\n      <td>...</td>\n      <td>-0.010032</td>\n      <td>0.0047</td>\n      <td>-0.007613</td>\n      <td>0.018111</td>\n      <td>0.007937</td>\n      <td>0.005647</td>\n      <td>-0.016842</td>\n      <td>-0.012902</td>\n      <td>-0.010237</td>\n      <td>-0.003074</td>\n    </tr>\n    <tr>\n      <th>2971800</th>\n      <td>0.022124</td>\n      <td>0.020982</td>\n      <td>-0.02622</td>\n      <td>0.084292</td>\n      <td>0.014727</td>\n      <td>0.128449</td>\n      <td>0.018025</td>\n      <td>-0.040825</td>\n      <td>-0.020202</td>\n      <td>-0.013493</td>\n      <td>...</td>\n      <td>0.032204</td>\n      <td>0.002198</td>\n      <td>0.065831</td>\n      <td>0.008038</td>\n      <td>0.037095</td>\n      <td>0.015641</td>\n      <td>0.026544</td>\n      <td>0.03946</td>\n      <td>0.020124</td>\n      <td>0.002233</td>\n    </tr>\n  </tbody>\n</table>\n<p>128 rows × 100 columns</p>\n</div>"
     },
     "execution_count": 39,
     "metadata": {},
     "output_type": "execute_result"
    }
   ],
   "source": [
    "daily_midprice = daily_midprice[daily_midprice != 0]\n",
    "\n",
    "past_mid = daily_midprice[:-1]\n",
    "futu_mid = daily_midprice.shift(-1)[:-1]\n",
    "daily_returns_df = (futu_mid - past_mid) / past_mid\n",
    "daily_returns_df = daily_returns_df[-10 < daily_returns_df]\n",
    "daily_returns_df = daily_returns_df[ 10 > daily_returns_df]\n",
    "daily_returns_df"
   ],
   "metadata": {
    "collapsed": false,
    "pycharm": {
     "name": "#%%\n"
    }
   }
  },
  {
   "cell_type": "code",
   "execution_count": null,
   "outputs": [],
   "source": [
    "# WIN = 20\n",
    "# stds_df = daily_returns_df.rolling(WIN).std()\n",
    "# #avgs_df = daily_returns_df.rolling(WIN).mean()\n",
    "# # ax = daily_returns_df.plot()\n",
    "# # stds_df.plot(ax=ax)\n",
    "# stds_df.iloc[:, 10:50].plot()"
   ],
   "metadata": {
    "collapsed": false,
    "pycharm": {
     "name": "#%%\n"
    }
   }
  },
  {
   "cell_type": "code",
   "execution_count": 40,
   "outputs": [
    {
     "data": {
      "text/plain": "         return      risk symbol\nAAPL   0.001384  0.017774   AAPL\nNVDA   0.002479  0.034990   NVDA\nMETA  -0.002869  0.024255   META\nLYFT  -0.000842  0.033886   LYFT\nCOIN  -0.000904  0.043683   COIN\n...         ...       ...    ...\nGLPG   0.001069  0.032308   GLPG\nNSIT   0.001004  0.024025   NSIT\nTTEC  -0.001274  0.029632   TTEC\nCENT   0.000093  0.023692   CENT\nLSXMB  0.000647  0.204167  LSXMB\n\n[100 rows x 3 columns]",
      "text/html": "<div>\n<style scoped>\n    .dataframe tbody tr th:only-of-type {\n        vertical-align: middle;\n    }\n\n    .dataframe tbody tr th {\n        vertical-align: top;\n    }\n\n    .dataframe thead th {\n        text-align: right;\n    }\n</style>\n<table border=\"1\" class=\"dataframe\">\n  <thead>\n    <tr style=\"text-align: right;\">\n      <th></th>\n      <th>return</th>\n      <th>risk</th>\n      <th>symbol</th>\n    </tr>\n  </thead>\n  <tbody>\n    <tr>\n      <th>AAPL</th>\n      <td>0.001384</td>\n      <td>0.017774</td>\n      <td>AAPL</td>\n    </tr>\n    <tr>\n      <th>NVDA</th>\n      <td>0.002479</td>\n      <td>0.034990</td>\n      <td>NVDA</td>\n    </tr>\n    <tr>\n      <th>META</th>\n      <td>-0.002869</td>\n      <td>0.024255</td>\n      <td>META</td>\n    </tr>\n    <tr>\n      <th>LYFT</th>\n      <td>-0.000842</td>\n      <td>0.033886</td>\n      <td>LYFT</td>\n    </tr>\n    <tr>\n      <th>COIN</th>\n      <td>-0.000904</td>\n      <td>0.043683</td>\n      <td>COIN</td>\n    </tr>\n    <tr>\n      <th>...</th>\n      <td>...</td>\n      <td>...</td>\n      <td>...</td>\n    </tr>\n    <tr>\n      <th>GLPG</th>\n      <td>0.001069</td>\n      <td>0.032308</td>\n      <td>GLPG</td>\n    </tr>\n    <tr>\n      <th>NSIT</th>\n      <td>0.001004</td>\n      <td>0.024025</td>\n      <td>NSIT</td>\n    </tr>\n    <tr>\n      <th>TTEC</th>\n      <td>-0.001274</td>\n      <td>0.029632</td>\n      <td>TTEC</td>\n    </tr>\n    <tr>\n      <th>CENT</th>\n      <td>0.000093</td>\n      <td>0.023692</td>\n      <td>CENT</td>\n    </tr>\n    <tr>\n      <th>LSXMB</th>\n      <td>0.000647</td>\n      <td>0.204167</td>\n      <td>LSXMB</td>\n    </tr>\n  </tbody>\n</table>\n<p>100 rows × 3 columns</p>\n</div>"
     },
     "execution_count": 40,
     "metadata": {},
     "output_type": "execute_result"
    }
   ],
   "source": [
    "risk_return = pd.DataFrame()\n",
    "risk_return[\"return\"] = daily_returns_df.mean(axis=0)\n",
    "risk_return[\"risk\"] = daily_returns_df.std(axis=0)\n",
    "risk_return[\"symbol\"] = daily_returns_df.columns\n",
    "# risk_return = risk_return.drop(\"ALHC\")\n",
    "risk_return"
   ],
   "metadata": {
    "collapsed": false,
    "pycharm": {
     "name": "#%%\n"
    }
   }
  },
  {
   "cell_type": "code",
   "execution_count": 41,
   "outputs": [
    {
     "data": {
      "application/vnd.plotly.v1+json": {
       "data": [
        {
         "hovertemplate": "return=%{x}<br>risk=%{y}<br>symbol=%{text}<extra></extra>",
         "legendgroup": "",
         "marker": {
          "color": "#636efa",
          "symbol": "circle"
         },
         "mode": "markers+text",
         "name": "",
         "orientation": "v",
         "showlegend": false,
         "text": [
          "AAPL",
          "NVDA",
          "META",
          "LYFT",
          "COIN",
          "AFRM",
          "AGNC",
          "PARA",
          "ERIC",
          "BKR",
          "XP",
          "ZM",
          "AMAT",
          "ADI",
          "DLO",
          "RKLB",
          "TEAM",
          "AZN",
          "CRWD",
          "DLTR",
          "FANG",
          "TMUS",
          "SHC",
          "WOOF",
          "WMG",
          "ISEE",
          "PEP",
          "CSGP",
          "MTCH",
          "LESL",
          "CG",
          "SBRA",
          "PENN",
          "SSRM",
          "EXPD",
          "EA",
          "TROW",
          "INSM",
          "LBRDK",
          "ACIW",
          "SYNH",
          "INMD",
          "TWNK",
          "APLS",
          "ABMD",
          "SRPT",
          "HSIC",
          "NCNO",
          "WSC",
          "SBNY",
          "ARVN",
          "ILMN",
          "AMLX",
          "IAC",
          "SBAC",
          "PTC",
          "TW",
          "SIVB",
          "LBRDA",
          "GNTX",
          "KNBE",
          "IEP",
          "PDCE",
          "SWAV",
          "BL",
          "JBHT",
          "TSEM",
          "XENE",
          "ALHC",
          "ZG",
          "SPT",
          "OMCL",
          "BEAM",
          "TCBI",
          "NBIX",
          "ZLAB",
          "OZK",
          "TFSL",
          "RRR",
          "BRKR",
          "MRCY",
          "VERX",
          "OLED",
          "MIDD",
          "SEIC",
          "VSAT",
          "NXST",
          "LANC",
          "SSB",
          "TTEK",
          "PPBI",
          "AAWW",
          "IPGP",
          "CASY",
          "MANH",
          "GLPG",
          "NSIT",
          "TTEC",
          "CENT",
          "LSXMB"
         ],
         "x": [
          0.0013839172220530367,
          0.002478611927739913,
          -0.002868571481772656,
          -8.423472180791669E-4,
          -9.036869681322363E-4,
          -0.003042204347680309,
          -0.0013753234993594229,
          -0.0014411574803271932,
          -0.0016699837633078717,
          0.004146967945723068,
          -0.01046438259189648,
          -0.013640153978765425,
          5.792349093480983E-4,
          4.764380599958842E-4,
          -0.01126259615865606,
          2.3369438034751206E-4,
          -0.008349312739960792,
          0.0010450192372543727,
          -8.311958761377914E-4,
          0.004819271928919813,
          -0.002650538553234886,
          -3.7764194450717935E-4,
          -6.230506900070483E-4,
          1.0834861406430594E-4,
          4.3084215458940873E-4,
          0.004941955224105563,
          5.692797893430527E-4,
          -0.0012619761558505453,
          -0.001249285258268616,
          -8.111686090654214E-4,
          2.2668278014751877E-4,
          -3.9863935386429616E-4,
          -0.003954041083004699,
          0.0024264181165422672,
          -0.0012346180176750045,
          -0.008517701627460204,
          -0.010555318243430948,
          -8.823096020527902E-4,
          -0.00994631930421311,
          -0.007532127006529156,
          -1.4726905923857255E-4,
          -0.014545351117201287,
          0.0024393439109606325,
          -6.521457063712224E-4,
          -3.8330920686792413E-4,
          4.7414849014829855E-4,
          0.0012030700877845022,
          -0.0015308236934773291,
          0.002522524761885348,
          0.002276701064275562,
          -0.0011157957326213702,
          -0.0016240352412810204,
          0.005772179706584549,
          -0.0015041231492475147,
          -0.00793034200782326,
          -0.0011943043430748148,
          2.9762559076848804E-4,
          8.955822056017563E-4,
          -0.0017423903286784641,
          3.7447468492681683E-5,
          4.7861696739445736E-4,
          -3.35084871841766E-4,
          0.005273424409494735,
          -0.007544003149628538,
          -0.010510902005447525,
          -0.006222482454351556,
          0.004560491890272812,
          0.00674107559350135,
          -0.010215256968603157,
          -0.003516439744521902,
          -0.001631974292816132,
          -8.917347734697907E-4,
          -0.0033195454615151925,
          -1.1982774306363854E-4,
          1.3464933491163727E-4,
          -0.007162157912515853,
          5.434303608332959E-4,
          -0.0011617147842482181,
          9.215805730179293E-4,
          -0.0016432900563579575,
          0.0021616922818538534,
          -0.002227962609509397,
          -9.383851648172162E-4,
          -8.564867786675564E-5,
          -0.007887990682511786,
          2.89888581962726E-4,
          0.0020123397569603986,
          -0.009070375527829999,
          0.0016490360969124835,
          0.0018087605161231485,
          -5.3639489291648884E-5,
          0.0019044023782594426,
          -0.0024684574248167368,
          -0.008072792851050349,
          -8.731747014153946E-4,
          0.0010694595336019413,
          0.00100380120459495,
          -0.001273721200975551,
          9.271058530438804E-5,
          6.467021944215911E-4
         ],
         "xaxis": "x",
         "y": [
          0.017774385147230634,
          0.03498972280957035,
          0.02425510154507351,
          0.033886485324159714,
          0.04368310489820729,
          0.06716396464278643,
          0.013449426328330627,
          0.03285857312982684,
          0.02574723715079681,
          0.028718198985971582,
          0.09736737593535144,
          0.09570816750389549,
          0.029232244383679398,
          0.01894154604964878,
          0.10947430923411394,
          0.06014520398070384,
          0.09532144655005795,
          0.017440463455206504,
          0.03982754735253209,
          0.027470472758219344,
          0.09414453954689343,
          0.022183794014562996,
          0.02844269238121161,
          0.03069984400307485,
          0.025568688903071665,
          0.059874069463935455,
          0.011126119811756723,
          0.02244612526721965,
          0.03392992053756417,
          0.027468141786277475,
          0.025162567657040488,
          0.019412480504619554,
          0.03852039751920067,
          0.02883681949515055,
          0.017350195741813863,
          0.09081791943135144,
          0.09102089567056204,
          0.030866530321022632,
          0.09174411030379621,
          0.09274299177891834,
          0.02749758118764992,
          0.10947023517018477,
          0.014876783784840551,
          0.052577224175577975,
          0.02584568794768982,
          0.03295660228563432,
          0.018168518194098145,
          0.042563852944160104,
          0.020419895058746952,
          0.033485825031190956,
          0.037272952599852485,
          0.02528574057044914,
          0.07782352903593459,
          0.029672298954555528,
          0.09023415528505982,
          0.022445279589569326,
          0.01563355207476118,
          0.03328861530361352,
          0.024710669334117967,
          0.018819564767036986,
          0.04008446093995987,
          0.01331997309611342,
          0.0373586326802767,
          0.09869948670132243,
          0.09241780352071866,
          0.09110001708742906,
          0.03879150737267301,
          0.08371081273748368,
          0.1038881819100417,
          0.04282464503538497,
          0.05229813256725799,
          0.022692601392373387,
          0.045639331221618444,
          0.028390298522850837,
          0.02656274943894875,
          0.060809799301618825,
          0.021819700454909337,
          0.014431824832734771,
          0.031720984468872976,
          0.02721100747987999,
          0.023695605734279784,
          0.03380353028908116,
          0.027243239295806233,
          0.023943026083548487,
          0.09160485859229284,
          0.03182109969495951,
          0.02389987692731785,
          0.08977097510631707,
          0.0235989242696347,
          0.026629782983190204,
          0.02800422242933134,
          0.021668038426066023,
          0.027336501945434025,
          0.09046997236283126,
          0.022478959810628918,
          0.03230822245777609,
          0.02402478004254536,
          0.02963239703065805,
          0.023691627492293272,
          0.20416674924623818
         ],
         "yaxis": "y",
         "type": "scatter"
        }
       ],
       "layout": {
        "template": {
         "data": {
          "bar": [
           {
            "error_x": {
             "color": "#2a3f5f"
            },
            "error_y": {
             "color": "#2a3f5f"
            },
            "marker": {
             "line": {
              "color": "#E5ECF6",
              "width": 0.5
             },
             "pattern": {
              "fillmode": "overlay",
              "size": 10,
              "solidity": 0.2
             }
            },
            "type": "bar"
           }
          ],
          "barpolar": [
           {
            "marker": {
             "line": {
              "color": "#E5ECF6",
              "width": 0.5
             },
             "pattern": {
              "fillmode": "overlay",
              "size": 10,
              "solidity": 0.2
             }
            },
            "type": "barpolar"
           }
          ],
          "carpet": [
           {
            "aaxis": {
             "endlinecolor": "#2a3f5f",
             "gridcolor": "white",
             "linecolor": "white",
             "minorgridcolor": "white",
             "startlinecolor": "#2a3f5f"
            },
            "baxis": {
             "endlinecolor": "#2a3f5f",
             "gridcolor": "white",
             "linecolor": "white",
             "minorgridcolor": "white",
             "startlinecolor": "#2a3f5f"
            },
            "type": "carpet"
           }
          ],
          "choropleth": [
           {
            "colorbar": {
             "outlinewidth": 0,
             "ticks": ""
            },
            "type": "choropleth"
           }
          ],
          "contour": [
           {
            "colorbar": {
             "outlinewidth": 0,
             "ticks": ""
            },
            "colorscale": [
             [
              0.0,
              "#0d0887"
             ],
             [
              0.1111111111111111,
              "#46039f"
             ],
             [
              0.2222222222222222,
              "#7201a8"
             ],
             [
              0.3333333333333333,
              "#9c179e"
             ],
             [
              0.4444444444444444,
              "#bd3786"
             ],
             [
              0.5555555555555556,
              "#d8576b"
             ],
             [
              0.6666666666666666,
              "#ed7953"
             ],
             [
              0.7777777777777778,
              "#fb9f3a"
             ],
             [
              0.8888888888888888,
              "#fdca26"
             ],
             [
              1.0,
              "#f0f921"
             ]
            ],
            "type": "contour"
           }
          ],
          "contourcarpet": [
           {
            "colorbar": {
             "outlinewidth": 0,
             "ticks": ""
            },
            "type": "contourcarpet"
           }
          ],
          "heatmap": [
           {
            "colorbar": {
             "outlinewidth": 0,
             "ticks": ""
            },
            "colorscale": [
             [
              0.0,
              "#0d0887"
             ],
             [
              0.1111111111111111,
              "#46039f"
             ],
             [
              0.2222222222222222,
              "#7201a8"
             ],
             [
              0.3333333333333333,
              "#9c179e"
             ],
             [
              0.4444444444444444,
              "#bd3786"
             ],
             [
              0.5555555555555556,
              "#d8576b"
             ],
             [
              0.6666666666666666,
              "#ed7953"
             ],
             [
              0.7777777777777778,
              "#fb9f3a"
             ],
             [
              0.8888888888888888,
              "#fdca26"
             ],
             [
              1.0,
              "#f0f921"
             ]
            ],
            "type": "heatmap"
           }
          ],
          "heatmapgl": [
           {
            "colorbar": {
             "outlinewidth": 0,
             "ticks": ""
            },
            "colorscale": [
             [
              0.0,
              "#0d0887"
             ],
             [
              0.1111111111111111,
              "#46039f"
             ],
             [
              0.2222222222222222,
              "#7201a8"
             ],
             [
              0.3333333333333333,
              "#9c179e"
             ],
             [
              0.4444444444444444,
              "#bd3786"
             ],
             [
              0.5555555555555556,
              "#d8576b"
             ],
             [
              0.6666666666666666,
              "#ed7953"
             ],
             [
              0.7777777777777778,
              "#fb9f3a"
             ],
             [
              0.8888888888888888,
              "#fdca26"
             ],
             [
              1.0,
              "#f0f921"
             ]
            ],
            "type": "heatmapgl"
           }
          ],
          "histogram": [
           {
            "marker": {
             "pattern": {
              "fillmode": "overlay",
              "size": 10,
              "solidity": 0.2
             }
            },
            "type": "histogram"
           }
          ],
          "histogram2d": [
           {
            "colorbar": {
             "outlinewidth": 0,
             "ticks": ""
            },
            "colorscale": [
             [
              0.0,
              "#0d0887"
             ],
             [
              0.1111111111111111,
              "#46039f"
             ],
             [
              0.2222222222222222,
              "#7201a8"
             ],
             [
              0.3333333333333333,
              "#9c179e"
             ],
             [
              0.4444444444444444,
              "#bd3786"
             ],
             [
              0.5555555555555556,
              "#d8576b"
             ],
             [
              0.6666666666666666,
              "#ed7953"
             ],
             [
              0.7777777777777778,
              "#fb9f3a"
             ],
             [
              0.8888888888888888,
              "#fdca26"
             ],
             [
              1.0,
              "#f0f921"
             ]
            ],
            "type": "histogram2d"
           }
          ],
          "histogram2dcontour": [
           {
            "colorbar": {
             "outlinewidth": 0,
             "ticks": ""
            },
            "colorscale": [
             [
              0.0,
              "#0d0887"
             ],
             [
              0.1111111111111111,
              "#46039f"
             ],
             [
              0.2222222222222222,
              "#7201a8"
             ],
             [
              0.3333333333333333,
              "#9c179e"
             ],
             [
              0.4444444444444444,
              "#bd3786"
             ],
             [
              0.5555555555555556,
              "#d8576b"
             ],
             [
              0.6666666666666666,
              "#ed7953"
             ],
             [
              0.7777777777777778,
              "#fb9f3a"
             ],
             [
              0.8888888888888888,
              "#fdca26"
             ],
             [
              1.0,
              "#f0f921"
             ]
            ],
            "type": "histogram2dcontour"
           }
          ],
          "mesh3d": [
           {
            "colorbar": {
             "outlinewidth": 0,
             "ticks": ""
            },
            "type": "mesh3d"
           }
          ],
          "parcoords": [
           {
            "line": {
             "colorbar": {
              "outlinewidth": 0,
              "ticks": ""
             }
            },
            "type": "parcoords"
           }
          ],
          "pie": [
           {
            "automargin": true,
            "type": "pie"
           }
          ],
          "scatter": [
           {
            "marker": {
             "colorbar": {
              "outlinewidth": 0,
              "ticks": ""
             }
            },
            "type": "scatter"
           }
          ],
          "scatter3d": [
           {
            "line": {
             "colorbar": {
              "outlinewidth": 0,
              "ticks": ""
             }
            },
            "marker": {
             "colorbar": {
              "outlinewidth": 0,
              "ticks": ""
             }
            },
            "type": "scatter3d"
           }
          ],
          "scattercarpet": [
           {
            "marker": {
             "colorbar": {
              "outlinewidth": 0,
              "ticks": ""
             }
            },
            "type": "scattercarpet"
           }
          ],
          "scattergeo": [
           {
            "marker": {
             "colorbar": {
              "outlinewidth": 0,
              "ticks": ""
             }
            },
            "type": "scattergeo"
           }
          ],
          "scattergl": [
           {
            "marker": {
             "colorbar": {
              "outlinewidth": 0,
              "ticks": ""
             }
            },
            "type": "scattergl"
           }
          ],
          "scattermapbox": [
           {
            "marker": {
             "colorbar": {
              "outlinewidth": 0,
              "ticks": ""
             }
            },
            "type": "scattermapbox"
           }
          ],
          "scatterpolar": [
           {
            "marker": {
             "colorbar": {
              "outlinewidth": 0,
              "ticks": ""
             }
            },
            "type": "scatterpolar"
           }
          ],
          "scatterpolargl": [
           {
            "marker": {
             "colorbar": {
              "outlinewidth": 0,
              "ticks": ""
             }
            },
            "type": "scatterpolargl"
           }
          ],
          "scatterternary": [
           {
            "marker": {
             "colorbar": {
              "outlinewidth": 0,
              "ticks": ""
             }
            },
            "type": "scatterternary"
           }
          ],
          "surface": [
           {
            "colorbar": {
             "outlinewidth": 0,
             "ticks": ""
            },
            "colorscale": [
             [
              0.0,
              "#0d0887"
             ],
             [
              0.1111111111111111,
              "#46039f"
             ],
             [
              0.2222222222222222,
              "#7201a8"
             ],
             [
              0.3333333333333333,
              "#9c179e"
             ],
             [
              0.4444444444444444,
              "#bd3786"
             ],
             [
              0.5555555555555556,
              "#d8576b"
             ],
             [
              0.6666666666666666,
              "#ed7953"
             ],
             [
              0.7777777777777778,
              "#fb9f3a"
             ],
             [
              0.8888888888888888,
              "#fdca26"
             ],
             [
              1.0,
              "#f0f921"
             ]
            ],
            "type": "surface"
           }
          ],
          "table": [
           {
            "cells": {
             "fill": {
              "color": "#EBF0F8"
             },
             "line": {
              "color": "white"
             }
            },
            "header": {
             "fill": {
              "color": "#C8D4E3"
             },
             "line": {
              "color": "white"
             }
            },
            "type": "table"
           }
          ]
         },
         "layout": {
          "annotationdefaults": {
           "arrowcolor": "#2a3f5f",
           "arrowhead": 0,
           "arrowwidth": 1
          },
          "autotypenumbers": "strict",
          "coloraxis": {
           "colorbar": {
            "outlinewidth": 0,
            "ticks": ""
           }
          },
          "colorscale": {
           "diverging": [
            [
             0,
             "#8e0152"
            ],
            [
             0.1,
             "#c51b7d"
            ],
            [
             0.2,
             "#de77ae"
            ],
            [
             0.3,
             "#f1b6da"
            ],
            [
             0.4,
             "#fde0ef"
            ],
            [
             0.5,
             "#f7f7f7"
            ],
            [
             0.6,
             "#e6f5d0"
            ],
            [
             0.7,
             "#b8e186"
            ],
            [
             0.8,
             "#7fbc41"
            ],
            [
             0.9,
             "#4d9221"
            ],
            [
             1,
             "#276419"
            ]
           ],
           "sequential": [
            [
             0.0,
             "#0d0887"
            ],
            [
             0.1111111111111111,
             "#46039f"
            ],
            [
             0.2222222222222222,
             "#7201a8"
            ],
            [
             0.3333333333333333,
             "#9c179e"
            ],
            [
             0.4444444444444444,
             "#bd3786"
            ],
            [
             0.5555555555555556,
             "#d8576b"
            ],
            [
             0.6666666666666666,
             "#ed7953"
            ],
            [
             0.7777777777777778,
             "#fb9f3a"
            ],
            [
             0.8888888888888888,
             "#fdca26"
            ],
            [
             1.0,
             "#f0f921"
            ]
           ],
           "sequentialminus": [
            [
             0.0,
             "#0d0887"
            ],
            [
             0.1111111111111111,
             "#46039f"
            ],
            [
             0.2222222222222222,
             "#7201a8"
            ],
            [
             0.3333333333333333,
             "#9c179e"
            ],
            [
             0.4444444444444444,
             "#bd3786"
            ],
            [
             0.5555555555555556,
             "#d8576b"
            ],
            [
             0.6666666666666666,
             "#ed7953"
            ],
            [
             0.7777777777777778,
             "#fb9f3a"
            ],
            [
             0.8888888888888888,
             "#fdca26"
            ],
            [
             1.0,
             "#f0f921"
            ]
           ]
          },
          "colorway": [
           "#636efa",
           "#EF553B",
           "#00cc96",
           "#ab63fa",
           "#FFA15A",
           "#19d3f3",
           "#FF6692",
           "#B6E880",
           "#FF97FF",
           "#FECB52"
          ],
          "font": {
           "color": "#2a3f5f"
          },
          "geo": {
           "bgcolor": "white",
           "lakecolor": "white",
           "landcolor": "#E5ECF6",
           "showlakes": true,
           "showland": true,
           "subunitcolor": "white"
          },
          "hoverlabel": {
           "align": "left"
          },
          "hovermode": "closest",
          "mapbox": {
           "style": "light"
          },
          "paper_bgcolor": "white",
          "plot_bgcolor": "#E5ECF6",
          "polar": {
           "angularaxis": {
            "gridcolor": "white",
            "linecolor": "white",
            "ticks": ""
           },
           "bgcolor": "#E5ECF6",
           "radialaxis": {
            "gridcolor": "white",
            "linecolor": "white",
            "ticks": ""
           }
          },
          "scene": {
           "xaxis": {
            "backgroundcolor": "#E5ECF6",
            "gridcolor": "white",
            "gridwidth": 2,
            "linecolor": "white",
            "showbackground": true,
            "ticks": "",
            "zerolinecolor": "white"
           },
           "yaxis": {
            "backgroundcolor": "#E5ECF6",
            "gridcolor": "white",
            "gridwidth": 2,
            "linecolor": "white",
            "showbackground": true,
            "ticks": "",
            "zerolinecolor": "white"
           },
           "zaxis": {
            "backgroundcolor": "#E5ECF6",
            "gridcolor": "white",
            "gridwidth": 2,
            "linecolor": "white",
            "showbackground": true,
            "ticks": "",
            "zerolinecolor": "white"
           }
          },
          "shapedefaults": {
           "line": {
            "color": "#2a3f5f"
           }
          },
          "ternary": {
           "aaxis": {
            "gridcolor": "white",
            "linecolor": "white",
            "ticks": ""
           },
           "baxis": {
            "gridcolor": "white",
            "linecolor": "white",
            "ticks": ""
           },
           "bgcolor": "#E5ECF6",
           "caxis": {
            "gridcolor": "white",
            "linecolor": "white",
            "ticks": ""
           }
          },
          "title": {
           "x": 0.05
          },
          "xaxis": {
           "automargin": true,
           "gridcolor": "white",
           "linecolor": "white",
           "ticks": "",
           "title": {
            "standoff": 15
           },
           "zerolinecolor": "white",
           "zerolinewidth": 2
          },
          "yaxis": {
           "automargin": true,
           "gridcolor": "white",
           "linecolor": "white",
           "ticks": "",
           "title": {
            "standoff": 15
           },
           "zerolinecolor": "white",
           "zerolinewidth": 2
          }
         }
        },
        "xaxis": {
         "anchor": "y",
         "domain": [
          0.0,
          1.0
         ],
         "title": {
          "text": "return"
         }
        },
        "yaxis": {
         "anchor": "x",
         "domain": [
          0.0,
          1.0
         ],
         "title": {
          "text": "risk"
         }
        },
        "legend": {
         "tracegroupgap": 0
        },
        "margin": {
         "t": 60
        }
       },
       "config": {
        "plotlyServerURL": "https://plot.ly"
       }
      },
      "text/html": "<div>                            <div id=\"c0976bdf-4a9b-4cd5-ac77-3156170d4276\" class=\"plotly-graph-div\" style=\"height:525px; width:100%;\"></div>            <script type=\"text/javascript\">                require([\"plotly\"], function(Plotly) {                    window.PLOTLYENV=window.PLOTLYENV || {};                                    if (document.getElementById(\"c0976bdf-4a9b-4cd5-ac77-3156170d4276\")) {                    Plotly.newPlot(                        \"c0976bdf-4a9b-4cd5-ac77-3156170d4276\",                        [{\"hovertemplate\":\"return=%{x}<br>risk=%{y}<br>symbol=%{text}<extra></extra>\",\"legendgroup\":\"\",\"marker\":{\"color\":\"#636efa\",\"symbol\":\"circle\"},\"mode\":\"markers+text\",\"name\":\"\",\"orientation\":\"v\",\"showlegend\":false,\"text\":[\"AAPL\",\"NVDA\",\"META\",\"LYFT\",\"COIN\",\"AFRM\",\"AGNC\",\"PARA\",\"ERIC\",\"BKR\",\"XP\",\"ZM\",\"AMAT\",\"ADI\",\"DLO\",\"RKLB\",\"TEAM\",\"AZN\",\"CRWD\",\"DLTR\",\"FANG\",\"TMUS\",\"SHC\",\"WOOF\",\"WMG\",\"ISEE\",\"PEP\",\"CSGP\",\"MTCH\",\"LESL\",\"CG\",\"SBRA\",\"PENN\",\"SSRM\",\"EXPD\",\"EA\",\"TROW\",\"INSM\",\"LBRDK\",\"ACIW\",\"SYNH\",\"INMD\",\"TWNK\",\"APLS\",\"ABMD\",\"SRPT\",\"HSIC\",\"NCNO\",\"WSC\",\"SBNY\",\"ARVN\",\"ILMN\",\"AMLX\",\"IAC\",\"SBAC\",\"PTC\",\"TW\",\"SIVB\",\"LBRDA\",\"GNTX\",\"KNBE\",\"IEP\",\"PDCE\",\"SWAV\",\"BL\",\"JBHT\",\"TSEM\",\"XENE\",\"ALHC\",\"ZG\",\"SPT\",\"OMCL\",\"BEAM\",\"TCBI\",\"NBIX\",\"ZLAB\",\"OZK\",\"TFSL\",\"RRR\",\"BRKR\",\"MRCY\",\"VERX\",\"OLED\",\"MIDD\",\"SEIC\",\"VSAT\",\"NXST\",\"LANC\",\"SSB\",\"TTEK\",\"PPBI\",\"AAWW\",\"IPGP\",\"CASY\",\"MANH\",\"GLPG\",\"NSIT\",\"TTEC\",\"CENT\",\"LSXMB\"],\"x\":[0.0013839172220530367,0.002478611927739913,-0.002868571481772656,-0.0008423472180791669,-0.0009036869681322363,-0.003042204347680309,-0.0013753234993594229,-0.0014411574803271932,-0.0016699837633078717,0.004146967945723068,-0.01046438259189648,-0.013640153978765425,0.0005792349093480983,0.0004764380599958842,-0.01126259615865606,0.00023369438034751206,-0.008349312739960792,0.0010450192372543727,-0.0008311958761377914,0.004819271928919813,-0.002650538553234886,-0.00037764194450717935,-0.0006230506900070483,0.00010834861406430594,0.00043084215458940873,0.004941955224105563,0.0005692797893430527,-0.0012619761558505453,-0.001249285258268616,-0.0008111686090654214,0.00022668278014751877,-0.00039863935386429616,-0.003954041083004699,0.0024264181165422672,-0.0012346180176750045,-0.008517701627460204,-0.010555318243430948,-0.0008823096020527902,-0.00994631930421311,-0.007532127006529156,-0.00014726905923857255,-0.014545351117201287,0.0024393439109606325,-0.0006521457063712224,-0.00038330920686792413,0.00047414849014829855,0.0012030700877845022,-0.0015308236934773291,0.002522524761885348,0.002276701064275562,-0.0011157957326213702,-0.0016240352412810204,0.005772179706584549,-0.0015041231492475147,-0.00793034200782326,-0.0011943043430748148,0.00029762559076848804,0.0008955822056017563,-0.0017423903286784641,3.7447468492681683e-05,0.00047861696739445736,-0.000335084871841766,0.005273424409494735,-0.007544003149628538,-0.010510902005447525,-0.006222482454351556,0.004560491890272812,0.00674107559350135,-0.010215256968603157,-0.003516439744521902,-0.001631974292816132,-0.0008917347734697907,-0.0033195454615151925,-0.00011982774306363854,0.00013464933491163727,-0.007162157912515853,0.0005434303608332959,-0.0011617147842482181,0.0009215805730179293,-0.0016432900563579575,0.0021616922818538534,-0.002227962609509397,-0.0009383851648172162,-8.564867786675564e-05,-0.007887990682511786,0.000289888581962726,0.0020123397569603986,-0.009070375527829999,0.0016490360969124835,0.0018087605161231485,-5.3639489291648884e-05,0.0019044023782594426,-0.0024684574248167368,-0.008072792851050349,-0.0008731747014153946,0.0010694595336019413,0.00100380120459495,-0.001273721200975551,9.271058530438804e-05,0.0006467021944215911],\"xaxis\":\"x\",\"y\":[0.017774385147230634,0.03498972280957035,0.02425510154507351,0.033886485324159714,0.04368310489820729,0.06716396464278643,0.013449426328330627,0.03285857312982684,0.02574723715079681,0.028718198985971582,0.09736737593535144,0.09570816750389549,0.029232244383679398,0.01894154604964878,0.10947430923411394,0.06014520398070384,0.09532144655005795,0.017440463455206504,0.03982754735253209,0.027470472758219344,0.09414453954689343,0.022183794014562996,0.02844269238121161,0.03069984400307485,0.025568688903071665,0.059874069463935455,0.011126119811756723,0.02244612526721965,0.03392992053756417,0.027468141786277475,0.025162567657040488,0.019412480504619554,0.03852039751920067,0.02883681949515055,0.017350195741813863,0.09081791943135144,0.09102089567056204,0.030866530321022632,0.09174411030379621,0.09274299177891834,0.02749758118764992,0.10947023517018477,0.014876783784840551,0.052577224175577975,0.02584568794768982,0.03295660228563432,0.018168518194098145,0.042563852944160104,0.020419895058746952,0.033485825031190956,0.037272952599852485,0.02528574057044914,0.07782352903593459,0.029672298954555528,0.09023415528505982,0.022445279589569326,0.01563355207476118,0.03328861530361352,0.024710669334117967,0.018819564767036986,0.04008446093995987,0.01331997309611342,0.0373586326802767,0.09869948670132243,0.09241780352071866,0.09110001708742906,0.03879150737267301,0.08371081273748368,0.1038881819100417,0.04282464503538497,0.05229813256725799,0.022692601392373387,0.045639331221618444,0.028390298522850837,0.02656274943894875,0.060809799301618825,0.021819700454909337,0.014431824832734771,0.031720984468872976,0.02721100747987999,0.023695605734279784,0.03380353028908116,0.027243239295806233,0.023943026083548487,0.09160485859229284,0.03182109969495951,0.02389987692731785,0.08977097510631707,0.0235989242696347,0.026629782983190204,0.02800422242933134,0.021668038426066023,0.027336501945434025,0.09046997236283126,0.022478959810628918,0.03230822245777609,0.02402478004254536,0.02963239703065805,0.023691627492293272,0.20416674924623818],\"yaxis\":\"y\",\"type\":\"scatter\"}],                        {\"template\":{\"data\":{\"bar\":[{\"error_x\":{\"color\":\"#2a3f5f\"},\"error_y\":{\"color\":\"#2a3f5f\"},\"marker\":{\"line\":{\"color\":\"#E5ECF6\",\"width\":0.5},\"pattern\":{\"fillmode\":\"overlay\",\"size\":10,\"solidity\":0.2}},\"type\":\"bar\"}],\"barpolar\":[{\"marker\":{\"line\":{\"color\":\"#E5ECF6\",\"width\":0.5},\"pattern\":{\"fillmode\":\"overlay\",\"size\":10,\"solidity\":0.2}},\"type\":\"barpolar\"}],\"carpet\":[{\"aaxis\":{\"endlinecolor\":\"#2a3f5f\",\"gridcolor\":\"white\",\"linecolor\":\"white\",\"minorgridcolor\":\"white\",\"startlinecolor\":\"#2a3f5f\"},\"baxis\":{\"endlinecolor\":\"#2a3f5f\",\"gridcolor\":\"white\",\"linecolor\":\"white\",\"minorgridcolor\":\"white\",\"startlinecolor\":\"#2a3f5f\"},\"type\":\"carpet\"}],\"choropleth\":[{\"colorbar\":{\"outlinewidth\":0,\"ticks\":\"\"},\"type\":\"choropleth\"}],\"contour\":[{\"colorbar\":{\"outlinewidth\":0,\"ticks\":\"\"},\"colorscale\":[[0.0,\"#0d0887\"],[0.1111111111111111,\"#46039f\"],[0.2222222222222222,\"#7201a8\"],[0.3333333333333333,\"#9c179e\"],[0.4444444444444444,\"#bd3786\"],[0.5555555555555556,\"#d8576b\"],[0.6666666666666666,\"#ed7953\"],[0.7777777777777778,\"#fb9f3a\"],[0.8888888888888888,\"#fdca26\"],[1.0,\"#f0f921\"]],\"type\":\"contour\"}],\"contourcarpet\":[{\"colorbar\":{\"outlinewidth\":0,\"ticks\":\"\"},\"type\":\"contourcarpet\"}],\"heatmap\":[{\"colorbar\":{\"outlinewidth\":0,\"ticks\":\"\"},\"colorscale\":[[0.0,\"#0d0887\"],[0.1111111111111111,\"#46039f\"],[0.2222222222222222,\"#7201a8\"],[0.3333333333333333,\"#9c179e\"],[0.4444444444444444,\"#bd3786\"],[0.5555555555555556,\"#d8576b\"],[0.6666666666666666,\"#ed7953\"],[0.7777777777777778,\"#fb9f3a\"],[0.8888888888888888,\"#fdca26\"],[1.0,\"#f0f921\"]],\"type\":\"heatmap\"}],\"heatmapgl\":[{\"colorbar\":{\"outlinewidth\":0,\"ticks\":\"\"},\"colorscale\":[[0.0,\"#0d0887\"],[0.1111111111111111,\"#46039f\"],[0.2222222222222222,\"#7201a8\"],[0.3333333333333333,\"#9c179e\"],[0.4444444444444444,\"#bd3786\"],[0.5555555555555556,\"#d8576b\"],[0.6666666666666666,\"#ed7953\"],[0.7777777777777778,\"#fb9f3a\"],[0.8888888888888888,\"#fdca26\"],[1.0,\"#f0f921\"]],\"type\":\"heatmapgl\"}],\"histogram\":[{\"marker\":{\"pattern\":{\"fillmode\":\"overlay\",\"size\":10,\"solidity\":0.2}},\"type\":\"histogram\"}],\"histogram2d\":[{\"colorbar\":{\"outlinewidth\":0,\"ticks\":\"\"},\"colorscale\":[[0.0,\"#0d0887\"],[0.1111111111111111,\"#46039f\"],[0.2222222222222222,\"#7201a8\"],[0.3333333333333333,\"#9c179e\"],[0.4444444444444444,\"#bd3786\"],[0.5555555555555556,\"#d8576b\"],[0.6666666666666666,\"#ed7953\"],[0.7777777777777778,\"#fb9f3a\"],[0.8888888888888888,\"#fdca26\"],[1.0,\"#f0f921\"]],\"type\":\"histogram2d\"}],\"histogram2dcontour\":[{\"colorbar\":{\"outlinewidth\":0,\"ticks\":\"\"},\"colorscale\":[[0.0,\"#0d0887\"],[0.1111111111111111,\"#46039f\"],[0.2222222222222222,\"#7201a8\"],[0.3333333333333333,\"#9c179e\"],[0.4444444444444444,\"#bd3786\"],[0.5555555555555556,\"#d8576b\"],[0.6666666666666666,\"#ed7953\"],[0.7777777777777778,\"#fb9f3a\"],[0.8888888888888888,\"#fdca26\"],[1.0,\"#f0f921\"]],\"type\":\"histogram2dcontour\"}],\"mesh3d\":[{\"colorbar\":{\"outlinewidth\":0,\"ticks\":\"\"},\"type\":\"mesh3d\"}],\"parcoords\":[{\"line\":{\"colorbar\":{\"outlinewidth\":0,\"ticks\":\"\"}},\"type\":\"parcoords\"}],\"pie\":[{\"automargin\":true,\"type\":\"pie\"}],\"scatter\":[{\"marker\":{\"colorbar\":{\"outlinewidth\":0,\"ticks\":\"\"}},\"type\":\"scatter\"}],\"scatter3d\":[{\"line\":{\"colorbar\":{\"outlinewidth\":0,\"ticks\":\"\"}},\"marker\":{\"colorbar\":{\"outlinewidth\":0,\"ticks\":\"\"}},\"type\":\"scatter3d\"}],\"scattercarpet\":[{\"marker\":{\"colorbar\":{\"outlinewidth\":0,\"ticks\":\"\"}},\"type\":\"scattercarpet\"}],\"scattergeo\":[{\"marker\":{\"colorbar\":{\"outlinewidth\":0,\"ticks\":\"\"}},\"type\":\"scattergeo\"}],\"scattergl\":[{\"marker\":{\"colorbar\":{\"outlinewidth\":0,\"ticks\":\"\"}},\"type\":\"scattergl\"}],\"scattermapbox\":[{\"marker\":{\"colorbar\":{\"outlinewidth\":0,\"ticks\":\"\"}},\"type\":\"scattermapbox\"}],\"scatterpolar\":[{\"marker\":{\"colorbar\":{\"outlinewidth\":0,\"ticks\":\"\"}},\"type\":\"scatterpolar\"}],\"scatterpolargl\":[{\"marker\":{\"colorbar\":{\"outlinewidth\":0,\"ticks\":\"\"}},\"type\":\"scatterpolargl\"}],\"scatterternary\":[{\"marker\":{\"colorbar\":{\"outlinewidth\":0,\"ticks\":\"\"}},\"type\":\"scatterternary\"}],\"surface\":[{\"colorbar\":{\"outlinewidth\":0,\"ticks\":\"\"},\"colorscale\":[[0.0,\"#0d0887\"],[0.1111111111111111,\"#46039f\"],[0.2222222222222222,\"#7201a8\"],[0.3333333333333333,\"#9c179e\"],[0.4444444444444444,\"#bd3786\"],[0.5555555555555556,\"#d8576b\"],[0.6666666666666666,\"#ed7953\"],[0.7777777777777778,\"#fb9f3a\"],[0.8888888888888888,\"#fdca26\"],[1.0,\"#f0f921\"]],\"type\":\"surface\"}],\"table\":[{\"cells\":{\"fill\":{\"color\":\"#EBF0F8\"},\"line\":{\"color\":\"white\"}},\"header\":{\"fill\":{\"color\":\"#C8D4E3\"},\"line\":{\"color\":\"white\"}},\"type\":\"table\"}]},\"layout\":{\"annotationdefaults\":{\"arrowcolor\":\"#2a3f5f\",\"arrowhead\":0,\"arrowwidth\":1},\"autotypenumbers\":\"strict\",\"coloraxis\":{\"colorbar\":{\"outlinewidth\":0,\"ticks\":\"\"}},\"colorscale\":{\"diverging\":[[0,\"#8e0152\"],[0.1,\"#c51b7d\"],[0.2,\"#de77ae\"],[0.3,\"#f1b6da\"],[0.4,\"#fde0ef\"],[0.5,\"#f7f7f7\"],[0.6,\"#e6f5d0\"],[0.7,\"#b8e186\"],[0.8,\"#7fbc41\"],[0.9,\"#4d9221\"],[1,\"#276419\"]],\"sequential\":[[0.0,\"#0d0887\"],[0.1111111111111111,\"#46039f\"],[0.2222222222222222,\"#7201a8\"],[0.3333333333333333,\"#9c179e\"],[0.4444444444444444,\"#bd3786\"],[0.5555555555555556,\"#d8576b\"],[0.6666666666666666,\"#ed7953\"],[0.7777777777777778,\"#fb9f3a\"],[0.8888888888888888,\"#fdca26\"],[1.0,\"#f0f921\"]],\"sequentialminus\":[[0.0,\"#0d0887\"],[0.1111111111111111,\"#46039f\"],[0.2222222222222222,\"#7201a8\"],[0.3333333333333333,\"#9c179e\"],[0.4444444444444444,\"#bd3786\"],[0.5555555555555556,\"#d8576b\"],[0.6666666666666666,\"#ed7953\"],[0.7777777777777778,\"#fb9f3a\"],[0.8888888888888888,\"#fdca26\"],[1.0,\"#f0f921\"]]},\"colorway\":[\"#636efa\",\"#EF553B\",\"#00cc96\",\"#ab63fa\",\"#FFA15A\",\"#19d3f3\",\"#FF6692\",\"#B6E880\",\"#FF97FF\",\"#FECB52\"],\"font\":{\"color\":\"#2a3f5f\"},\"geo\":{\"bgcolor\":\"white\",\"lakecolor\":\"white\",\"landcolor\":\"#E5ECF6\",\"showlakes\":true,\"showland\":true,\"subunitcolor\":\"white\"},\"hoverlabel\":{\"align\":\"left\"},\"hovermode\":\"closest\",\"mapbox\":{\"style\":\"light\"},\"paper_bgcolor\":\"white\",\"plot_bgcolor\":\"#E5ECF6\",\"polar\":{\"angularaxis\":{\"gridcolor\":\"white\",\"linecolor\":\"white\",\"ticks\":\"\"},\"bgcolor\":\"#E5ECF6\",\"radialaxis\":{\"gridcolor\":\"white\",\"linecolor\":\"white\",\"ticks\":\"\"}},\"scene\":{\"xaxis\":{\"backgroundcolor\":\"#E5ECF6\",\"gridcolor\":\"white\",\"gridwidth\":2,\"linecolor\":\"white\",\"showbackground\":true,\"ticks\":\"\",\"zerolinecolor\":\"white\"},\"yaxis\":{\"backgroundcolor\":\"#E5ECF6\",\"gridcolor\":\"white\",\"gridwidth\":2,\"linecolor\":\"white\",\"showbackground\":true,\"ticks\":\"\",\"zerolinecolor\":\"white\"},\"zaxis\":{\"backgroundcolor\":\"#E5ECF6\",\"gridcolor\":\"white\",\"gridwidth\":2,\"linecolor\":\"white\",\"showbackground\":true,\"ticks\":\"\",\"zerolinecolor\":\"white\"}},\"shapedefaults\":{\"line\":{\"color\":\"#2a3f5f\"}},\"ternary\":{\"aaxis\":{\"gridcolor\":\"white\",\"linecolor\":\"white\",\"ticks\":\"\"},\"baxis\":{\"gridcolor\":\"white\",\"linecolor\":\"white\",\"ticks\":\"\"},\"bgcolor\":\"#E5ECF6\",\"caxis\":{\"gridcolor\":\"white\",\"linecolor\":\"white\",\"ticks\":\"\"}},\"title\":{\"x\":0.05},\"xaxis\":{\"automargin\":true,\"gridcolor\":\"white\",\"linecolor\":\"white\",\"ticks\":\"\",\"title\":{\"standoff\":15},\"zerolinecolor\":\"white\",\"zerolinewidth\":2},\"yaxis\":{\"automargin\":true,\"gridcolor\":\"white\",\"linecolor\":\"white\",\"ticks\":\"\",\"title\":{\"standoff\":15},\"zerolinecolor\":\"white\",\"zerolinewidth\":2}}},\"xaxis\":{\"anchor\":\"y\",\"domain\":[0.0,1.0],\"title\":{\"text\":\"return\"}},\"yaxis\":{\"anchor\":\"x\",\"domain\":[0.0,1.0],\"title\":{\"text\":\"risk\"}},\"legend\":{\"tracegroupgap\":0},\"margin\":{\"t\":60}},                        {\"responsive\": true}                    ).then(function(){\n                            \nvar gd = document.getElementById('c0976bdf-4a9b-4cd5-ac77-3156170d4276');\nvar x = new MutationObserver(function (mutations, observer) {{\n        var display = window.getComputedStyle(gd).display;\n        if (!display || display === 'none') {{\n            console.log([gd, 'removed!']);\n            Plotly.purge(gd);\n            observer.disconnect();\n        }}\n}});\n\n// Listen for the removal of the full notebook cells\nvar notebookContainer = gd.closest('#notebook-container');\nif (notebookContainer) {{\n    x.observe(notebookContainer, {childList: true});\n}}\n\n// Listen for the clearing of the current output cell\nvar outputEl = gd.closest('.output');\nif (outputEl) {{\n    x.observe(outputEl, {childList: true});\n}}\n\n                        })                };                });            </script>        </div>"
     },
     "metadata": {},
     "output_type": "display_data"
    }
   ],
   "source": [
    "fig = px.scatter(risk_return, x='return', y='risk', text=\"symbol\")\n",
    "fig.show()"
   ],
   "metadata": {
    "collapsed": false,
    "pycharm": {
     "name": "#%%\n"
    }
   }
  },
  {
   "cell_type": "markdown",
   "source": [
    "# NASDAQ Stocks with market cap from MEDIUM to MEGA"
   ],
   "metadata": {
    "collapsed": false,
    "pycharm": {
     "name": "#%% md\n"
    }
   }
  },
  {
   "cell_type": "code",
   "execution_count": 42,
   "outputs": [
    {
     "data": {
      "text/plain": "    Symbol                                               Name  Last Sale  \\\n0      AAL          American Airlines Group Inc. Common Stock    14.4150   \n1     AAON                             AAON Inc. Common Stock    78.6450   \n2     AAPL                            Apple Inc. Common Stock   150.7514   \n3     AAWW      Atlas Air Worldwide Holdings NEW Common Stock   100.9650   \n4     ABCB                        Ameris Bancorp Common Stock    52.7400   \n..     ...                                                ...        ...   \n671     ZI             ZoomInfo Technologies Inc Common Stock    28.0700   \n672   ZION             Zions Bancorporation N.A. Common Stock    51.5200   \n673   ZLAB         Zai Lab Limited American Depositary Shares    33.3500   \n674     ZM  Zoom Video Communications Inc. Class A Common ...    76.0150   \n675     ZS                          Zscaler Inc. Common Stock   139.9050   \n\n     Net Change % Change    Market Cap        Country  IPO Year    Volume  \\\n0        0.4350   3.112%  9.368321e+09  United States       NaN  21917193   \n1       -0.9050  -1.138%  4.183878e+09  United States       NaN    115800   \n2        0.5714    0.38%  2.613628e+12  United States    1980.0  50053441   \n3        0.1750   0.174%  2.863791e+09  United States       NaN    125662   \n4       -0.2100  -0.397%  3.657609e+09  United States    1994.0    108590   \n..          ...      ...           ...            ...       ...       ...   \n671      0.7100   2.595%  1.133065e+10  United States    2020.0   2189602   \n672      0.2600   0.507%  7.708307e+09  United States       NaN    720460   \n673     -0.0400   -0.12%  2.513773e+09          China    2017.0    290646   \n674     -1.1350  -1.471%  2.262550e+10  United States    2019.0   4678697   \n675      3.1450    2.30%  2.001376e+10  United States    2018.0   1241425   \n\n                     Sector                                    Industry  \n0    Consumer Discretionary               Air Freight/Delivery Services  \n1               Industrials             Industrial Machinery/Components  \n2                Technology                      Computer Manufacturing  \n3    Consumer Discretionary                     Transportation Services  \n4                   Finance                                 Major Banks  \n..                      ...                                         ...  \n671              Technology     Computer Software: Prepackaged Software  \n672                 Finance                                 Major Banks  \n673             Health Care  Biotechnology: Pharmaceutical Preparations  \n674              Technology     Computer Software: Prepackaged Software  \n675              Technology                                EDP Services  \n\n[676 rows x 11 columns]",
      "text/html": "<div>\n<style scoped>\n    .dataframe tbody tr th:only-of-type {\n        vertical-align: middle;\n    }\n\n    .dataframe tbody tr th {\n        vertical-align: top;\n    }\n\n    .dataframe thead th {\n        text-align: right;\n    }\n</style>\n<table border=\"1\" class=\"dataframe\">\n  <thead>\n    <tr style=\"text-align: right;\">\n      <th></th>\n      <th>Symbol</th>\n      <th>Name</th>\n      <th>Last Sale</th>\n      <th>Net Change</th>\n      <th>% Change</th>\n      <th>Market Cap</th>\n      <th>Country</th>\n      <th>IPO Year</th>\n      <th>Volume</th>\n      <th>Sector</th>\n      <th>Industry</th>\n    </tr>\n  </thead>\n  <tbody>\n    <tr>\n      <th>0</th>\n      <td>AAL</td>\n      <td>American Airlines Group Inc. Common Stock</td>\n      <td>14.4150</td>\n      <td>0.4350</td>\n      <td>3.112%</td>\n      <td>9.368321e+09</td>\n      <td>United States</td>\n      <td>NaN</td>\n      <td>21917193</td>\n      <td>Consumer Discretionary</td>\n      <td>Air Freight/Delivery Services</td>\n    </tr>\n    <tr>\n      <th>1</th>\n      <td>AAON</td>\n      <td>AAON Inc. Common Stock</td>\n      <td>78.6450</td>\n      <td>-0.9050</td>\n      <td>-1.138%</td>\n      <td>4.183878e+09</td>\n      <td>United States</td>\n      <td>NaN</td>\n      <td>115800</td>\n      <td>Industrials</td>\n      <td>Industrial Machinery/Components</td>\n    </tr>\n    <tr>\n      <th>2</th>\n      <td>AAPL</td>\n      <td>Apple Inc. Common Stock</td>\n      <td>150.7514</td>\n      <td>0.5714</td>\n      <td>0.38%</td>\n      <td>2.613628e+12</td>\n      <td>United States</td>\n      <td>1980.0</td>\n      <td>50053441</td>\n      <td>Technology</td>\n      <td>Computer Manufacturing</td>\n    </tr>\n    <tr>\n      <th>3</th>\n      <td>AAWW</td>\n      <td>Atlas Air Worldwide Holdings NEW Common Stock</td>\n      <td>100.9650</td>\n      <td>0.1750</td>\n      <td>0.174%</td>\n      <td>2.863791e+09</td>\n      <td>United States</td>\n      <td>NaN</td>\n      <td>125662</td>\n      <td>Consumer Discretionary</td>\n      <td>Transportation Services</td>\n    </tr>\n    <tr>\n      <th>4</th>\n      <td>ABCB</td>\n      <td>Ameris Bancorp Common Stock</td>\n      <td>52.7400</td>\n      <td>-0.2100</td>\n      <td>-0.397%</td>\n      <td>3.657609e+09</td>\n      <td>United States</td>\n      <td>1994.0</td>\n      <td>108590</td>\n      <td>Finance</td>\n      <td>Major Banks</td>\n    </tr>\n    <tr>\n      <th>...</th>\n      <td>...</td>\n      <td>...</td>\n      <td>...</td>\n      <td>...</td>\n      <td>...</td>\n      <td>...</td>\n      <td>...</td>\n      <td>...</td>\n      <td>...</td>\n      <td>...</td>\n      <td>...</td>\n    </tr>\n    <tr>\n      <th>671</th>\n      <td>ZI</td>\n      <td>ZoomInfo Technologies Inc Common Stock</td>\n      <td>28.0700</td>\n      <td>0.7100</td>\n      <td>2.595%</td>\n      <td>1.133065e+10</td>\n      <td>United States</td>\n      <td>2020.0</td>\n      <td>2189602</td>\n      <td>Technology</td>\n      <td>Computer Software: Prepackaged Software</td>\n    </tr>\n    <tr>\n      <th>672</th>\n      <td>ZION</td>\n      <td>Zions Bancorporation N.A. Common Stock</td>\n      <td>51.5200</td>\n      <td>0.2600</td>\n      <td>0.507%</td>\n      <td>7.708307e+09</td>\n      <td>United States</td>\n      <td>NaN</td>\n      <td>720460</td>\n      <td>Finance</td>\n      <td>Major Banks</td>\n    </tr>\n    <tr>\n      <th>673</th>\n      <td>ZLAB</td>\n      <td>Zai Lab Limited American Depositary Shares</td>\n      <td>33.3500</td>\n      <td>-0.0400</td>\n      <td>-0.12%</td>\n      <td>2.513773e+09</td>\n      <td>China</td>\n      <td>2017.0</td>\n      <td>290646</td>\n      <td>Health Care</td>\n      <td>Biotechnology: Pharmaceutical Preparations</td>\n    </tr>\n    <tr>\n      <th>674</th>\n      <td>ZM</td>\n      <td>Zoom Video Communications Inc. Class A Common ...</td>\n      <td>76.0150</td>\n      <td>-1.1350</td>\n      <td>-1.471%</td>\n      <td>2.262550e+10</td>\n      <td>United States</td>\n      <td>2019.0</td>\n      <td>4678697</td>\n      <td>Technology</td>\n      <td>Computer Software: Prepackaged Software</td>\n    </tr>\n    <tr>\n      <th>675</th>\n      <td>ZS</td>\n      <td>Zscaler Inc. Common Stock</td>\n      <td>139.9050</td>\n      <td>3.1450</td>\n      <td>2.30%</td>\n      <td>2.001376e+10</td>\n      <td>United States</td>\n      <td>2018.0</td>\n      <td>1241425</td>\n      <td>Technology</td>\n      <td>EDP Services</td>\n    </tr>\n  </tbody>\n</table>\n<p>676 rows × 11 columns</p>\n</div>"
     },
     "execution_count": 42,
     "metadata": {},
     "output_type": "execute_result"
    }
   ],
   "source": [
    "features = ['Last Sale', 'Market Cap', 'Country', 'Volume', 'Sector']\n",
    "NASDAQ_STOCKS = \"nasdaq_medium_cap_stocks.csv\"\n",
    "\n",
    "df_csv = pd.read_csv(PATH_NAME + NASDAQ_STOCKS)\n",
    "\n",
    "df_csv['Last Sale'] = df_csv['Last Sale'].str.replace('$', '', regex=True)\n",
    "df_csv['Last Sale'] = pd.to_numeric(df_csv['Last Sale'])\n",
    "\n",
    "df_csv  # FULL csv with 675 stocks in NASDAQ, having from MEDIUM to MEGA market cap"
   ],
   "metadata": {
    "collapsed": false,
    "pycharm": {
     "name": "#%%\n"
    }
   }
  },
  {
   "cell_type": "code",
   "execution_count": 43,
   "outputs": [
    {
     "data": {
      "text/plain": "          Volume\nSymbol          \nAAL     21917193\nAAON      115800\nAAPL    50053441\nAAWW      125662\nABCB      108590\n...          ...\nZI       2189602\nZION      720460\nZLAB      290646\nZM       4678697\nZS       1241425\n\n[676 rows x 1 columns]",
      "text/html": "<div>\n<style scoped>\n    .dataframe tbody tr th:only-of-type {\n        vertical-align: middle;\n    }\n\n    .dataframe tbody tr th {\n        vertical-align: top;\n    }\n\n    .dataframe thead th {\n        text-align: right;\n    }\n</style>\n<table border=\"1\" class=\"dataframe\">\n  <thead>\n    <tr style=\"text-align: right;\">\n      <th></th>\n      <th>Volume</th>\n    </tr>\n    <tr>\n      <th>Symbol</th>\n      <th></th>\n    </tr>\n  </thead>\n  <tbody>\n    <tr>\n      <th>AAL</th>\n      <td>21917193</td>\n    </tr>\n    <tr>\n      <th>AAON</th>\n      <td>115800</td>\n    </tr>\n    <tr>\n      <th>AAPL</th>\n      <td>50053441</td>\n    </tr>\n    <tr>\n      <th>AAWW</th>\n      <td>125662</td>\n    </tr>\n    <tr>\n      <th>ABCB</th>\n      <td>108590</td>\n    </tr>\n    <tr>\n      <th>...</th>\n      <td>...</td>\n    </tr>\n    <tr>\n      <th>ZI</th>\n      <td>2189602</td>\n    </tr>\n    <tr>\n      <th>ZION</th>\n      <td>720460</td>\n    </tr>\n    <tr>\n      <th>ZLAB</th>\n      <td>290646</td>\n    </tr>\n    <tr>\n      <th>ZM</th>\n      <td>4678697</td>\n    </tr>\n    <tr>\n      <th>ZS</th>\n      <td>1241425</td>\n    </tr>\n  </tbody>\n</table>\n<p>676 rows × 1 columns</p>\n</div>"
     },
     "execution_count": 43,
     "metadata": {},
     "output_type": "execute_result"
    }
   ],
   "source": [
    "# df_enc_cou = pd.get_dummies(df_csv['Country'])\n",
    "df_enc_sec = pd.get_dummies(df_csv['Sector'])\n",
    "df_encoded = pd.concat([df_csv['Volume']], axis=1) # df_enc_cou df_csv['Last Sale'],\n",
    "df_encoded = df_encoded.set_index(df_csv[\"Symbol\"])\n",
    "df_encoded  # 675 stocks' last sale, market cap, volume, sector encoded for clustering"
   ],
   "metadata": {
    "collapsed": false,
    "pycharm": {
     "name": "#%%\n"
    }
   }
  },
  {
   "cell_type": "markdown",
   "source": [
    "### Clustering stocks features\n",
    "Clustering Last Sale, Market Cap, Volume and Sector"
   ],
   "metadata": {
    "collapsed": false,
    "pycharm": {
     "name": "#%% md\n"
    }
   }
  },
  {
   "cell_type": "code",
   "execution_count": null,
   "outputs": [],
   "source": [
    "K = 5\n",
    "clustering = KMeans(n_clusters=K).fit(df_encoded.values)\n",
    "clustering_labels = clustering.labels_\n",
    "df_csv[\"Cluster\"] = clustering_labels\n",
    "df_csv"
   ],
   "metadata": {
    "collapsed": false,
    "pycharm": {
     "name": "#%%\n"
    }
   }
  },
  {
   "cell_type": "code",
   "execution_count": null,
   "outputs": [],
   "source": [
    "fig = px.scatter_3d(df_csv, x='Last Sale', y='Market Cap', z='Volume', color='Cluster', text=\"Symbol\")\n",
    "fig.write_html(\"stocks.html\")\n",
    "fig.show()"
   ],
   "metadata": {
    "collapsed": false,
    "pycharm": {
     "name": "#%%\n"
    }
   }
  },
  {
   "cell_type": "code",
   "execution_count": null,
   "outputs": [],
   "source": [
    "#!open stocks.html"
   ],
   "metadata": {
    "collapsed": false,
    "pycharm": {
     "name": "#%%\n"
    }
   }
  },
  {
   "cell_type": "markdown",
   "source": [
    "### Adding fetures for clustering"
   ],
   "metadata": {
    "collapsed": false,
    "pycharm": {
     "name": "#%% md\n"
    }
   }
  },
  {
   "cell_type": "code",
   "execution_count": 45,
   "outputs": [
    {
     "data": {
      "text/plain": "        Volume    return\nAAPL  50053441  0.001384\nAAWW    125662  0.001904\nABMD    714165 -0.000383\nACIW    813742 -0.007532\nADI    2868841  0.000476\n...        ...       ...\nXENE    386938  0.006741\nXP     4758661 -0.010464\nZG      360959 -0.003516\nZLAB    290646 -0.007162\nZM     4678697 -0.013640\n\n[100 rows x 2 columns]",
      "text/html": "<div>\n<style scoped>\n    .dataframe tbody tr th:only-of-type {\n        vertical-align: middle;\n    }\n\n    .dataframe tbody tr th {\n        vertical-align: top;\n    }\n\n    .dataframe thead th {\n        text-align: right;\n    }\n</style>\n<table border=\"1\" class=\"dataframe\">\n  <thead>\n    <tr style=\"text-align: right;\">\n      <th></th>\n      <th>Volume</th>\n      <th>return</th>\n    </tr>\n  </thead>\n  <tbody>\n    <tr>\n      <th>AAPL</th>\n      <td>50053441</td>\n      <td>0.001384</td>\n    </tr>\n    <tr>\n      <th>AAWW</th>\n      <td>125662</td>\n      <td>0.001904</td>\n    </tr>\n    <tr>\n      <th>ABMD</th>\n      <td>714165</td>\n      <td>-0.000383</td>\n    </tr>\n    <tr>\n      <th>ACIW</th>\n      <td>813742</td>\n      <td>-0.007532</td>\n    </tr>\n    <tr>\n      <th>ADI</th>\n      <td>2868841</td>\n      <td>0.000476</td>\n    </tr>\n    <tr>\n      <th>...</th>\n      <td>...</td>\n      <td>...</td>\n    </tr>\n    <tr>\n      <th>XENE</th>\n      <td>386938</td>\n      <td>0.006741</td>\n    </tr>\n    <tr>\n      <th>XP</th>\n      <td>4758661</td>\n      <td>-0.010464</td>\n    </tr>\n    <tr>\n      <th>ZG</th>\n      <td>360959</td>\n      <td>-0.003516</td>\n    </tr>\n    <tr>\n      <th>ZLAB</th>\n      <td>290646</td>\n      <td>-0.007162</td>\n    </tr>\n    <tr>\n      <th>ZM</th>\n      <td>4678697</td>\n      <td>-0.013640</td>\n    </tr>\n  </tbody>\n</table>\n<p>100 rows × 2 columns</p>\n</div>"
     },
     "execution_count": 45,
     "metadata": {},
     "output_type": "execute_result"
    }
   ],
   "source": [
    "df_encoded_2 = df_encoded.join(risk_return, how=\"inner\")\n",
    "df_encoded_2 = df_encoded_2.drop(\"risk\", axis=1)\n",
    "df_encoded_2 = df_encoded_2.drop(\"symbol\", axis=1)\n",
    "df_encoded_2"
   ],
   "metadata": {
    "collapsed": false,
    "pycharm": {
     "name": "#%%\n"
    }
   }
  },
  {
   "cell_type": "code",
   "execution_count": 46,
   "outputs": [
    {
     "data": {
      "application/vnd.plotly.v1+json": {
       "data": [
        {
         "hovertemplate": "Volume=%{x}<br>return=%{y}<br>index=%{text}<br>Cluster=%{marker.color}<extra></extra>",
         "legendgroup": "",
         "marker": {
          "color": [
           3,
           4,
           4,
           4,
           0,
           2,
           2,
           4,
           0,
           4,
           4,
           4,
           0,
           4,
           0,
           4,
           4,
           4,
           4,
           4,
           2,
           0,
           4,
           0,
           0,
           4,
           0,
           4,
           4,
           4,
           4,
           4,
           4,
           4,
           4,
           4,
           4,
           4,
           4,
           4,
           4,
           4,
           4,
           4,
           4,
           4,
           2,
           4,
           2,
           4,
           4,
           4,
           4,
           4,
           4,
           1,
           4,
           4,
           4,
           4,
           0,
           4,
           4,
           4,
           4,
           4,
           0,
           4,
           4,
           4,
           4,
           4,
           4,
           4,
           4,
           4,
           4,
           4,
           4,
           4,
           4,
           0,
           4,
           4,
           4,
           4,
           4,
           4,
           4,
           4,
           4,
           4,
           4,
           4,
           4,
           4,
           0,
           4,
           4,
           0
          ],
          "coloraxis": "coloraxis",
          "symbol": "circle"
         },
         "mode": "markers+text",
         "name": "",
         "orientation": "v",
         "showlegend": false,
         "text": [
          "AAPL",
          "AAWW",
          "ABMD",
          "ACIW",
          "ADI",
          "AFRM",
          "AGNC",
          "ALHC",
          "AMAT",
          "AMLX",
          "APLS",
          "ARVN",
          "AZN",
          "BEAM",
          "BKR",
          "BL",
          "BRKR",
          "CASY",
          "CENT",
          "CG",
          "COIN",
          "CRWD",
          "CSGP",
          "DLO",
          "DLTR",
          "EA",
          "ERIC",
          "EXPD",
          "FANG",
          "GLPG",
          "GNTX",
          "HSIC",
          "IAC",
          "IEP",
          "ILMN",
          "INMD",
          "INSM",
          "IPGP",
          "ISEE",
          "JBHT",
          "KNBE",
          "LANC",
          "LBRDA",
          "LBRDK",
          "LESL",
          "LSXMB",
          "LYFT",
          "MANH",
          "META",
          "MIDD",
          "MRCY",
          "MTCH",
          "NBIX",
          "NCNO",
          "NSIT",
          "NVDA",
          "NXST",
          "OLED",
          "OMCL",
          "OZK",
          "PARA",
          "PDCE",
          "PENN",
          "PEP",
          "PPBI",
          "PTC",
          "RKLB",
          "RRR",
          "SBAC",
          "SBNY",
          "SBRA",
          "SEIC",
          "SHC",
          "SIVB",
          "SPT",
          "SRPT",
          "SSB",
          "SSRM",
          "SWAV",
          "SYNH",
          "TCBI",
          "TEAM",
          "TFSL",
          "TMUS",
          "TROW",
          "TSEM",
          "TTEC",
          "TTEK",
          "TW",
          "TWNK",
          "VERX",
          "VSAT",
          "WMG",
          "WOOF",
          "WSC",
          "XENE",
          "XP",
          "ZG",
          "ZLAB",
          "ZM"
         ],
         "x": [
          50053441,
          125662,
          714165,
          813742,
          2868841,
          11521022,
          10176734,
          376830,
          3116139,
          572929,
          740286,
          611272,
          2522890,
          319249,
          5011866,
          417401,
          229943,
          116748,
          30655,
          1310297,
          14154850,
          2363321,
          1462713,
          2723868,
          2341169,
          948398,
          5699715,
          1061891,
          2096660,
          92726,
          461727,
          693724,
          552888,
          440628,
          587333,
          782845,
          872788,
          124909,
          1624625,
          398263,
          450736,
          146515,
          465835,
          859180,
          1446143,
          119,
          14999635,
          104914,
          19240836,
          188951,
          215571,
          1456282,
          301786,
          648110,
          80431,
          39715635,
          156356,
          194033,
          326777,
          287240,
          7391591,
          425426,
          1157493,
          1569113,
          130400,
          494858,
          2577890,
          233169,
          509622,
          644802,
          1288943,
          187516,
          1915038,
          470714,
          333067,
          701931,
          146008,
          1134669,
          422523,
          808630,
          315853,
          2563536,
          247108,
          1999420,
          909661,
          389210,
          55016,
          135803,
          477949,
          745094,
          205018,
          184017,
          1640507,
          1808654,
          646406,
          386938,
          4758661,
          360959,
          290646,
          4678697
         ],
         "xaxis": "x",
         "y": [
          0.0013839172220530367,
          0.0019044023782594426,
          -3.8330920686792413E-4,
          -0.007532127006529156,
          4.764380599958842E-4,
          -0.003042204347680309,
          -0.0013753234993594229,
          -0.010215256968603157,
          5.792349093480983E-4,
          0.005772179706584549,
          -6.521457063712224E-4,
          -0.0011157957326213702,
          0.0010450192372543727,
          -0.0033195454615151925,
          0.004146967945723068,
          -0.010510902005447525,
          -0.0016432900563579575,
          -0.008072792851050349,
          9.271058530438804E-5,
          2.2668278014751877E-4,
          -9.036869681322363E-4,
          -8.311958761377914E-4,
          -0.0012619761558505453,
          -0.01126259615865606,
          0.004819271928919813,
          -0.008517701627460204,
          -0.0016699837633078717,
          -0.0012346180176750045,
          -0.002650538553234886,
          0.0010694595336019413,
          3.7447468492681683E-5,
          0.0012030700877845022,
          -0.0015041231492475147,
          -3.35084871841766E-4,
          -0.0016240352412810204,
          -0.014545351117201287,
          -8.823096020527902E-4,
          -0.0024684574248167368,
          0.004941955224105563,
          -0.006222482454351556,
          4.7861696739445736E-4,
          -0.009070375527829999,
          -0.0017423903286784641,
          -0.00994631930421311,
          -8.111686090654214E-4,
          6.467021944215911E-4,
          -8.423472180791669E-4,
          -8.731747014153946E-4,
          -0.002868571481772656,
          -8.564867786675564E-5,
          0.0021616922818538534,
          -0.001249285258268616,
          1.3464933491163727E-4,
          -0.0015308236934773291,
          0.00100380120459495,
          0.002478611927739913,
          0.0020123397569603986,
          -9.383851648172162E-4,
          -8.917347734697907E-4,
          5.434303608332959E-4,
          -0.0014411574803271932,
          0.005273424409494735,
          -0.003954041083004699,
          5.692797893430527E-4,
          -5.3639489291648884E-5,
          -0.0011943043430748148,
          2.3369438034751206E-4,
          9.215805730179293E-4,
          -0.00793034200782326,
          0.002276701064275562,
          -3.9863935386429616E-4,
          -0.007887990682511786,
          -6.230506900070483E-4,
          8.955822056017563E-4,
          -0.001631974292816132,
          4.7414849014829855E-4,
          0.0016490360969124835,
          0.0024264181165422672,
          -0.007544003149628538,
          -1.4726905923857255E-4,
          -1.1982774306363854E-4,
          -0.008349312739960792,
          -0.0011617147842482181,
          -3.7764194450717935E-4,
          -0.010555318243430948,
          0.004560491890272812,
          -0.001273721200975551,
          0.0018087605161231485,
          2.9762559076848804E-4,
          0.0024393439109606325,
          -0.002227962609509397,
          2.89888581962726E-4,
          4.3084215458940873E-4,
          1.0834861406430594E-4,
          0.002522524761885348,
          0.00674107559350135,
          -0.01046438259189648,
          -0.003516439744521902,
          -0.007162157912515853,
          -0.013640153978765425
         ],
         "yaxis": "y",
         "type": "scatter"
        }
       ],
       "layout": {
        "template": {
         "data": {
          "bar": [
           {
            "error_x": {
             "color": "#2a3f5f"
            },
            "error_y": {
             "color": "#2a3f5f"
            },
            "marker": {
             "line": {
              "color": "#E5ECF6",
              "width": 0.5
             },
             "pattern": {
              "fillmode": "overlay",
              "size": 10,
              "solidity": 0.2
             }
            },
            "type": "bar"
           }
          ],
          "barpolar": [
           {
            "marker": {
             "line": {
              "color": "#E5ECF6",
              "width": 0.5
             },
             "pattern": {
              "fillmode": "overlay",
              "size": 10,
              "solidity": 0.2
             }
            },
            "type": "barpolar"
           }
          ],
          "carpet": [
           {
            "aaxis": {
             "endlinecolor": "#2a3f5f",
             "gridcolor": "white",
             "linecolor": "white",
             "minorgridcolor": "white",
             "startlinecolor": "#2a3f5f"
            },
            "baxis": {
             "endlinecolor": "#2a3f5f",
             "gridcolor": "white",
             "linecolor": "white",
             "minorgridcolor": "white",
             "startlinecolor": "#2a3f5f"
            },
            "type": "carpet"
           }
          ],
          "choropleth": [
           {
            "colorbar": {
             "outlinewidth": 0,
             "ticks": ""
            },
            "type": "choropleth"
           }
          ],
          "contour": [
           {
            "colorbar": {
             "outlinewidth": 0,
             "ticks": ""
            },
            "colorscale": [
             [
              0.0,
              "#0d0887"
             ],
             [
              0.1111111111111111,
              "#46039f"
             ],
             [
              0.2222222222222222,
              "#7201a8"
             ],
             [
              0.3333333333333333,
              "#9c179e"
             ],
             [
              0.4444444444444444,
              "#bd3786"
             ],
             [
              0.5555555555555556,
              "#d8576b"
             ],
             [
              0.6666666666666666,
              "#ed7953"
             ],
             [
              0.7777777777777778,
              "#fb9f3a"
             ],
             [
              0.8888888888888888,
              "#fdca26"
             ],
             [
              1.0,
              "#f0f921"
             ]
            ],
            "type": "contour"
           }
          ],
          "contourcarpet": [
           {
            "colorbar": {
             "outlinewidth": 0,
             "ticks": ""
            },
            "type": "contourcarpet"
           }
          ],
          "heatmap": [
           {
            "colorbar": {
             "outlinewidth": 0,
             "ticks": ""
            },
            "colorscale": [
             [
              0.0,
              "#0d0887"
             ],
             [
              0.1111111111111111,
              "#46039f"
             ],
             [
              0.2222222222222222,
              "#7201a8"
             ],
             [
              0.3333333333333333,
              "#9c179e"
             ],
             [
              0.4444444444444444,
              "#bd3786"
             ],
             [
              0.5555555555555556,
              "#d8576b"
             ],
             [
              0.6666666666666666,
              "#ed7953"
             ],
             [
              0.7777777777777778,
              "#fb9f3a"
             ],
             [
              0.8888888888888888,
              "#fdca26"
             ],
             [
              1.0,
              "#f0f921"
             ]
            ],
            "type": "heatmap"
           }
          ],
          "heatmapgl": [
           {
            "colorbar": {
             "outlinewidth": 0,
             "ticks": ""
            },
            "colorscale": [
             [
              0.0,
              "#0d0887"
             ],
             [
              0.1111111111111111,
              "#46039f"
             ],
             [
              0.2222222222222222,
              "#7201a8"
             ],
             [
              0.3333333333333333,
              "#9c179e"
             ],
             [
              0.4444444444444444,
              "#bd3786"
             ],
             [
              0.5555555555555556,
              "#d8576b"
             ],
             [
              0.6666666666666666,
              "#ed7953"
             ],
             [
              0.7777777777777778,
              "#fb9f3a"
             ],
             [
              0.8888888888888888,
              "#fdca26"
             ],
             [
              1.0,
              "#f0f921"
             ]
            ],
            "type": "heatmapgl"
           }
          ],
          "histogram": [
           {
            "marker": {
             "pattern": {
              "fillmode": "overlay",
              "size": 10,
              "solidity": 0.2
             }
            },
            "type": "histogram"
           }
          ],
          "histogram2d": [
           {
            "colorbar": {
             "outlinewidth": 0,
             "ticks": ""
            },
            "colorscale": [
             [
              0.0,
              "#0d0887"
             ],
             [
              0.1111111111111111,
              "#46039f"
             ],
             [
              0.2222222222222222,
              "#7201a8"
             ],
             [
              0.3333333333333333,
              "#9c179e"
             ],
             [
              0.4444444444444444,
              "#bd3786"
             ],
             [
              0.5555555555555556,
              "#d8576b"
             ],
             [
              0.6666666666666666,
              "#ed7953"
             ],
             [
              0.7777777777777778,
              "#fb9f3a"
             ],
             [
              0.8888888888888888,
              "#fdca26"
             ],
             [
              1.0,
              "#f0f921"
             ]
            ],
            "type": "histogram2d"
           }
          ],
          "histogram2dcontour": [
           {
            "colorbar": {
             "outlinewidth": 0,
             "ticks": ""
            },
            "colorscale": [
             [
              0.0,
              "#0d0887"
             ],
             [
              0.1111111111111111,
              "#46039f"
             ],
             [
              0.2222222222222222,
              "#7201a8"
             ],
             [
              0.3333333333333333,
              "#9c179e"
             ],
             [
              0.4444444444444444,
              "#bd3786"
             ],
             [
              0.5555555555555556,
              "#d8576b"
             ],
             [
              0.6666666666666666,
              "#ed7953"
             ],
             [
              0.7777777777777778,
              "#fb9f3a"
             ],
             [
              0.8888888888888888,
              "#fdca26"
             ],
             [
              1.0,
              "#f0f921"
             ]
            ],
            "type": "histogram2dcontour"
           }
          ],
          "mesh3d": [
           {
            "colorbar": {
             "outlinewidth": 0,
             "ticks": ""
            },
            "type": "mesh3d"
           }
          ],
          "parcoords": [
           {
            "line": {
             "colorbar": {
              "outlinewidth": 0,
              "ticks": ""
             }
            },
            "type": "parcoords"
           }
          ],
          "pie": [
           {
            "automargin": true,
            "type": "pie"
           }
          ],
          "scatter": [
           {
            "marker": {
             "colorbar": {
              "outlinewidth": 0,
              "ticks": ""
             }
            },
            "type": "scatter"
           }
          ],
          "scatter3d": [
           {
            "line": {
             "colorbar": {
              "outlinewidth": 0,
              "ticks": ""
             }
            },
            "marker": {
             "colorbar": {
              "outlinewidth": 0,
              "ticks": ""
             }
            },
            "type": "scatter3d"
           }
          ],
          "scattercarpet": [
           {
            "marker": {
             "colorbar": {
              "outlinewidth": 0,
              "ticks": ""
             }
            },
            "type": "scattercarpet"
           }
          ],
          "scattergeo": [
           {
            "marker": {
             "colorbar": {
              "outlinewidth": 0,
              "ticks": ""
             }
            },
            "type": "scattergeo"
           }
          ],
          "scattergl": [
           {
            "marker": {
             "colorbar": {
              "outlinewidth": 0,
              "ticks": ""
             }
            },
            "type": "scattergl"
           }
          ],
          "scattermapbox": [
           {
            "marker": {
             "colorbar": {
              "outlinewidth": 0,
              "ticks": ""
             }
            },
            "type": "scattermapbox"
           }
          ],
          "scatterpolar": [
           {
            "marker": {
             "colorbar": {
              "outlinewidth": 0,
              "ticks": ""
             }
            },
            "type": "scatterpolar"
           }
          ],
          "scatterpolargl": [
           {
            "marker": {
             "colorbar": {
              "outlinewidth": 0,
              "ticks": ""
             }
            },
            "type": "scatterpolargl"
           }
          ],
          "scatterternary": [
           {
            "marker": {
             "colorbar": {
              "outlinewidth": 0,
              "ticks": ""
             }
            },
            "type": "scatterternary"
           }
          ],
          "surface": [
           {
            "colorbar": {
             "outlinewidth": 0,
             "ticks": ""
            },
            "colorscale": [
             [
              0.0,
              "#0d0887"
             ],
             [
              0.1111111111111111,
              "#46039f"
             ],
             [
              0.2222222222222222,
              "#7201a8"
             ],
             [
              0.3333333333333333,
              "#9c179e"
             ],
             [
              0.4444444444444444,
              "#bd3786"
             ],
             [
              0.5555555555555556,
              "#d8576b"
             ],
             [
              0.6666666666666666,
              "#ed7953"
             ],
             [
              0.7777777777777778,
              "#fb9f3a"
             ],
             [
              0.8888888888888888,
              "#fdca26"
             ],
             [
              1.0,
              "#f0f921"
             ]
            ],
            "type": "surface"
           }
          ],
          "table": [
           {
            "cells": {
             "fill": {
              "color": "#EBF0F8"
             },
             "line": {
              "color": "white"
             }
            },
            "header": {
             "fill": {
              "color": "#C8D4E3"
             },
             "line": {
              "color": "white"
             }
            },
            "type": "table"
           }
          ]
         },
         "layout": {
          "annotationdefaults": {
           "arrowcolor": "#2a3f5f",
           "arrowhead": 0,
           "arrowwidth": 1
          },
          "autotypenumbers": "strict",
          "coloraxis": {
           "colorbar": {
            "outlinewidth": 0,
            "ticks": ""
           }
          },
          "colorscale": {
           "diverging": [
            [
             0,
             "#8e0152"
            ],
            [
             0.1,
             "#c51b7d"
            ],
            [
             0.2,
             "#de77ae"
            ],
            [
             0.3,
             "#f1b6da"
            ],
            [
             0.4,
             "#fde0ef"
            ],
            [
             0.5,
             "#f7f7f7"
            ],
            [
             0.6,
             "#e6f5d0"
            ],
            [
             0.7,
             "#b8e186"
            ],
            [
             0.8,
             "#7fbc41"
            ],
            [
             0.9,
             "#4d9221"
            ],
            [
             1,
             "#276419"
            ]
           ],
           "sequential": [
            [
             0.0,
             "#0d0887"
            ],
            [
             0.1111111111111111,
             "#46039f"
            ],
            [
             0.2222222222222222,
             "#7201a8"
            ],
            [
             0.3333333333333333,
             "#9c179e"
            ],
            [
             0.4444444444444444,
             "#bd3786"
            ],
            [
             0.5555555555555556,
             "#d8576b"
            ],
            [
             0.6666666666666666,
             "#ed7953"
            ],
            [
             0.7777777777777778,
             "#fb9f3a"
            ],
            [
             0.8888888888888888,
             "#fdca26"
            ],
            [
             1.0,
             "#f0f921"
            ]
           ],
           "sequentialminus": [
            [
             0.0,
             "#0d0887"
            ],
            [
             0.1111111111111111,
             "#46039f"
            ],
            [
             0.2222222222222222,
             "#7201a8"
            ],
            [
             0.3333333333333333,
             "#9c179e"
            ],
            [
             0.4444444444444444,
             "#bd3786"
            ],
            [
             0.5555555555555556,
             "#d8576b"
            ],
            [
             0.6666666666666666,
             "#ed7953"
            ],
            [
             0.7777777777777778,
             "#fb9f3a"
            ],
            [
             0.8888888888888888,
             "#fdca26"
            ],
            [
             1.0,
             "#f0f921"
            ]
           ]
          },
          "colorway": [
           "#636efa",
           "#EF553B",
           "#00cc96",
           "#ab63fa",
           "#FFA15A",
           "#19d3f3",
           "#FF6692",
           "#B6E880",
           "#FF97FF",
           "#FECB52"
          ],
          "font": {
           "color": "#2a3f5f"
          },
          "geo": {
           "bgcolor": "white",
           "lakecolor": "white",
           "landcolor": "#E5ECF6",
           "showlakes": true,
           "showland": true,
           "subunitcolor": "white"
          },
          "hoverlabel": {
           "align": "left"
          },
          "hovermode": "closest",
          "mapbox": {
           "style": "light"
          },
          "paper_bgcolor": "white",
          "plot_bgcolor": "#E5ECF6",
          "polar": {
           "angularaxis": {
            "gridcolor": "white",
            "linecolor": "white",
            "ticks": ""
           },
           "bgcolor": "#E5ECF6",
           "radialaxis": {
            "gridcolor": "white",
            "linecolor": "white",
            "ticks": ""
           }
          },
          "scene": {
           "xaxis": {
            "backgroundcolor": "#E5ECF6",
            "gridcolor": "white",
            "gridwidth": 2,
            "linecolor": "white",
            "showbackground": true,
            "ticks": "",
            "zerolinecolor": "white"
           },
           "yaxis": {
            "backgroundcolor": "#E5ECF6",
            "gridcolor": "white",
            "gridwidth": 2,
            "linecolor": "white",
            "showbackground": true,
            "ticks": "",
            "zerolinecolor": "white"
           },
           "zaxis": {
            "backgroundcolor": "#E5ECF6",
            "gridcolor": "white",
            "gridwidth": 2,
            "linecolor": "white",
            "showbackground": true,
            "ticks": "",
            "zerolinecolor": "white"
           }
          },
          "shapedefaults": {
           "line": {
            "color": "#2a3f5f"
           }
          },
          "ternary": {
           "aaxis": {
            "gridcolor": "white",
            "linecolor": "white",
            "ticks": ""
           },
           "baxis": {
            "gridcolor": "white",
            "linecolor": "white",
            "ticks": ""
           },
           "bgcolor": "#E5ECF6",
           "caxis": {
            "gridcolor": "white",
            "linecolor": "white",
            "ticks": ""
           }
          },
          "title": {
           "x": 0.05
          },
          "xaxis": {
           "automargin": true,
           "gridcolor": "white",
           "linecolor": "white",
           "ticks": "",
           "title": {
            "standoff": 15
           },
           "zerolinecolor": "white",
           "zerolinewidth": 2
          },
          "yaxis": {
           "automargin": true,
           "gridcolor": "white",
           "linecolor": "white",
           "ticks": "",
           "title": {
            "standoff": 15
           },
           "zerolinecolor": "white",
           "zerolinewidth": 2
          }
         }
        },
        "xaxis": {
         "anchor": "y",
         "domain": [
          0.0,
          1.0
         ],
         "title": {
          "text": "Volume"
         }
        },
        "yaxis": {
         "anchor": "x",
         "domain": [
          0.0,
          1.0
         ],
         "title": {
          "text": "return"
         }
        },
        "coloraxis": {
         "colorbar": {
          "title": {
           "text": "Cluster"
          }
         },
         "colorscale": [
          [
           0.0,
           "#0d0887"
          ],
          [
           0.1111111111111111,
           "#46039f"
          ],
          [
           0.2222222222222222,
           "#7201a8"
          ],
          [
           0.3333333333333333,
           "#9c179e"
          ],
          [
           0.4444444444444444,
           "#bd3786"
          ],
          [
           0.5555555555555556,
           "#d8576b"
          ],
          [
           0.6666666666666666,
           "#ed7953"
          ],
          [
           0.7777777777777778,
           "#fb9f3a"
          ],
          [
           0.8888888888888888,
           "#fdca26"
          ],
          [
           1.0,
           "#f0f921"
          ]
         ]
        },
        "legend": {
         "tracegroupgap": 0
        },
        "margin": {
         "t": 60
        }
       },
       "config": {
        "plotlyServerURL": "https://plot.ly"
       }
      },
      "text/html": "<div>                            <div id=\"5f330d5f-94d7-4667-ac75-88e2a4f23d35\" class=\"plotly-graph-div\" style=\"height:525px; width:100%;\"></div>            <script type=\"text/javascript\">                require([\"plotly\"], function(Plotly) {                    window.PLOTLYENV=window.PLOTLYENV || {};                                    if (document.getElementById(\"5f330d5f-94d7-4667-ac75-88e2a4f23d35\")) {                    Plotly.newPlot(                        \"5f330d5f-94d7-4667-ac75-88e2a4f23d35\",                        [{\"hovertemplate\":\"Volume=%{x}<br>return=%{y}<br>index=%{text}<br>Cluster=%{marker.color}<extra></extra>\",\"legendgroup\":\"\",\"marker\":{\"color\":[3,4,4,4,0,2,2,4,0,4,4,4,0,4,0,4,4,4,4,4,2,0,4,0,0,4,0,4,4,4,4,4,4,4,4,4,4,4,4,4,4,4,4,4,4,4,2,4,2,4,4,4,4,4,4,1,4,4,4,4,0,4,4,4,4,4,0,4,4,4,4,4,4,4,4,4,4,4,4,4,4,0,4,4,4,4,4,4,4,4,4,4,4,4,4,4,0,4,4,0],\"coloraxis\":\"coloraxis\",\"symbol\":\"circle\"},\"mode\":\"markers+text\",\"name\":\"\",\"orientation\":\"v\",\"showlegend\":false,\"text\":[\"AAPL\",\"AAWW\",\"ABMD\",\"ACIW\",\"ADI\",\"AFRM\",\"AGNC\",\"ALHC\",\"AMAT\",\"AMLX\",\"APLS\",\"ARVN\",\"AZN\",\"BEAM\",\"BKR\",\"BL\",\"BRKR\",\"CASY\",\"CENT\",\"CG\",\"COIN\",\"CRWD\",\"CSGP\",\"DLO\",\"DLTR\",\"EA\",\"ERIC\",\"EXPD\",\"FANG\",\"GLPG\",\"GNTX\",\"HSIC\",\"IAC\",\"IEP\",\"ILMN\",\"INMD\",\"INSM\",\"IPGP\",\"ISEE\",\"JBHT\",\"KNBE\",\"LANC\",\"LBRDA\",\"LBRDK\",\"LESL\",\"LSXMB\",\"LYFT\",\"MANH\",\"META\",\"MIDD\",\"MRCY\",\"MTCH\",\"NBIX\",\"NCNO\",\"NSIT\",\"NVDA\",\"NXST\",\"OLED\",\"OMCL\",\"OZK\",\"PARA\",\"PDCE\",\"PENN\",\"PEP\",\"PPBI\",\"PTC\",\"RKLB\",\"RRR\",\"SBAC\",\"SBNY\",\"SBRA\",\"SEIC\",\"SHC\",\"SIVB\",\"SPT\",\"SRPT\",\"SSB\",\"SSRM\",\"SWAV\",\"SYNH\",\"TCBI\",\"TEAM\",\"TFSL\",\"TMUS\",\"TROW\",\"TSEM\",\"TTEC\",\"TTEK\",\"TW\",\"TWNK\",\"VERX\",\"VSAT\",\"WMG\",\"WOOF\",\"WSC\",\"XENE\",\"XP\",\"ZG\",\"ZLAB\",\"ZM\"],\"x\":[50053441,125662,714165,813742,2868841,11521022,10176734,376830,3116139,572929,740286,611272,2522890,319249,5011866,417401,229943,116748,30655,1310297,14154850,2363321,1462713,2723868,2341169,948398,5699715,1061891,2096660,92726,461727,693724,552888,440628,587333,782845,872788,124909,1624625,398263,450736,146515,465835,859180,1446143,119,14999635,104914,19240836,188951,215571,1456282,301786,648110,80431,39715635,156356,194033,326777,287240,7391591,425426,1157493,1569113,130400,494858,2577890,233169,509622,644802,1288943,187516,1915038,470714,333067,701931,146008,1134669,422523,808630,315853,2563536,247108,1999420,909661,389210,55016,135803,477949,745094,205018,184017,1640507,1808654,646406,386938,4758661,360959,290646,4678697],\"xaxis\":\"x\",\"y\":[0.0013839172220530367,0.0019044023782594426,-0.00038330920686792413,-0.007532127006529156,0.0004764380599958842,-0.003042204347680309,-0.0013753234993594229,-0.010215256968603157,0.0005792349093480983,0.005772179706584549,-0.0006521457063712224,-0.0011157957326213702,0.0010450192372543727,-0.0033195454615151925,0.004146967945723068,-0.010510902005447525,-0.0016432900563579575,-0.008072792851050349,9.271058530438804e-05,0.00022668278014751877,-0.0009036869681322363,-0.0008311958761377914,-0.0012619761558505453,-0.01126259615865606,0.004819271928919813,-0.008517701627460204,-0.0016699837633078717,-0.0012346180176750045,-0.002650538553234886,0.0010694595336019413,3.7447468492681683e-05,0.0012030700877845022,-0.0015041231492475147,-0.000335084871841766,-0.0016240352412810204,-0.014545351117201287,-0.0008823096020527902,-0.0024684574248167368,0.004941955224105563,-0.006222482454351556,0.00047861696739445736,-0.009070375527829999,-0.0017423903286784641,-0.00994631930421311,-0.0008111686090654214,0.0006467021944215911,-0.0008423472180791669,-0.0008731747014153946,-0.002868571481772656,-8.564867786675564e-05,0.0021616922818538534,-0.001249285258268616,0.00013464933491163727,-0.0015308236934773291,0.00100380120459495,0.002478611927739913,0.0020123397569603986,-0.0009383851648172162,-0.0008917347734697907,0.0005434303608332959,-0.0014411574803271932,0.005273424409494735,-0.003954041083004699,0.0005692797893430527,-5.3639489291648884e-05,-0.0011943043430748148,0.00023369438034751206,0.0009215805730179293,-0.00793034200782326,0.002276701064275562,-0.00039863935386429616,-0.007887990682511786,-0.0006230506900070483,0.0008955822056017563,-0.001631974292816132,0.00047414849014829855,0.0016490360969124835,0.0024264181165422672,-0.007544003149628538,-0.00014726905923857255,-0.00011982774306363854,-0.008349312739960792,-0.0011617147842482181,-0.00037764194450717935,-0.010555318243430948,0.004560491890272812,-0.001273721200975551,0.0018087605161231485,0.00029762559076848804,0.0024393439109606325,-0.002227962609509397,0.000289888581962726,0.00043084215458940873,0.00010834861406430594,0.002522524761885348,0.00674107559350135,-0.01046438259189648,-0.003516439744521902,-0.007162157912515853,-0.013640153978765425],\"yaxis\":\"y\",\"type\":\"scatter\"}],                        {\"template\":{\"data\":{\"bar\":[{\"error_x\":{\"color\":\"#2a3f5f\"},\"error_y\":{\"color\":\"#2a3f5f\"},\"marker\":{\"line\":{\"color\":\"#E5ECF6\",\"width\":0.5},\"pattern\":{\"fillmode\":\"overlay\",\"size\":10,\"solidity\":0.2}},\"type\":\"bar\"}],\"barpolar\":[{\"marker\":{\"line\":{\"color\":\"#E5ECF6\",\"width\":0.5},\"pattern\":{\"fillmode\":\"overlay\",\"size\":10,\"solidity\":0.2}},\"type\":\"barpolar\"}],\"carpet\":[{\"aaxis\":{\"endlinecolor\":\"#2a3f5f\",\"gridcolor\":\"white\",\"linecolor\":\"white\",\"minorgridcolor\":\"white\",\"startlinecolor\":\"#2a3f5f\"},\"baxis\":{\"endlinecolor\":\"#2a3f5f\",\"gridcolor\":\"white\",\"linecolor\":\"white\",\"minorgridcolor\":\"white\",\"startlinecolor\":\"#2a3f5f\"},\"type\":\"carpet\"}],\"choropleth\":[{\"colorbar\":{\"outlinewidth\":0,\"ticks\":\"\"},\"type\":\"choropleth\"}],\"contour\":[{\"colorbar\":{\"outlinewidth\":0,\"ticks\":\"\"},\"colorscale\":[[0.0,\"#0d0887\"],[0.1111111111111111,\"#46039f\"],[0.2222222222222222,\"#7201a8\"],[0.3333333333333333,\"#9c179e\"],[0.4444444444444444,\"#bd3786\"],[0.5555555555555556,\"#d8576b\"],[0.6666666666666666,\"#ed7953\"],[0.7777777777777778,\"#fb9f3a\"],[0.8888888888888888,\"#fdca26\"],[1.0,\"#f0f921\"]],\"type\":\"contour\"}],\"contourcarpet\":[{\"colorbar\":{\"outlinewidth\":0,\"ticks\":\"\"},\"type\":\"contourcarpet\"}],\"heatmap\":[{\"colorbar\":{\"outlinewidth\":0,\"ticks\":\"\"},\"colorscale\":[[0.0,\"#0d0887\"],[0.1111111111111111,\"#46039f\"],[0.2222222222222222,\"#7201a8\"],[0.3333333333333333,\"#9c179e\"],[0.4444444444444444,\"#bd3786\"],[0.5555555555555556,\"#d8576b\"],[0.6666666666666666,\"#ed7953\"],[0.7777777777777778,\"#fb9f3a\"],[0.8888888888888888,\"#fdca26\"],[1.0,\"#f0f921\"]],\"type\":\"heatmap\"}],\"heatmapgl\":[{\"colorbar\":{\"outlinewidth\":0,\"ticks\":\"\"},\"colorscale\":[[0.0,\"#0d0887\"],[0.1111111111111111,\"#46039f\"],[0.2222222222222222,\"#7201a8\"],[0.3333333333333333,\"#9c179e\"],[0.4444444444444444,\"#bd3786\"],[0.5555555555555556,\"#d8576b\"],[0.6666666666666666,\"#ed7953\"],[0.7777777777777778,\"#fb9f3a\"],[0.8888888888888888,\"#fdca26\"],[1.0,\"#f0f921\"]],\"type\":\"heatmapgl\"}],\"histogram\":[{\"marker\":{\"pattern\":{\"fillmode\":\"overlay\",\"size\":10,\"solidity\":0.2}},\"type\":\"histogram\"}],\"histogram2d\":[{\"colorbar\":{\"outlinewidth\":0,\"ticks\":\"\"},\"colorscale\":[[0.0,\"#0d0887\"],[0.1111111111111111,\"#46039f\"],[0.2222222222222222,\"#7201a8\"],[0.3333333333333333,\"#9c179e\"],[0.4444444444444444,\"#bd3786\"],[0.5555555555555556,\"#d8576b\"],[0.6666666666666666,\"#ed7953\"],[0.7777777777777778,\"#fb9f3a\"],[0.8888888888888888,\"#fdca26\"],[1.0,\"#f0f921\"]],\"type\":\"histogram2d\"}],\"histogram2dcontour\":[{\"colorbar\":{\"outlinewidth\":0,\"ticks\":\"\"},\"colorscale\":[[0.0,\"#0d0887\"],[0.1111111111111111,\"#46039f\"],[0.2222222222222222,\"#7201a8\"],[0.3333333333333333,\"#9c179e\"],[0.4444444444444444,\"#bd3786\"],[0.5555555555555556,\"#d8576b\"],[0.6666666666666666,\"#ed7953\"],[0.7777777777777778,\"#fb9f3a\"],[0.8888888888888888,\"#fdca26\"],[1.0,\"#f0f921\"]],\"type\":\"histogram2dcontour\"}],\"mesh3d\":[{\"colorbar\":{\"outlinewidth\":0,\"ticks\":\"\"},\"type\":\"mesh3d\"}],\"parcoords\":[{\"line\":{\"colorbar\":{\"outlinewidth\":0,\"ticks\":\"\"}},\"type\":\"parcoords\"}],\"pie\":[{\"automargin\":true,\"type\":\"pie\"}],\"scatter\":[{\"marker\":{\"colorbar\":{\"outlinewidth\":0,\"ticks\":\"\"}},\"type\":\"scatter\"}],\"scatter3d\":[{\"line\":{\"colorbar\":{\"outlinewidth\":0,\"ticks\":\"\"}},\"marker\":{\"colorbar\":{\"outlinewidth\":0,\"ticks\":\"\"}},\"type\":\"scatter3d\"}],\"scattercarpet\":[{\"marker\":{\"colorbar\":{\"outlinewidth\":0,\"ticks\":\"\"}},\"type\":\"scattercarpet\"}],\"scattergeo\":[{\"marker\":{\"colorbar\":{\"outlinewidth\":0,\"ticks\":\"\"}},\"type\":\"scattergeo\"}],\"scattergl\":[{\"marker\":{\"colorbar\":{\"outlinewidth\":0,\"ticks\":\"\"}},\"type\":\"scattergl\"}],\"scattermapbox\":[{\"marker\":{\"colorbar\":{\"outlinewidth\":0,\"ticks\":\"\"}},\"type\":\"scattermapbox\"}],\"scatterpolar\":[{\"marker\":{\"colorbar\":{\"outlinewidth\":0,\"ticks\":\"\"}},\"type\":\"scatterpolar\"}],\"scatterpolargl\":[{\"marker\":{\"colorbar\":{\"outlinewidth\":0,\"ticks\":\"\"}},\"type\":\"scatterpolargl\"}],\"scatterternary\":[{\"marker\":{\"colorbar\":{\"outlinewidth\":0,\"ticks\":\"\"}},\"type\":\"scatterternary\"}],\"surface\":[{\"colorbar\":{\"outlinewidth\":0,\"ticks\":\"\"},\"colorscale\":[[0.0,\"#0d0887\"],[0.1111111111111111,\"#46039f\"],[0.2222222222222222,\"#7201a8\"],[0.3333333333333333,\"#9c179e\"],[0.4444444444444444,\"#bd3786\"],[0.5555555555555556,\"#d8576b\"],[0.6666666666666666,\"#ed7953\"],[0.7777777777777778,\"#fb9f3a\"],[0.8888888888888888,\"#fdca26\"],[1.0,\"#f0f921\"]],\"type\":\"surface\"}],\"table\":[{\"cells\":{\"fill\":{\"color\":\"#EBF0F8\"},\"line\":{\"color\":\"white\"}},\"header\":{\"fill\":{\"color\":\"#C8D4E3\"},\"line\":{\"color\":\"white\"}},\"type\":\"table\"}]},\"layout\":{\"annotationdefaults\":{\"arrowcolor\":\"#2a3f5f\",\"arrowhead\":0,\"arrowwidth\":1},\"autotypenumbers\":\"strict\",\"coloraxis\":{\"colorbar\":{\"outlinewidth\":0,\"ticks\":\"\"}},\"colorscale\":{\"diverging\":[[0,\"#8e0152\"],[0.1,\"#c51b7d\"],[0.2,\"#de77ae\"],[0.3,\"#f1b6da\"],[0.4,\"#fde0ef\"],[0.5,\"#f7f7f7\"],[0.6,\"#e6f5d0\"],[0.7,\"#b8e186\"],[0.8,\"#7fbc41\"],[0.9,\"#4d9221\"],[1,\"#276419\"]],\"sequential\":[[0.0,\"#0d0887\"],[0.1111111111111111,\"#46039f\"],[0.2222222222222222,\"#7201a8\"],[0.3333333333333333,\"#9c179e\"],[0.4444444444444444,\"#bd3786\"],[0.5555555555555556,\"#d8576b\"],[0.6666666666666666,\"#ed7953\"],[0.7777777777777778,\"#fb9f3a\"],[0.8888888888888888,\"#fdca26\"],[1.0,\"#f0f921\"]],\"sequentialminus\":[[0.0,\"#0d0887\"],[0.1111111111111111,\"#46039f\"],[0.2222222222222222,\"#7201a8\"],[0.3333333333333333,\"#9c179e\"],[0.4444444444444444,\"#bd3786\"],[0.5555555555555556,\"#d8576b\"],[0.6666666666666666,\"#ed7953\"],[0.7777777777777778,\"#fb9f3a\"],[0.8888888888888888,\"#fdca26\"],[1.0,\"#f0f921\"]]},\"colorway\":[\"#636efa\",\"#EF553B\",\"#00cc96\",\"#ab63fa\",\"#FFA15A\",\"#19d3f3\",\"#FF6692\",\"#B6E880\",\"#FF97FF\",\"#FECB52\"],\"font\":{\"color\":\"#2a3f5f\"},\"geo\":{\"bgcolor\":\"white\",\"lakecolor\":\"white\",\"landcolor\":\"#E5ECF6\",\"showlakes\":true,\"showland\":true,\"subunitcolor\":\"white\"},\"hoverlabel\":{\"align\":\"left\"},\"hovermode\":\"closest\",\"mapbox\":{\"style\":\"light\"},\"paper_bgcolor\":\"white\",\"plot_bgcolor\":\"#E5ECF6\",\"polar\":{\"angularaxis\":{\"gridcolor\":\"white\",\"linecolor\":\"white\",\"ticks\":\"\"},\"bgcolor\":\"#E5ECF6\",\"radialaxis\":{\"gridcolor\":\"white\",\"linecolor\":\"white\",\"ticks\":\"\"}},\"scene\":{\"xaxis\":{\"backgroundcolor\":\"#E5ECF6\",\"gridcolor\":\"white\",\"gridwidth\":2,\"linecolor\":\"white\",\"showbackground\":true,\"ticks\":\"\",\"zerolinecolor\":\"white\"},\"yaxis\":{\"backgroundcolor\":\"#E5ECF6\",\"gridcolor\":\"white\",\"gridwidth\":2,\"linecolor\":\"white\",\"showbackground\":true,\"ticks\":\"\",\"zerolinecolor\":\"white\"},\"zaxis\":{\"backgroundcolor\":\"#E5ECF6\",\"gridcolor\":\"white\",\"gridwidth\":2,\"linecolor\":\"white\",\"showbackground\":true,\"ticks\":\"\",\"zerolinecolor\":\"white\"}},\"shapedefaults\":{\"line\":{\"color\":\"#2a3f5f\"}},\"ternary\":{\"aaxis\":{\"gridcolor\":\"white\",\"linecolor\":\"white\",\"ticks\":\"\"},\"baxis\":{\"gridcolor\":\"white\",\"linecolor\":\"white\",\"ticks\":\"\"},\"bgcolor\":\"#E5ECF6\",\"caxis\":{\"gridcolor\":\"white\",\"linecolor\":\"white\",\"ticks\":\"\"}},\"title\":{\"x\":0.05},\"xaxis\":{\"automargin\":true,\"gridcolor\":\"white\",\"linecolor\":\"white\",\"ticks\":\"\",\"title\":{\"standoff\":15},\"zerolinecolor\":\"white\",\"zerolinewidth\":2},\"yaxis\":{\"automargin\":true,\"gridcolor\":\"white\",\"linecolor\":\"white\",\"ticks\":\"\",\"title\":{\"standoff\":15},\"zerolinecolor\":\"white\",\"zerolinewidth\":2}}},\"xaxis\":{\"anchor\":\"y\",\"domain\":[0.0,1.0],\"title\":{\"text\":\"Volume\"}},\"yaxis\":{\"anchor\":\"x\",\"domain\":[0.0,1.0],\"title\":{\"text\":\"return\"}},\"coloraxis\":{\"colorbar\":{\"title\":{\"text\":\"Cluster\"}},\"colorscale\":[[0.0,\"#0d0887\"],[0.1111111111111111,\"#46039f\"],[0.2222222222222222,\"#7201a8\"],[0.3333333333333333,\"#9c179e\"],[0.4444444444444444,\"#bd3786\"],[0.5555555555555556,\"#d8576b\"],[0.6666666666666666,\"#ed7953\"],[0.7777777777777778,\"#fb9f3a\"],[0.8888888888888888,\"#fdca26\"],[1.0,\"#f0f921\"]]},\"legend\":{\"tracegroupgap\":0},\"margin\":{\"t\":60}},                        {\"responsive\": true}                    ).then(function(){\n                            \nvar gd = document.getElementById('5f330d5f-94d7-4667-ac75-88e2a4f23d35');\nvar x = new MutationObserver(function (mutations, observer) {{\n        var display = window.getComputedStyle(gd).display;\n        if (!display || display === 'none') {{\n            console.log([gd, 'removed!']);\n            Plotly.purge(gd);\n            observer.disconnect();\n        }}\n}});\n\n// Listen for the removal of the full notebook cells\nvar notebookContainer = gd.closest('#notebook-container');\nif (notebookContainer) {{\n    x.observe(notebookContainer, {childList: true});\n}}\n\n// Listen for the clearing of the current output cell\nvar outputEl = gd.closest('.output');\nif (outputEl) {{\n    x.observe(outputEl, {childList: true});\n}}\n\n                        })                };                });            </script>        </div>"
     },
     "metadata": {},
     "output_type": "display_data"
    }
   ],
   "source": [
    "K = 5\n",
    "clustering = KMeans(n_clusters=K).fit(df_encoded_2.values)\n",
    "clustering_labels = clustering.labels_\n",
    "df_encoded_2_plot = df_encoded_2.copy(deep=True)\n",
    "df_encoded_2_plot[\"Cluster\"] = clustering_labels\n",
    "df_encoded_2_plot[\"SYM\"] = df_encoded_2_plot.index\n",
    "\n",
    "fig = px.scatter(df_encoded_2_plot, x='Volume', y='return', color='Cluster', text=df_encoded_2_plot.index)\n",
    "fig.write_html(\"stocks.html\")\n",
    "fig.show()"
   ],
   "metadata": {
    "collapsed": false,
    "pycharm": {
     "name": "#%%\n"
    }
   }
  },
  {
   "cell_type": "code",
   "execution_count": 47,
   "outputs": [],
   "source": [
    "!open stocks.html"
   ],
   "metadata": {
    "collapsed": false,
    "pycharm": {
     "name": "#%%\n"
    }
   }
  },
  {
   "cell_type": "code",
   "execution_count": null,
   "outputs": [],
   "source": [
    "df_encoded_2_plot"
   ],
   "metadata": {
    "collapsed": false,
    "pycharm": {
     "name": "#%%\n"
    }
   }
  },
  {
   "cell_type": "code",
   "execution_count": 48,
   "outputs": [
    {
     "data": {
      "text/plain": "        Volume    return\nAMAT   3116139  0.000579\nNVDA  39715635  0.002479\nCOIN  14154850 -0.000904\nAAPL  50053441  0.001384\nARVN    611272 -0.001116",
      "text/html": "<div>\n<style scoped>\n    .dataframe tbody tr th:only-of-type {\n        vertical-align: middle;\n    }\n\n    .dataframe tbody tr th {\n        vertical-align: top;\n    }\n\n    .dataframe thead th {\n        text-align: right;\n    }\n</style>\n<table border=\"1\" class=\"dataframe\">\n  <thead>\n    <tr style=\"text-align: right;\">\n      <th></th>\n      <th>Volume</th>\n      <th>return</th>\n    </tr>\n  </thead>\n  <tbody>\n    <tr>\n      <th>AMAT</th>\n      <td>3116139</td>\n      <td>0.000579</td>\n    </tr>\n    <tr>\n      <th>NVDA</th>\n      <td>39715635</td>\n      <td>0.002479</td>\n    </tr>\n    <tr>\n      <th>COIN</th>\n      <td>14154850</td>\n      <td>-0.000904</td>\n    </tr>\n    <tr>\n      <th>AAPL</th>\n      <td>50053441</td>\n      <td>0.001384</td>\n    </tr>\n    <tr>\n      <th>ARVN</th>\n      <td>611272</td>\n      <td>-0.001116</td>\n    </tr>\n  </tbody>\n</table>\n</div>"
     },
     "execution_count": 48,
     "metadata": {},
     "output_type": "execute_result"
    }
   ],
   "source": [
    "from sklearn.metrics import pairwise_distances_argmin_min\n",
    "closest, _ = pairwise_distances_argmin_min(clustering.cluster_centers_, df_encoded_2.values)\n",
    "df_encoded_2.iloc[closest, :]"
   ],
   "metadata": {
    "collapsed": false,
    "pycharm": {
     "name": "#%%\n"
    }
   }
  },
  {
   "cell_type": "code",
   "execution_count": null,
   "outputs": [],
   "source": [
    "df_encoded_2"
   ],
   "metadata": {
    "collapsed": false,
    "pycharm": {
     "name": "#%%\n"
    }
   }
  },
  {
   "cell_type": "code",
   "execution_count": null,
   "outputs": [],
   "source": [
    "# df_encoded_2_plot[\"Symbol\"] =\n",
    "fig = px.scatter_3d(df_encoded_2_plot, x='Last Sale', y='Market Cap', z='return', color='Cluster', text=df_encoded_2_plot.index)\n",
    "fig.write_html(\"stocks_cluster_ret_risk.html\")\n",
    "fig.show()"
   ],
   "metadata": {
    "collapsed": false,
    "pycharm": {
     "name": "#%%\n"
    }
   }
  },
  {
   "cell_type": "code",
   "execution_count": null,
   "outputs": [],
   "source": [
    "!open stocks_cluster_ret_risk.html"
   ],
   "metadata": {
    "collapsed": false,
    "pycharm": {
     "name": "#%%\n"
    }
   }
  },
  {
   "cell_type": "markdown",
   "source": [
    "### Correlation Matrix"
   ],
   "metadata": {
    "collapsed": false,
    "pycharm": {
     "name": "#%% md\n"
    }
   }
  },
  {
   "cell_type": "code",
   "execution_count": null,
   "outputs": [],
   "source": [
    "df_encoded_2_corr = df_encoded_2.copy(deep=True)\n",
    "df_encoded_2_corr = df_encoded_2_corr.drop([\"Utilities\", \"Basic Materials\"], axis=1)\n",
    "df_cor = df_encoded_2_corr.corr()\n",
    "df_cor"
   ],
   "metadata": {
    "collapsed": false,
    "pycharm": {
     "name": "#%%\n"
    }
   }
  },
  {
   "cell_type": "code",
   "execution_count": null,
   "outputs": [],
   "source": [
    "plt.imshow(df_cor, cmap='hot', interpolation='none')\n",
    "plt.colorbar()\n",
    "plt.xticks(range(len(df_cor)), df_cor.columns, rotation=45)\n",
    "plt.yticks(range(len(df_cor)), df_cor.columns)\n",
    "plt.show()"
   ],
   "metadata": {
    "collapsed": false,
    "pycharm": {
     "name": "#%%\n"
    }
   }
  },
  {
   "cell_type": "code",
   "execution_count": null,
   "outputs": [],
   "source": [
    "df_encoded_2_plot[\"Symbol\"] = risk_return[\"Symbol\"]\n",
    "fig = px.scatter(df_encoded_2_plot, x='return', y='risk', text=\"Symbol\", color=\"Cluster\")\n",
    "fig.show()"
   ],
   "metadata": {
    "collapsed": false,
    "pycharm": {
     "name": "#%%\n"
    }
   }
  },
  {
   "cell_type": "code",
   "execution_count": null,
   "outputs": [],
   "source": [],
   "metadata": {
    "collapsed": false,
    "pycharm": {
     "name": "#%%\n"
    }
   }
  }
 ],
 "metadata": {
  "kernelspec": {
   "name": "lob-adversarial-attacks",
   "language": "python",
   "display_name": "lob-adversarial-attacks"
  },
  "language_info": {
   "codemirror_mode": {
    "name": "ipython",
    "version": 2
   },
   "file_extension": ".py",
   "mimetype": "text/x-python",
   "name": "python",
   "nbconvert_exporter": "python",
   "pygments_lexer": "ipython2",
   "version": "2.7.6"
  }
 },
 "nbformat": 4,
 "nbformat_minor": 0
}