{
 "cells": [
  {
   "cell_type": "code",
   "execution_count": null,
   "metadata": {
    "collapsed": true
   },
   "outputs": [],
   "source": [
    "import matplotlib.pyplot as plt\n",
    "import src.utils.utilities as util\n",
    "import src.constants as cst\n",
    "import os\n",
    "import numpy as np\n",
    "import seaborn as sb\n",
    "import pandas as pd\n",
    "\n",
    "\n",
    "print(\"CWD\", os.path.abspath(os.getcwd()))\n",
    "\n",
    "plt.rcParams[\"figure.figsize\"] = [16, 9]\n",
    "plt.rcParams[\"figure.dpi\"] = 300\n",
    "plt.rcParams[\"font.size\"] = 20\n",
    "plt.rcParams[\"axes.labelsize\"] = 20\n",
    "plt.rcParams[\"axes.titlesize\"] = 24\n",
    "plt.rcParams[\"xtick.labelsize\"] = 16\n",
    "plt.rcParams[\"ytick.labelsize\"] = 16\n",
    "plt.rcParams[\"font.family\"] = \"serif\""
   ]
  },
  {
   "cell_type": "code",
   "execution_count": null,
   "outputs": [],
   "source": [
    "PATH = \"../../data/experiments/LOB-CLASSIFIERS-(2023-01-21+13-18-47)/\"\n",
    "\n",
    "metrics = ['testing_FI_f1', 'testing_FI_precision', 'testing_FI_recall', 'testing_FI_accuracy', 'testing_FI_mcc']"
   ],
   "metadata": {
    "collapsed": false
   }
  },
  {
   "cell_type": "code",
   "execution_count": null,
   "outputs": [],
   "source": [
    "METRICS = np.zeros(shape=(len(cst.Models), len(cst.FI_Horizons), len(metrics)))\n",
    "for imod, mod in enumerate(cst.MODELS_YEAR_DICT):\n",
    "    for ik, k in enumerate(cst.FI_Horizons):\n",
    "        fname = \"model={}-trst=FI-test=FI-data=FI-peri=FI-bw=None-fw=None-fiw={}.json\".format(mod, k.value)\n",
    "        jsn = util.read_json(PATH + fname)\n",
    "\n",
    "        for imet, met in enumerate(metrics):\n",
    "            METRICS[imod, ik, imet] = jsn[met]"
   ],
   "metadata": {
    "collapsed": false
   }
  },
  {
   "cell_type": "code",
   "execution_count": null,
   "outputs": [],
   "source": [
    "METRICS_ORI = np.zeros(shape=(len(cst.Models), len(cst.FI_Horizons), len(metrics)))\n",
    "for imod, mod in enumerate(cst.MODELS_YEAR_DICT):\n",
    "    for ik, k in enumerate(cst.FI_Horizons):\n",
    "        for imet, met in enumerate(cst.metrics_name):\n",
    "            METRICS_ORI[imod, ik, imet] = cst.DECLARED_PERF[cst.Models[mod]][ik][imet]"
   ],
   "metadata": {
    "collapsed": false
   }
  },
  {
   "cell_type": "code",
   "execution_count": null,
   "outputs": [],
   "source": [
    "CMS = np.zeros(shape=(len(cst.Models), len(cst.FI_Horizons), 3, 3))\n",
    "for imod, mod in enumerate(cst.MODELS_YEAR_DICT):\n",
    "    for ik, k in enumerate(cst.FI_Horizons):\n",
    "        fname = \"model={}-trst=FI-test=FI-data=FI-peri=FI-bw=None-fw=None-fiw={}.json\".format(mod, k.value)\n",
    "        jsn = util.read_json(PATH + fname)\n",
    "        CMS[imod, ik] = np.array(jsn[\"cm\"])"
   ],
   "metadata": {
    "collapsed": false
   }
  },
  {
   "cell_type": "code",
   "execution_count": null,
   "outputs": [],
   "source": [
    "def make_grouped_histo(met_name, met_vec, met_vec_original=None):  #2d input\n",
    "    labels = [mod for mod in cst.MODELS_YEAR_DICT]\n",
    "\n",
    "    fmt = \"%.2f\"\n",
    "    miny, maxy = -1, 1\n",
    "    if \"MCC\" not in met_name:\n",
    "        met_vec = met_vec * 100\n",
    "        fmt=\"%d%%\"\n",
    "        miny, maxy = 0, 100\n",
    "\n",
    "    x = np.arange(len(labels)) * 5  # the label locations\n",
    "    width = 0.70  # the width of the bars\n",
    "\n",
    "    fig, ax = plt.subplots()\n",
    "\n",
    "    r1 = ax.bar(x - width * 2, met_vec[:,0], width, label='K=1' , color=util.sample_color(0, \"Set2\"))\n",
    "    r2 = ax.bar(x - width * 1, met_vec[:,1], width, label='K=2' , color=util.sample_color(1, \"Set2\"))\n",
    "    r3 = ax.bar(x - width * 0, met_vec[:,2], width, label='K=3' , color=util.sample_color(2, \"Set2\"))\n",
    "    r4 = ax.bar(x + width * 1, met_vec[:,3], width, label='K=5' , color=util.sample_color(3, \"Set2\"))\n",
    "    r5 = ax.bar(x + width * 2, met_vec[:,4], width, label='K=10', color=util.sample_color(4, \"Set2\"))\n",
    "\n",
    "    ax.bar_label(r1, padding=3, fmt=fmt, rotation=90, fontsize=10)\n",
    "    ax.bar_label(r2, padding=3, fmt=fmt, rotation=90, fontsize=10)\n",
    "    ax.bar_label(r3, padding=3, fmt=fmt, rotation=90, fontsize=10)\n",
    "    ax.bar_label(r4, padding=3, fmt=fmt, rotation=90, fontsize=10)\n",
    "    ax.bar_label(r5, padding=3, fmt=fmt, rotation=90, fontsize=10)\n",
    "\n",
    "    if met_vec_original is not None:\n",
    "        r11 = ax.bar(x - width * 2, met_vec_original[:,0], width, alpha=1, bottom=0, fill=False, edgecolor='black', label='original')\n",
    "        r21 = ax.bar(x - width * 1, met_vec_original[:,1], width, alpha=1, bottom=0, fill=False, edgecolor='black')\n",
    "        r31 = ax.bar(x - width * 0, met_vec_original[:,2], width, alpha=1, bottom=0, fill=False, edgecolor='black')\n",
    "        r41 = ax.bar(x + width * 1, met_vec_original[:,3], width, alpha=1, bottom=0, fill=False, edgecolor='black')\n",
    "        r51 = ax.bar(x + width * 2, met_vec_original[:,4], width, alpha=1, bottom=0, fill=False, edgecolor='black')\n",
    "\n",
    "        lab_met_vec_original = met_vec_original[:]\n",
    "        lab_met_vec_original = np.where((np.abs(lab_met_vec_original - met_vec) < 5), np.nan,  lab_met_vec_original)\n",
    "\n",
    "        r11lab = ax.bar(x - width * 2, lab_met_vec_original[:,0], width, alpha=0, bottom=0, fill=False)\n",
    "        r21lab = ax.bar(x - width * 1, lab_met_vec_original[:,1], width, alpha=0, bottom=0, fill=False)\n",
    "        r31lab = ax.bar(x - width * 0, lab_met_vec_original[:,2], width, alpha=0, bottom=0, fill=False)\n",
    "        r41lab = ax.bar(x + width * 1, lab_met_vec_original[:,3], width, alpha=0, bottom=0, fill=False)\n",
    "        r51lab = ax.bar(x + width * 2, lab_met_vec_original[:,4], width, alpha=0, bottom=0, fill=False)\n",
    "\n",
    "\n",
    "        ax.bar_label(r11lab, padding=3, fmt=fmt, rotation=90, fontsize=10)\n",
    "        ax.bar_label(r21lab, padding=3, fmt=fmt, rotation=90, fontsize=10)\n",
    "        ax.bar_label(r31lab, padding=3, fmt=fmt, rotation=90, fontsize=10)\n",
    "        ax.bar_label(r41lab, padding=3, fmt=fmt, rotation=90, fontsize=10)\n",
    "        ax.bar_label(r51lab, padding=3, fmt=fmt, rotation=90, fontsize=10)\n",
    "\n",
    "    # Add some text for labels, title and custom x-axis tick labels, etc.\n",
    "    ax.set_ylabel(met_name)\n",
    "    ax.set_title(\"FI-2010 \" + met_name)\n",
    "    ax.set_xticks(x, labels, rotation=30, ha=\"right\", rotation_mode=\"anchor\")\n",
    "\n",
    "    ax.legend(fontsize=14)\n",
    "\n",
    "    plt.ylim(miny, maxy)\n",
    "    fig.tight_layout()\n",
    "\n",
    "    plt.savefig(\"../../data/experiments/\" + met_name + \".pdf\")\n",
    "    plt.show()\n",
    "    plt.close(fig)"
   ],
   "metadata": {
    "collapsed": false
   }
  },
  {
   "cell_type": "code",
   "execution_count": null,
   "outputs": [],
   "source": [
    "for imet, met in enumerate(cst.metrics_name):\n",
    "    met_data = METRICS[:, :, imet]   # MODELS x K x METRICA\n",
    "    met_data_ori = METRICS_ORI[:,:, imet]\n",
    "    make_grouped_histo(met, met_data, met_data_ori)"
   ],
   "metadata": {
    "collapsed": false
   }
  },
  {
   "cell_type": "code",
   "execution_count": null,
   "outputs": [],
   "source": [
    "#fig, ax = plt.subplots(len(cst.MODELS_YEAR_DICT), len(cst.FI_Horizons)+1, figsize=(30, 30*2.2))\n",
    "import matplotlib.gridspec as gridspec\n",
    "\n",
    "fig = plt.figure(figsize=(30, 30*2.2))\n",
    "gs = gridspec.GridSpec(len(cst.MODELS_YEAR_DICT), len(cst.FI_Horizons)+1, width_ratios=[6 for _ in range(len(cst.FI_Horizons))] + [1], figure=fig)\n",
    "\n",
    "annot_kws={\n",
    "    'fontsize': 16,\n",
    "    'fontweight': 'bold',\n",
    "    'fontfamily': 'serif'\n",
    "}\n",
    "\n",
    "for imod, mod in enumerate(cst.MODELS_YEAR_DICT):\n",
    "    for ik, k in enumerate(cst.FI_Horizons):\n",
    "        cbar = False  # ik == 0 and imod == 0\n",
    "        csm_norm = CMS[imod, ik] / np.sum(CMS[imod, ik], axis=1)[:, None]\n",
    "\n",
    "        axi = fig.add_subplot(gs[imod, ik])\n",
    "        sb.heatmap(csm_norm, annot=True, ax=axi, cbar=cbar, fmt=\".2%\", cmap=\"Blues\", annot_kws=annot_kws)\n",
    "\n",
    "        axi.set_xticklabels([p.name for p in cst.Predictions], rotation=0,  fontsize=12)\n",
    "        axi.set_yticklabels([p.name for p in cst.Predictions], rotation=90, fontsize=12)\n",
    "\n",
    "        if imod == 0:\n",
    "            axi.set_title(\"K={}\".format(k.value), fontsize=30, fontweight=\"bold\", pad=25)\n",
    "\n",
    "        if ik == 0:\n",
    "            axi.set_ylabel(mod, fontsize=30, fontweight=\"bold\", labelpad=25)\n",
    "\n",
    "legend_ax = fig.add_subplot(gs[:, -1])\n",
    "\n",
    "sm = plt.cm.ScalarMappable(cmap=\"Blues\", norm=plt.Normalize(0, 100))\n",
    "sm.set_array([])\n",
    "\n",
    "fig.colorbar(sm, cax=legend_ax)\n",
    "\n",
    "fig.supylabel('Predicted', x=0.02, fontsize=25)\n",
    "fig.supxlabel('Real',      y=.965, fontsize=25)\n",
    "fig.suptitle('FI-2010 Confusion Matrix', y=.98, fontsize=30, fontweight=\"bold\")\n",
    "\n",
    "fig.tight_layout()\n",
    "fig.subplots_adjust(top=.95, left=.087)\n",
    "\n",
    "fig.savefig(\"../../data/experiments/cm-fi.pdf\")\n",
    "plt.show()\n",
    "plt.close(fig)"
   ],
   "metadata": {
    "collapsed": false
   }
  },
  {
   "cell_type": "code",
   "execution_count": null,
   "outputs": [],
   "source": [
    "def scatter_plot_year(met_name, met_data, mod_names):\n",
    "    X = cst.MODELS_YEAR_DICT.values()\n",
    "\n",
    "    fig = plt.figure(figsize=(16, 9))\n",
    "    df = pd.DataFrame(dict(id=cst.MODELS_YEAR_DICT.values(), data=met_data))\n",
    "    maxes = df.groupby('id')['data'].max()\n",
    "\n",
    "    plt.plot(maxes.index, maxes, color=\"red\", label=\"max\")\n",
    "    plt.scatter(cst.MODELS_YEAR_DICT.values(), met_data, color=\"red\")\n",
    "\n",
    "    for label, x, y in zip(mod_names, X, met_data):\n",
    "        plt.annotate(\n",
    "            label,\n",
    "            fontsize=20,\n",
    "            xy = (x, y), xytext = (+80, -40),\n",
    "            textcoords = 'offset points', ha = 'right', va = 'bottom',\n",
    "            bbox = dict(boxstyle = 'round, pad=0.5', fc = 'red', alpha = 0.3),\n",
    "            arrowprops = dict(arrowstyle = 'wedge', connectionstyle = 'arc3, rad=0'))\n",
    "\n",
    "    plt.xlabel('Year')\n",
    "    plt.ylabel(met_name)\n",
    "    plt.xticks([int(i) for i in maxes.index])\n",
    "    plt.legend(fontsize=20, loc=\"upper left\")\n",
    "    plt.title(\"FI-2010 {} in the Years\".format(met_name))\n",
    "    plt.tight_layout()\n",
    "    plt.savefig(\"../../data/experiments/year-\" + met_name + \".pdf\")\n",
    "    plt.show()\n",
    "    plt.close()"
   ],
   "metadata": {
    "collapsed": false
   }
  },
  {
   "cell_type": "code",
   "execution_count": null,
   "outputs": [],
   "source": [
    "for imet, met in enumerate(cst.metrics_name):\n",
    "    met_data = METRICS[:, :, imet]   # MODELS x K x METRICA\n",
    "    met_data_ori = METRICS_ORI[:,:, imet]\n",
    "    scatter_plot_year(met, np.max(met_data, axis=1), cst.MODELS_YEAR_DICT.keys())"
   ],
   "metadata": {
    "collapsed": false
   }
  }
 ],
 "metadata": {
  "kernelspec": {
   "display_name": "Python 3",
   "language": "python",
   "name": "python3"
  },
  "language_info": {
   "codemirror_mode": {
    "name": "ipython",
    "version": 2
   },
   "file_extension": ".py",
   "mimetype": "text/x-python",
   "name": "python",
   "nbconvert_exporter": "python",
   "pygments_lexer": "ipython2",
   "version": "2.7.6"
  }
 },
 "nbformat": 4,
 "nbformat_minor": 0
}
